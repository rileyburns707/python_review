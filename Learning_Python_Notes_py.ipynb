{
  "nbformat": 4,
  "nbformat_minor": 0,
  "metadata": {
    "colab": {
      "provenance": [],
      "collapsed_sections": [
        "yU3JpsRiooJB",
        "r4jMctozNnov",
        "Xj9KqXcOSuJw",
        "FPIJM4GAEcBs",
        "s-SHxBFSHKAT",
        "cFWXZvNYKDn4",
        "H6hruwsuLldZ",
        "9dN4uu36V8t5",
        "uaPS89nPZbMN",
        "bKwfSrU7cQxA",
        "ArBqsVudTSHF",
        "2mJO5q99dLhm",
        "8pWtdGtSw4JQ",
        "n1PKJ5nXuU-w",
        "jAesWeuj1ARg",
        "rjMxeAku5oJr",
        "P_WnI1XQIT0x",
        "vmdXPMwZK_v5",
        "0njnVMK2Nv0r",
        "-4RBJaWtgJS-",
        "WP7jUDP8jyVq",
        "csecY_g-Nja3",
        "b10asIwXR8oM",
        "2TkLwHLGt2xu",
        "dbP284oMaccd",
        "lRKAM_r3eU3l",
        "kp4jSQ9x0j52",
        "o_iqyv8V5cD7",
        "tGO5IX_4_0E0",
        "Yq42Mq4ItIwR",
        "Og_rhuiTvETJ",
        "xO6FuD-bym6P",
        "yz7XinQk1bIv",
        "wKr9Nf8TB3mN",
        "6qgq7beHGWQe",
        "k_qwUOojM9dS",
        "GGnHvJimQIW7",
        "ENjrHVLNUsy5",
        "uAD_SLSegLPD",
        "sTx0AUs3ixrd",
        "TGk0knEgqm4K",
        "QUkgCSe6vRrj",
        "ptwIhAe6zuHk"
      ],
      "authorship_tag": "ABX9TyPdFhfmQeVbJDDdJvBGJbRQ",
      "include_colab_link": true
    },
    "kernelspec": {
      "name": "python3",
      "display_name": "Python 3"
    },
    "language_info": {
      "name": "python"
    }
  },
  "cells": [
    {
      "cell_type": "markdown",
      "metadata": {
        "id": "view-in-github",
        "colab_type": "text"
      },
      "source": [
        "<a href=\"https://colab.research.google.com/github/rileyburns707/python_review/blob/master/Learning_Python_Notes_py.ipynb\" target=\"_parent\"><img src=\"https://colab.research.google.com/assets/colab-badge.svg\" alt=\"Open In Colab\"/></a>"
      ]
    },
    {
      "cell_type": "markdown",
      "source": [
        "# While Loops"
      ],
      "metadata": {
        "id": "yU3JpsRiooJB"
      }
    },
    {
      "cell_type": "markdown",
      "source": [
        "* Will execute some code *while* some condition remains true\n",
        "    * Kind of like an if statement, but instead of executing something once, it is potentially infinite\n",
        "    * Useful for user input. If user types in an input that is not valid, you can reprompt them"
      ],
      "metadata": {
        "id": "Iu_NqZTAoAN1"
      }
    },
    {
      "cell_type": "markdown",
      "source": [
        "**Examples**"
      ],
      "metadata": {
        "id": "Dz1kdemQpEea"
      }
    },
    {
      "cell_type": "code",
      "source": [
        "name = input(\"What is your name?: \")\n",
        "if name == \"\":\n",
        "  print(\"You did not enter your name\")\n",
        "else:\n",
        "  print(f\"Hello {name}\")"
      ],
      "metadata": {
        "colab": {
          "base_uri": "https://localhost:8080/"
        },
        "id": "Fuxty9VKJPU1",
        "outputId": "a18fe081-8b47-4638-c627-750db265d59c"
      },
      "execution_count": null,
      "outputs": [
        {
          "output_type": "stream",
          "name": "stdout",
          "text": [
            "What is your name?: \n",
            "You did not enter your name\n"
          ]
        }
      ]
    },
    {
      "cell_type": "markdown",
      "source": [
        "What if you wanted to continually ask the user to input their name until they type in something?\n"
      ],
      "metadata": {
        "id": "AL366gOxpM1B"
      }
    },
    {
      "cell_type": "code",
      "source": [
        "name = input(\"What is your name?: \")\n",
        "while name == \"\":\n",
        "  print(\"You did not enter your name\")\n",
        "  name = input(\"What is your name?: \")\n",
        "\n",
        "print(f\"Hello {name}\")"
      ],
      "metadata": {
        "colab": {
          "base_uri": "https://localhost:8080/"
        },
        "id": "nu2AbvPHJyua",
        "outputId": "3f884a7f-4fa9-4e2f-8e6a-7af35b534ed6"
      },
      "execution_count": null,
      "outputs": [
        {
          "output_type": "stream",
          "name": "stdout",
          "text": [
            "What is your name?: \n",
            "You did not enter your name\n",
            "What is your name?: \n",
            "You did not enter your name\n",
            "What is your name?: \n",
            "You did not enter your name\n",
            "What is your name?: Riley\n",
            "Hello Riley\n"
          ]
        }
      ]
    },
    {
      "cell_type": "markdown",
      "source": [
        "*   While name equals an empty string, run the code in the loop potentially forever until the condition of name == \"\" is no longer true. Then you continue on in the code\n",
        "*   If it is not true, then you exit out of the while loop. If it is true, then you stay in the while loop"
      ],
      "metadata": {
        "id": "dAsihS53KWgt"
      }
    },
    {
      "cell_type": "markdown",
      "source": [
        "## Infinite Loops\n",
        "*   You do want some way to exit the while loop, unless you will create an infite loop\n",
        "\n"
      ],
      "metadata": {
        "id": "CNhUt6jXK-0d"
      }
    },
    {
      "cell_type": "code",
      "source": [
        "name = input(\"What is your name?: \")  # DO NOT RUN THIS\n",
        "while name == \"\":\n",
        "  print(\"You did not enter your name\")\n",
        "\n",
        "print(f\"Hello {name}\")"
      ],
      "metadata": {
        "id": "pon66JUILTyi"
      },
      "execution_count": null,
      "outputs": []
    },
    {
      "cell_type": "markdown",
      "source": [
        "* This is an infite loop because we did not give ourselves an exit strategy\n",
        "  * Reprompting the user is an exit strategy because it updates the variable in the condition we are checking"
      ],
      "metadata": {
        "id": "Fh9KrMEdLZbn"
      }
    },
    {
      "cell_type": "markdown",
      "source": [
        "**Examples**"
      ],
      "metadata": {
        "id": "Hw_meBg8MU1O"
      }
    },
    {
      "cell_type": "code",
      "source": [
        "food = input(\"Enter a food you like (q to quit): \")\n",
        "while not food == \"q\":\n",
        "  print(f\"You like {food}\")\n",
        "  food = input(\"Enter another food you like: \")\n",
        "\n",
        "print(f\"Bye :)\")"
      ],
      "metadata": {
        "colab": {
          "base_uri": "https://localhost:8080/"
        },
        "id": "UT2emQhjMZMi",
        "outputId": "41f292bc-cb9f-4d51-fd7e-3d649f06e7f7"
      },
      "execution_count": null,
      "outputs": [
        {
          "output_type": "stream",
          "name": "stdout",
          "text": [
            "Enter a food you like (q to quit): pizza\n",
            "You like pizza\n",
            "Enter another food you like: sushi\n",
            "You like sushi\n",
            "Enter another food you like: q\n",
            "Bye :)\n"
          ]
        }
      ]
    },
    {
      "cell_type": "code",
      "source": [
        "num = int(input(\"Enter a number between 1 - 10: \"))\n",
        "while num < 1 or num > 10:\n",
        "  print(f\"{num} is not valid\")\n",
        "  num = int(input(\"Enter a number between 1 - 10: \"))\n",
        "\n",
        "print(f\"You chose number {num}\")"
      ],
      "metadata": {
        "colab": {
          "base_uri": "https://localhost:8080/"
        },
        "id": "nDB6z57xM4eG",
        "outputId": "b0c4b8ca-83c9-4a86-cead-7407b064dc84"
      },
      "execution_count": null,
      "outputs": [
        {
          "output_type": "stream",
          "name": "stdout",
          "text": [
            "Enter a number between 1 - 10: -1\n",
            "-1 is not valid\n",
            "Enter a number between 1 - 10: 15\n",
            "15 is not valid\n",
            "Enter a number between 1 - 10: 5\n",
            "You chose number 5\n"
          ]
        }
      ]
    },
    {
      "cell_type": "markdown",
      "source": [
        "# Compound Interest Calcuator"
      ],
      "metadata": {
        "id": "r4jMctozNnov"
      }
    },
    {
      "cell_type": "markdown",
      "source": [
        "* This will be soley an example and no new concepts will be taught\n",
        "* Formula we will use\n",
        "  * A = P * [1 + (r/n) ]^t\n",
        "    * A = final amount\n",
        "    * P = initial principle balance\n",
        "    * r = interest rate\n",
        "    * t = number of time periods elapsed\n"
      ],
      "metadata": {
        "id": "D0lF1uMWNwkR"
      }
    },
    {
      "cell_type": "code",
      "source": [
        "principle = 0\n",
        "rate = 0\n",
        "time = 0\n",
        "\n",
        "while principle <= 0:\n",
        "  principle = float(input(\"Enter the principle amount: \"))\n",
        "  if principle <= 0:\n",
        "    print(\"Principle can't be less than or equal to 0\")\n",
        "\n",
        "while rate <= 0:\n",
        "  rate = float(input(\"Enter the interest rate: \"))\n",
        "  if rate <= 0:\n",
        "    print(\"Interest rate can't be less than or equal to 0\")\n",
        "\n",
        "while time <= 0:\n",
        "  time = int(input(\"Enter the time in years: \"))\n",
        "  if time <= 0:\n",
        "    print(\"Time can't be less than or equal to 0\")\n",
        "\n",
        "total = principle * pow((1 + (rate/100)), time)\n",
        "print(f\"Balance after {time} years: ${total: .2f}\")"
      ],
      "metadata": {
        "colab": {
          "base_uri": "https://localhost:8080/"
        },
        "id": "zwLJo-AIOC_w",
        "outputId": "c6d1032a-b754-469a-d2ea-e0888de47320"
      },
      "execution_count": null,
      "outputs": [
        {
          "output_type": "stream",
          "name": "stdout",
          "text": [
            "Enter the principle amount: 1000\n",
            "Enter the interest rate: 4\n",
            "Enter the time in years: 3\n",
            "Balance after 3 years: $ 1124.86\n"
          ]
        }
      ]
    },
    {
      "cell_type": "markdown",
      "source": [
        "OR"
      ],
      "metadata": {
        "id": "5dQ9aiX3RLZj"
      }
    },
    {
      "cell_type": "code",
      "source": [
        "principle = 0\n",
        "rate = 0\n",
        "time = 0\n",
        "\n",
        "while principle < 0:\n",
        "  principle = float(input(\"Enter the principle amount: \"))\n",
        "  if principle < 0:\n",
        "    print(\"Principle can't be less than or equal to 0\")\n",
        "\n",
        "while rate < 0:\n",
        "  rate = float(input(\"Enter the interest rate: \"))\n",
        "  if rate < 0:\n",
        "    print(\"Interest rate can't be less than or equal to 0\")\n",
        "\n",
        "while time < 0:\n",
        "  time = int(input(\"Enter the time in years: \"))\n",
        "  if time < 0:\n",
        "    print(\"Time can't be less than or equal to 0\")\n",
        "\n",
        "total = principle * pow((1 + (rate/100)), time)\n",
        "print(f\"Balance after {time} years: ${total: .2f}\")"
      ],
      "metadata": {
        "colab": {
          "base_uri": "https://localhost:8080/"
        },
        "id": "UebxrtAZRMvi",
        "outputId": "5b88d2b6-df14-4e7c-f3f0-19df732c9375"
      },
      "execution_count": null,
      "outputs": [
        {
          "output_type": "stream",
          "name": "stdout",
          "text": [
            "Balance after 0 years: $ 0.00\n"
          ]
        }
      ]
    },
    {
      "cell_type": "markdown",
      "source": [
        "By not having the while loops <= 0 it skips the while loops and jumps to the end because the variables are defined as 0\n",
        "  * You need to change the variation of the while loop to fix this"
      ],
      "metadata": {
        "id": "ucr6HmKLRUg9"
      }
    },
    {
      "cell_type": "code",
      "source": [
        "principle = 0\n",
        "rate = 0\n",
        "time = 0\n",
        "\n",
        "while True:   # means this while loop while continue forever unless we break out of it\n",
        "  principle = float(input(\"Enter the principle amount: \"))\n",
        "  if principle < 0:\n",
        "    print(\"Principle can't be less than 0\")\n",
        "  else:\n",
        "    break\n",
        "\n",
        "while True:\n",
        "  rate = float(input(\"Enter the interest rate: \"))\n",
        "  if rate < 0:\n",
        "    print(\"Interest rate can't be less than 0\")\n",
        "  else:\n",
        "    break\n",
        "\n",
        "while True:\n",
        "  time = int(input(\"Enter the time in years: \"))\n",
        "  if time < 0:\n",
        "    print(\"Time can't be less than 0\")\n",
        "  else:\n",
        "    break\n",
        "\n",
        "total = principle * pow((1 + (rate/100)), time)\n",
        "print(f\"Balance after {time} years: ${total: .2f}\")"
      ],
      "metadata": {
        "colab": {
          "base_uri": "https://localhost:8080/"
        },
        "id": "zEEtdpWjRnwy",
        "outputId": "898dc068-05a2-4dff-82e2-a28a7ecfd731"
      },
      "execution_count": null,
      "outputs": [
        {
          "output_type": "stream",
          "name": "stdout",
          "text": [
            "Enter the principle amount: -1\n",
            "Principle can't be less than 0\n",
            "Enter the principle amount: -5\n",
            "Principle can't be less than 0\n",
            "Enter the principle amount: 0\n",
            "Enter the interest rate: 0\n",
            "Enter the time in years: 0\n",
            "Balance after 0 years: $ 0.00\n"
          ]
        }
      ]
    },
    {
      "cell_type": "markdown",
      "source": [
        "# For Loops"
      ],
      "metadata": {
        "id": "Xj9KqXcOSuJw"
      }
    },
    {
      "cell_type": "markdown",
      "source": [
        "* A for loop will execute a code a fixed number of times\n",
        "  * You can iterate over anything that is considered iterable\n",
        "    * range, string, sequence, etc.\n",
        "* There is alot of over lap between a \"for loop\" and a \"while loop\"\n",
        "  * \"for loop\" is good for situations when you have to do things a *fixed number of times*\n",
        "* Format\n",
        "  * for x in y\n"
      ],
      "metadata": {
        "id": "GGpGWQjeSyZr"
      }
    },
    {
      "cell_type": "markdown",
      "source": [
        "**Examples**"
      ],
      "metadata": {
        "id": "5JSTFXtNTUHN"
      }
    },
    {
      "cell_type": "markdown",
      "source": [
        "### range()"
      ],
      "metadata": {
        "id": "qGNrJsq0UbXT"
      }
    },
    {
      "cell_type": "code",
      "source": [
        "# Counting to 10\n",
        "for x in range(1, 11):  # second number is exclusive\n",
        "  print(x)\n",
        "\n",
        "print(\"Happy New Year!\")"
      ],
      "metadata": {
        "colab": {
          "base_uri": "https://localhost:8080/"
        },
        "id": "B01hZX2ZTWxH",
        "outputId": "56b05033-147a-4435-ac3a-866139c2f265"
      },
      "execution_count": null,
      "outputs": [
        {
          "output_type": "stream",
          "name": "stdout",
          "text": [
            "1\n",
            "2\n",
            "3\n",
            "4\n",
            "5\n",
            "6\n",
            "7\n",
            "8\n",
            "9\n",
            "10\n",
            "Happy New Year!\n"
          ]
        }
      ]
    },
    {
      "cell_type": "code",
      "source": [
        "# Counting backwards\n",
        "for x in reversed(range(1, 11)):  # second number is exclusive\n",
        "  print(x)\n",
        "\n",
        "print(\"Happy New Year!\")"
      ],
      "metadata": {
        "id": "MsVFrDEKTo3Y"
      },
      "execution_count": null,
      "outputs": []
    },
    {
      "cell_type": "code",
      "source": [
        "for x in range(1, 11, 2):  # Range parameters are (start, end, step)\n",
        "  print(x)\n",
        "\n",
        "print(\"Happy New Year!\")"
      ],
      "metadata": {
        "colab": {
          "base_uri": "https://localhost:8080/"
        },
        "id": "uD4nsXhfUTOD",
        "outputId": "4353d511-4be0-436d-cd61-de6a8c74c515"
      },
      "execution_count": null,
      "outputs": [
        {
          "output_type": "stream",
          "name": "stdout",
          "text": [
            "1\n",
            "3\n",
            "5\n",
            "7\n",
            "9\n",
            "Happy New Year!\n"
          ]
        }
      ]
    },
    {
      "cell_type": "markdown",
      "source": [
        "### str()"
      ],
      "metadata": {
        "id": "iFEj4Rz9UZoZ"
      }
    },
    {
      "cell_type": "code",
      "source": [
        "credit_card = \"1234-5678-9012-3456\"\n",
        "for x in credit_card:\n",
        "  print(x)"
      ],
      "metadata": {
        "colab": {
          "base_uri": "https://localhost:8080/"
        },
        "id": "m_-3URIUUf-L",
        "outputId": "467eab93-0748-4278-e5f0-6a1b298dca92"
      },
      "execution_count": null,
      "outputs": [
        {
          "output_type": "stream",
          "name": "stdout",
          "text": [
            "1\n",
            "2\n",
            "3\n",
            "4\n",
            "-\n",
            "5\n",
            "6\n",
            "7\n",
            "8\n",
            "-\n",
            "9\n",
            "0\n",
            "1\n",
            "2\n",
            "-\n",
            "3\n",
            "4\n",
            "5\n",
            "6\n"
          ]
        }
      ]
    },
    {
      "cell_type": "markdown",
      "source": [
        "### continue() and break()"
      ],
      "metadata": {
        "id": "dVliy8UrU3Ni"
      }
    },
    {
      "cell_type": "code",
      "source": [
        "for x in range(1, 21):\n",
        "  if x == 13:   # skips 13\n",
        "    continue    # continues the code\n",
        "  else:\n",
        "    print(x)"
      ],
      "metadata": {
        "id": "EpmUVJ8tVFag",
        "colab": {
          "base_uri": "https://localhost:8080/"
        },
        "outputId": "46f34cb3-11b0-45ed-f5d8-d34f0a860ace"
      },
      "execution_count": null,
      "outputs": [
        {
          "output_type": "stream",
          "name": "stdout",
          "text": [
            "1\n",
            "2\n",
            "3\n",
            "4\n",
            "5\n",
            "6\n",
            "7\n",
            "8\n",
            "9\n",
            "10\n",
            "11\n",
            "12\n",
            "14\n",
            "15\n",
            "16\n",
            "17\n",
            "18\n",
            "19\n",
            "20\n"
          ]
        }
      ]
    },
    {
      "cell_type": "code",
      "source": [
        "for x in range(1, 21):\n",
        "  if x == 13:   # skips 13\n",
        "    break    # stops the code\n",
        "  else:\n",
        "    print(x)"
      ],
      "metadata": {
        "colab": {
          "base_uri": "https://localhost:8080/"
        },
        "id": "PRvzqJogEFx4",
        "outputId": "e0ec4c22-3acf-4a1e-81d5-b0ec56b92b8e"
      },
      "execution_count": null,
      "outputs": [
        {
          "output_type": "stream",
          "name": "stdout",
          "text": [
            "1\n",
            "2\n",
            "3\n",
            "4\n",
            "5\n",
            "6\n",
            "7\n",
            "8\n",
            "9\n",
            "10\n",
            "11\n",
            "12\n"
          ]
        }
      ]
    },
    {
      "cell_type": "markdown",
      "source": [
        "# Countdown Timer"
      ],
      "metadata": {
        "id": "FPIJM4GAEcBs"
      }
    },
    {
      "cell_type": "code",
      "source": [
        "import time\n",
        "\n",
        "my_time = int(input(\"Enter the time in seconds: \"))\n",
        "\n",
        "for x in range(my_time,0, -1):  # step = -1 makes it count in reverse. Could also have put the range in the \"reversed()\" function\n",
        "  print(x)\n",
        "  time.sleep(1)\n",
        "\n",
        "print(\"TIME'S UP!\")"
      ],
      "metadata": {
        "colab": {
          "base_uri": "https://localhost:8080/"
        },
        "id": "JvtO0ZclE6yc",
        "outputId": "f137e3ee-f10f-4b88-8492-373463878bea"
      },
      "execution_count": null,
      "outputs": [
        {
          "output_type": "stream",
          "name": "stdout",
          "text": [
            "Enter the time in seconds: 3\n",
            "3\n",
            "2\n",
            "1\n",
            "TIME'S UP!\n"
          ]
        }
      ]
    },
    {
      "cell_type": "markdown",
      "source": [
        "What if you want a more formal digital clock look"
      ],
      "metadata": {
        "id": "Jitiv6oWFtC8"
      }
    },
    {
      "cell_type": "code",
      "source": [
        "import time\n",
        "\n",
        "my_time = int(input(\"Enter the time in seconds: \"))\n",
        "\n",
        "for x in range(my_time,0, -1):  # step = -1 makes it count in reverse. Could also have put the range in the \"reversed()\" function\n",
        "  seconds = x % 60\n",
        "  minutes = int(x / 60) % 60\n",
        "  hours = int(x / 3600) % 24    # 3600 seconds in an hour\n",
        "  print(f\"{hours:02}:{minutes:02}:{seconds:02}\")   # \":02\" zero padded the seconds. The 2 means 2 digits and the 0 zero pads it\n",
        "  time.sleep(1)\n",
        "\n",
        "print(\"TIME'S UP!\")"
      ],
      "metadata": {
        "colab": {
          "base_uri": "https://localhost:8080/"
        },
        "id": "CnvG7OrNFw6f",
        "outputId": "cd15193d-8a43-4174-b158-2b20a0545d2b"
      },
      "execution_count": null,
      "outputs": [
        {
          "output_type": "stream",
          "name": "stdout",
          "text": [
            "Enter the time in seconds: 11\n",
            "00:00:11\n",
            "00:00:10\n",
            "00:00:09\n",
            "00:00:08\n",
            "00:00:07\n",
            "00:00:06\n",
            "00:00:05\n",
            "00:00:04\n",
            "00:00:03\n",
            "00:00:02\n",
            "00:00:01\n",
            "TIME'S UP!\n"
          ]
        }
      ]
    },
    {
      "cell_type": "markdown",
      "source": [
        "# Nested Loops"
      ],
      "metadata": {
        "id": "s-SHxBFSHKAT"
      }
    },
    {
      "cell_type": "markdown",
      "source": [
        "* A loop within another loop\n",
        "* Two kinds of loops in a nested loop, outer loop and inner loop\n",
        "* Format\n",
        "  * outer loop:\n",
        "    * inner loop:\n",
        "* You can have a while loop inside a while loop. A for loop inside a for loop. While inside a for, a for inside a while, etc."
      ],
      "metadata": {
        "id": "qvBkeb4sHMnX"
      }
    },
    {
      "cell_type": "markdown",
      "source": [
        "**Examples**"
      ],
      "metadata": {
        "id": "uue2M71BH8wo"
      }
    },
    {
      "cell_type": "code",
      "source": [
        "# Displaying the numbers 1-9, 3 times\n",
        "for x in range(3):\n",
        "  for y in range(1, 10):  # counters have to be different. This is why the second loop has y instead of x. We are printing y as well\n",
        "    print(y, end=\" \")\n",
        "  print()                 # prints a new line ever time the outer loop is run"
      ],
      "metadata": {
        "colab": {
          "base_uri": "https://localhost:8080/"
        },
        "id": "uSoRdynrIAYM",
        "outputId": "87b41292-c8c5-431b-d0de-693dc5c53467"
      },
      "execution_count": null,
      "outputs": [
        {
          "output_type": "stream",
          "name": "stdout",
          "text": [
            "1 2 3 4 5 6 7 8 9 \n",
            "1 2 3 4 5 6 7 8 9 \n",
            "1 2 3 4 5 6 7 8 9 \n"
          ]
        }
      ]
    },
    {
      "cell_type": "markdown",
      "source": [
        "Creating a rectangle from user input"
      ],
      "metadata": {
        "id": "iA7TSkZ4JFC6"
      }
    },
    {
      "cell_type": "code",
      "source": [
        "rows = int(input(\"Enter the number of rows: \"))\n",
        "columns = int(input(\"Enter the number of columns: \"))\n",
        "symbol = input(\"Enter a symbol to use: \")\n",
        "\n",
        "for x in range(rows):\n",
        "  for y in range(columns):\n",
        "    print(symbol, end=\"\")\n",
        "  print()"
      ],
      "metadata": {
        "colab": {
          "base_uri": "https://localhost:8080/"
        },
        "id": "Niq5CZIwJHWx",
        "outputId": "40a0a4c2-572e-4303-d406-06036839c9f5"
      },
      "execution_count": null,
      "outputs": [
        {
          "output_type": "stream",
          "name": "stdout",
          "text": [
            "Enter the number of rows: 4\n",
            "Enter the number of columns: 10\n",
            "Enter a symbol to use: *\n",
            "**********\n",
            "**********\n",
            "**********\n",
            "**********\n"
          ]
        }
      ]
    },
    {
      "cell_type": "markdown",
      "source": [
        "# Collections"
      ],
      "metadata": {
        "id": "cFWXZvNYKDn4"
      }
    },
    {
      "cell_type": "markdown",
      "source": [
        "A collection is a single \"variable\" used to store multiple values\n",
        "\n",
        "4 general purpose collections, we will go over 3 of them\n",
        "\n",
        "1.   List\n",
        "  * Uses [ ]\n",
        "  * A list is ordered and changeable\n",
        "  * Duplicates OK\n",
        "2.   Set\n",
        "  * Uses { }\n",
        "  * A set is unordered and immutable (unalterable), but Add/Remove is okay\n",
        "  * NO duplicates\n",
        "3.   Tuple\n",
        "  * Uses ( )\n",
        "  * A tuple is ordered and unnchangeable\n",
        "  * Duplicates OK\n",
        "  * Faster than lists\n",
        "\n",
        "\n",
        "You can iterate through collections using a for loop\n"
      ],
      "metadata": {
        "id": "xlgA50nqKE7S"
      }
    },
    {
      "cell_type": "markdown",
      "source": [
        "## Lists\n",
        "**List Examples**"
      ],
      "metadata": {
        "id": "H6hruwsuLldZ"
      }
    },
    {
      "cell_type": "code",
      "source": [
        "# Regular variable\n",
        "fruit1 = \"apple\"\n",
        "fruit2 = \"orange\"\n",
        "fruit3 = \"melon\"\n",
        "print(fruit1, fruit2, fruit3)"
      ],
      "metadata": {
        "colab": {
          "base_uri": "https://localhost:8080/"
        },
        "id": "av3rdNRGLjyE",
        "outputId": "044e03f5-9f6b-4e82-c9d4-67adadf8fe9a"
      },
      "execution_count": null,
      "outputs": [
        {
          "output_type": "stream",
          "name": "stdout",
          "text": [
            "apple orange melon\n"
          ]
        }
      ]
    },
    {
      "cell_type": "code",
      "source": [
        "# Using list variable\n",
        "fruits = [\"apple\", \"orange\", \"melon\"]   # good practice to make collection variable names plural\n",
        "print(fruits)\n",
        "print()\n",
        "\n",
        "# print indexes\n",
        "print(fruits[0])\n",
        "print(fruits[1])\n",
        "print(fruits[2])"
      ],
      "metadata": {
        "colab": {
          "base_uri": "https://localhost:8080/"
        },
        "id": "88sfSxUIL28-",
        "outputId": "be8e0b54-606c-414e-b125-1194d0e9c175"
      },
      "execution_count": null,
      "outputs": [
        {
          "output_type": "stream",
          "name": "stdout",
          "text": [
            "['apple', 'orange', 'melon']\n",
            "\n",
            "apple\n",
            "orange\n",
            "melon\n"
          ]
        }
      ]
    },
    {
      "cell_type": "code",
      "source": [
        "# Using [start, end, step]\n",
        "fruits = [\"apple\", \"orange\", \"melon\", \"banana\"]\n",
        "print(fruits[::2])\n",
        "print()\n",
        "\n",
        "print(fruits[1::2])\n",
        "print()\n",
        "\n",
        "print(fruits[::-1])"
      ],
      "metadata": {
        "colab": {
          "base_uri": "https://localhost:8080/"
        },
        "id": "L8IdB1BlMu2O",
        "outputId": "6b08184d-f358-4d02-a30e-9f5f46b7d154"
      },
      "execution_count": null,
      "outputs": [
        {
          "output_type": "stream",
          "name": "stdout",
          "text": [
            "['apple', 'melon']\n",
            "\n",
            "['orange', 'banana']\n",
            "\n",
            "['banana', 'melon', 'orange', 'apple']\n"
          ]
        }
      ]
    },
    {
      "cell_type": "code",
      "source": [
        "# Using a for loop\n",
        "fruits = [\"apple\", \"orange\", \"melon\", \"banana\"]\n",
        "for x in fruits:\n",
        "  print(x)\n",
        "\n",
        "print(\"OR\")\n",
        "for fruit in fruits:    # changed x to fruit for readability\n",
        "  print(x)"
      ],
      "metadata": {
        "colab": {
          "base_uri": "https://localhost:8080/"
        },
        "id": "ojoRYuJuNUoW",
        "outputId": "ab87a1d6-b62b-4f17-c6a6-c5814f92d9d2"
      },
      "execution_count": null,
      "outputs": [
        {
          "output_type": "stream",
          "name": "stdout",
          "text": [
            "apple\n",
            "orange\n",
            "melon\n",
            "banana\n"
          ]
        }
      ]
    },
    {
      "cell_type": "code",
      "source": [
        "# to list the different methods availabile to a collection you can do this\n",
        "print(dir(fruits))\n",
        "\n",
        "# if you want a description of all the methods print this\n",
        "print(help(fruits))"
      ],
      "metadata": {
        "colab": {
          "base_uri": "https://localhost:8080/"
        },
        "id": "2Yq_FEjkNux6",
        "outputId": "95d8a02e-6c54-4e02-9ded-9d2c9a1361ca"
      },
      "execution_count": null,
      "outputs": [
        {
          "output_type": "stream",
          "name": "stdout",
          "text": [
            "['__add__', '__class__', '__class_getitem__', '__contains__', '__delattr__', '__delitem__', '__dir__', '__doc__', '__eq__', '__format__', '__ge__', '__getattribute__', '__getitem__', '__getstate__', '__gt__', '__hash__', '__iadd__', '__imul__', '__init__', '__init_subclass__', '__iter__', '__le__', '__len__', '__lt__', '__mul__', '__ne__', '__new__', '__reduce__', '__reduce_ex__', '__repr__', '__reversed__', '__rmul__', '__setattr__', '__setitem__', '__sizeof__', '__str__', '__subclasshook__', 'append', 'clear', 'copy', 'count', 'extend', 'index', 'insert', 'pop', 'remove', 'reverse', 'sort']\n"
          ]
        }
      ]
    },
    {
      "cell_type": "code",
      "source": [
        "# random examples\n",
        "fruits = [\"apple\", \"orange\", \"melon\", \"banana\"]\n",
        "print(len(fruits))  # length\n",
        "print()\n",
        "fruits = [\"apple\", \"orange\", \"melon\", \"banana\", \"pineapple\"]\n",
        "print(len(fruits))\n",
        "\n",
        "print(\"apple\" in fruits)  # in operator returns a boolean that checks if the variable is in the collector"
      ],
      "metadata": {
        "colab": {
          "base_uri": "https://localhost:8080/"
        },
        "id": "hrpHALISOLKg",
        "outputId": "d63cf2b6-6622-496c-f256-da01fbfffd3c"
      },
      "execution_count": null,
      "outputs": [
        {
          "output_type": "stream",
          "name": "stdout",
          "text": [
            "4\n",
            "\n",
            "5\n",
            "True\n"
          ]
        }
      ]
    },
    {
      "cell_type": "markdown",
      "source": [
        "lists are changeable. Meaning you can change the value"
      ],
      "metadata": {
        "id": "gzk71lIdOULT"
      }
    },
    {
      "cell_type": "code",
      "source": [
        "fruits = [\"apple\", \"orange\", \"melon\", \"banana\"]\n",
        "\n",
        "for fruit in fruits:\n",
        "  print(fruit, end=\" \")\n",
        "\n",
        "print()\n",
        "fruits[0] = \"pineapple\"\n",
        "\n",
        "for fruit in fruits:\n",
        "  print(fruit, end=\" \")"
      ],
      "metadata": {
        "colab": {
          "base_uri": "https://localhost:8080/"
        },
        "id": "SvJClu-JSSqX",
        "outputId": "ee3ea706-66d7-4c45-e892-f0a53233fa15"
      },
      "execution_count": null,
      "outputs": [
        {
          "output_type": "stream",
          "name": "stdout",
          "text": [
            "apple orange melon banana \n",
            "pineapple orange melon banana "
          ]
        }
      ]
    },
    {
      "cell_type": "markdown",
      "source": [
        "**Methods that can be found in a list**"
      ],
      "metadata": {
        "id": "EIvDtSVhTIsc"
      }
    },
    {
      "cell_type": "code",
      "source": [
        "# .append() - adds a element to the end of a list\n",
        "fruits = [\"apple\", \"orange\", \"melon\", \"banana\"]\n",
        "fruits.append(\"pineapple\")\n",
        "print(f\"append {fruits}\")\n",
        "\n",
        "# .remove() - removes an element from the list\n",
        "fruits.remove(\"pineapple\")\n",
        "print(f\"remove {fruits}\")\n",
        "\n",
        "# .insert() - will insert a value at a given index\n",
        "fruits.insert(0, \"pineapple\")\n",
        "print(f\"insert {fruits}\")\n",
        "\n",
        "# .sort() - will sort a list\n",
        "fruits.sort() # puts the list in alphabetical order\n",
        "print(f\"sort {fruits}\")\n",
        "\n",
        "# .reverse() - reverses a list\n",
        "fruits.reverse()\n",
        "print(f\"reverse {fruits}\")  # reverse alphabetical order because we sorted in the line above\n",
        "\n",
        "# .clear() - clears a list\n",
        "fruits.clear()\n",
        "print(f\"clear {fruits}\")\n",
        "\n",
        "fruits = [\"apple\", \"orange\", \"melon\", \"banana\", \"banana\"]\n",
        "print(f\"refreshed list: {fruits}\")\n",
        "# .index() - returns the index of a value\n",
        "print(\"index of orange: \", fruits.index(\"orange\"))\n",
        "\n",
        "# .count() - returns how many times a value is in a list\n",
        "print(\"count of banana:\", fruits.count(\"banana\"))"
      ],
      "metadata": {
        "colab": {
          "base_uri": "https://localhost:8080/"
        },
        "id": "w9-mXDK6TM58",
        "outputId": "a32275cd-85d6-459f-979d-b825d82d62bd"
      },
      "execution_count": null,
      "outputs": [
        {
          "output_type": "stream",
          "name": "stdout",
          "text": [
            "append ['apple', 'orange', 'melon', 'banana', 'pineapple']\n",
            "remove ['apple', 'orange', 'melon', 'banana']\n",
            "insert ['pineapple', 'apple', 'orange', 'melon', 'banana']\n",
            "sort ['apple', 'banana', 'melon', 'orange', 'pineapple']\n",
            "reverse ['pineapple', 'orange', 'melon', 'banana', 'apple']\n",
            "clear []\n",
            "refreshed list: ['apple', 'orange', 'melon', 'banana', 'banana']\n",
            "index of orange:  1\n",
            "count of banana: 2\n"
          ]
        }
      ]
    },
    {
      "cell_type": "markdown",
      "source": [
        "## Sets\n",
        "**Sets Examples**"
      ],
      "metadata": {
        "id": "9dN4uu36V8t5"
      }
    },
    {
      "cell_type": "code",
      "source": [
        "fruits = {\"apple\", \"orange\", \"melon\", \"banana\"}\n",
        "print(fruits) # prints all of the same values but unordered. If you run again it will be a different order"
      ],
      "metadata": {
        "colab": {
          "base_uri": "https://localhost:8080/"
        },
        "id": "Lg3DtLciWAPG",
        "outputId": "4f63e64a-e513-49d5-a56c-1b4f0492885a"
      },
      "execution_count": null,
      "outputs": [
        {
          "output_type": "stream",
          "name": "stdout",
          "text": [
            "{'orange', 'banana', 'apple', 'melon'}\n"
          ]
        }
      ]
    },
    {
      "cell_type": "code",
      "source": [
        "# dir function will display all the attributes of a set\n",
        "print(dir(fruits))\n",
        "# print(help(fruits)) gives an in depth description of the functions"
      ],
      "metadata": {
        "colab": {
          "base_uri": "https://localhost:8080/"
        },
        "id": "6bLRd0H5WkBT",
        "outputId": "eca29bd5-c841-4aeb-de53-56deeca66ee7"
      },
      "execution_count": null,
      "outputs": [
        {
          "output_type": "stream",
          "name": "stdout",
          "text": [
            "['__and__', '__class__', '__class_getitem__', '__contains__', '__delattr__', '__dir__', '__doc__', '__eq__', '__format__', '__ge__', '__getattribute__', '__getstate__', '__gt__', '__hash__', '__iand__', '__init__', '__init_subclass__', '__ior__', '__isub__', '__iter__', '__ixor__', '__le__', '__len__', '__lt__', '__ne__', '__new__', '__or__', '__rand__', '__reduce__', '__reduce_ex__', '__repr__', '__ror__', '__rsub__', '__rxor__', '__setattr__', '__sizeof__', '__str__', '__sub__', '__subclasshook__', '__xor__', 'add', 'clear', 'copy', 'difference', 'difference_update', 'discard', 'intersection', 'intersection_update', 'isdisjoint', 'issubset', 'issuperset', 'pop', 'remove', 'symmetric_difference', 'symmetric_difference_update', 'union', 'update']\n"
          ]
        }
      ]
    },
    {
      "cell_type": "code",
      "source": [
        "# random examples\n",
        "fruits = {\"apple\", \"orange\", \"melon\", \"banana\"}\n",
        "\n",
        "print(len(fruits))\n",
        "print(\"apple\" in fruits)\n",
        "\n",
        "# can't change values but you can add or remove elements in a set\n",
        "fruits.add(\"pineapple\")\n",
        "print(fruits)\n",
        "fruits.remove(\"pineapple\")\n",
        "print(fruits)\n",
        "fruits.pop()  # removes the first element in the set\n",
        "print(fruits)\n",
        "fruits.clear()\n",
        "print(fruits)\n",
        "\n",
        "# no duplicates are allowed\n",
        "fruits = {\"apple\", \"orange\", \"melon\", \"banana\"}\n",
        "fruits.add(\"apple\")\n",
        "print(fruits) # only 1 apple will be in the set"
      ],
      "metadata": {
        "colab": {
          "base_uri": "https://localhost:8080/"
        },
        "id": "oUejvnhBW2Jh",
        "outputId": "968be5f2-3f63-4972-f489-d65ed6b6cceb"
      },
      "execution_count": null,
      "outputs": [
        {
          "output_type": "stream",
          "name": "stdout",
          "text": [
            "4\n",
            "True\n",
            "{'orange', 'apple', 'pineapple', 'melon', 'banana'}\n",
            "{'orange', 'apple', 'melon', 'banana'}\n",
            "{'apple', 'melon', 'banana'}\n",
            "set()\n",
            "{'orange', 'banana', 'apple', 'melon'}\n"
          ]
        }
      ]
    },
    {
      "cell_type": "markdown",
      "source": [
        "Sets work well when you are looking for constant. For example, if you want to find if a color is within a set"
      ],
      "metadata": {
        "id": "XbV1Bp8BYVmB"
      }
    },
    {
      "cell_type": "markdown",
      "source": [
        "## Tuples\n",
        "**Tuple Examples**"
      ],
      "metadata": {
        "id": "L63CrAbtYfVk"
      }
    },
    {
      "cell_type": "code",
      "source": [
        "fruits = (\"apple\", \"orange\", \"melon\", \"banana\")\n",
        "print(fruits)"
      ],
      "metadata": {
        "colab": {
          "base_uri": "https://localhost:8080/"
        },
        "id": "Ig-30onaYibA",
        "outputId": "bf9fb11f-a4d5-4f4d-c2ec-3aff9864c515"
      },
      "execution_count": null,
      "outputs": [
        {
          "output_type": "stream",
          "name": "stdout",
          "text": [
            "('apple', 'orange', 'melon', 'banana')\n"
          ]
        }
      ]
    },
    {
      "cell_type": "code",
      "source": [
        "# dir function will display all the attributes of a set\n",
        "print(dir(fruits))\n",
        "# print(help(fruits)) gives an in depth description of the functions"
      ],
      "metadata": {
        "colab": {
          "base_uri": "https://localhost:8080/"
        },
        "id": "IAlgC4N6Y5h-",
        "outputId": "26fd606e-ded6-4872-99d8-f089d4267d1a"
      },
      "execution_count": null,
      "outputs": [
        {
          "output_type": "stream",
          "name": "stdout",
          "text": [
            "['__add__', '__class__', '__class_getitem__', '__contains__', '__delattr__', '__dir__', '__doc__', '__eq__', '__format__', '__ge__', '__getattribute__', '__getitem__', '__getnewargs__', '__getstate__', '__gt__', '__hash__', '__init__', '__init_subclass__', '__iter__', '__le__', '__len__', '__lt__', '__mul__', '__ne__', '__new__', '__reduce__', '__reduce_ex__', '__repr__', '__rmul__', '__setattr__', '__sizeof__', '__str__', '__subclasshook__', 'count', 'index']\n"
          ]
        }
      ]
    },
    {
      "cell_type": "code",
      "source": [
        "# random examples\n",
        "fruits = (\"apple\", \"orange\", \"melon\", \"banana\")\n",
        "\n",
        "print(len(fruits))\n",
        "print(\"pineaepple\" in fruits)\n",
        "\n",
        "# only 2 methods we have access to\n",
        "print(fruits.index(\"apple\"))\n",
        "print(fruits.count(\"apple\"))"
      ],
      "metadata": {
        "colab": {
          "base_uri": "https://localhost:8080/"
        },
        "id": "jcxX9ln7Y7aJ",
        "outputId": "ed649b61-690c-4799-e4f0-15f01de9da02"
      },
      "execution_count": null,
      "outputs": [
        {
          "output_type": "stream",
          "name": "stdout",
          "text": [
            "4\n",
            "False\n",
            "0\n",
            "1\n"
          ]
        }
      ]
    },
    {
      "cell_type": "markdown",
      "source": [
        "# Shopping Cart Program"
      ],
      "metadata": {
        "id": "uaPS89nPZbMN"
      }
    },
    {
      "cell_type": "code",
      "source": [
        "foods = []  # the reason we are not using tuples is because tuples are unchangeable, we can't append any elements to a tuple\n",
        "prices = [] # not using sets because sets are unordered. Technically you could but we want order lol\n",
        "total = 0\n",
        "\n",
        "while True:\n",
        "  food = input(\"Enter a food to buy (q to quit): \")\n",
        "  if food.lower() == \"q\":   # .lower makes the input lower case. So if they enter \"Q\" it still quits\n",
        "    break\n",
        "  else:\n",
        "    price = float(input(f\"Enter the price of a {food}: $\"))\n",
        "    foods.append(food)\n",
        "    prices.append(price)\n",
        "\n",
        "print()\n",
        "print(\"----- Your cart -----\")\n",
        "for food in foods:\n",
        "  print(food, end=\" \")\n",
        "\n",
        "for price in prices:\n",
        "  total += price\n",
        "\n",
        "print()\n",
        "print()\n",
        "print(f\"Your total is: {total:.2f}\")"
      ],
      "metadata": {
        "colab": {
          "base_uri": "https://localhost:8080/"
        },
        "id": "AZpoLOpUZjpK",
        "outputId": "3efbab7f-1028-47ab-dc10-0317ce370b8b"
      },
      "execution_count": null,
      "outputs": [
        {
          "output_type": "stream",
          "name": "stdout",
          "text": [
            "Enter a food to buy (q to quit): p\n",
            "Enter the price of a p: $5\n",
            "Enter a food to buy (q to quit): h\n",
            "Enter the price of a h: $5\n",
            "Enter a food to buy (q to quit): q\n",
            "\n",
            "----- Your cart -----\n",
            "p h \n",
            "\n",
            "Your total is: 10.00\n"
          ]
        }
      ]
    },
    {
      "cell_type": "markdown",
      "source": [
        "# 2D Collections\n",
        "Specifically 2D lists\n",
        "* You have the option of creating a 2D tuple but lists are more flexible and better for learning\n",
        "  * to change to a tuple just change the brackets to parenthesis"
      ],
      "metadata": {
        "id": "bKwfSrU7cQxA"
      }
    },
    {
      "cell_type": "markdown",
      "source": [
        "* A 2D list is just a list made up of lists\n",
        "  * 2dlist = [ list1, list 2, list 3 ]\n",
        "* Very useful if you need a grid or matrix of data\n",
        "  * like an excel spreadsheet"
      ],
      "metadata": {
        "id": "K7A57gX0chML"
      }
    },
    {
      "cell_type": "markdown",
      "source": [
        "**Examples**"
      ],
      "metadata": {
        "id": "lvyihCLZcyfY"
      }
    },
    {
      "cell_type": "code",
      "source": [
        "# 1D lists\n",
        "# each list resembles a row and each element resembles a column\n",
        "fruit =     [\"apple\", \"orange\", \"banane\", \"coconut\"]\n",
        "vegtables = [\"carrot\", \"cellary\", \"potatoes\"]\n",
        "meat =      [\"chicken\", \"pork\", \"beef\"]\n",
        "\n",
        "# 2D lists\n",
        "groceries = [fruit, vegtables, meat]\n",
        "print(f\"2D list: {groceries} \\n\")   #\\n is the new line command\n",
        "print(groceries[1]) # prints the second list in the 2D list or the second row\n",
        "print(groceries[1][1])  # prints row 1, column 1\n",
        "print()\n",
        "\n",
        "# When you make a 2D list you don't need to give each list a name. It could look like this:\n",
        "groceries = [[\"apple\", \"orange\", \"banane\", \"coconut\"],\n",
        "             [\"carrot\", \"cellary\", \"potatoes\"],\n",
        "             [\"chicken\", \"pork\", \"beef\"]]\n",
        "print(groceries[1][2])"
      ],
      "metadata": {
        "colab": {
          "base_uri": "https://localhost:8080/"
        },
        "id": "TpVTQ1gyNUb2",
        "outputId": "514a620a-326c-430b-e365-1d8105da2600"
      },
      "execution_count": null,
      "outputs": [
        {
          "output_type": "stream",
          "name": "stdout",
          "text": [
            "2D list: [['apple', 'orange', 'banane', 'coconut'], ['carrot', 'cellary', 'potatoes'], ['chicken', 'pork', 'beef']] \n",
            "\n",
            "['carrot', 'cellary', 'potatoes']\n",
            "cellary\n",
            "\n",
            "potatoes\n"
          ]
        }
      ]
    },
    {
      "cell_type": "code",
      "source": [
        "# to iterate through the elements of 2D lists you can use nested loops\n",
        "for x in groceries:\n",
        "  for y in x:\n",
        "    print(y, end = \" \")\n",
        "  print(\"\\n\")"
      ],
      "metadata": {
        "colab": {
          "base_uri": "https://localhost:8080/"
        },
        "id": "_Deo8exeQS4x",
        "outputId": "ffc88a5e-4401-4940-f7c3-b6d604b5f2aa"
      },
      "execution_count": null,
      "outputs": [
        {
          "output_type": "stream",
          "name": "stdout",
          "text": [
            "apple orange banane coconut \n",
            "\n",
            "carrot cellary potatoes \n",
            "\n",
            "chicken pork beef \n",
            "\n"
          ]
        }
      ]
    },
    {
      "cell_type": "markdown",
      "source": [
        "**Phone Pad Example**\n",
        "* Making the 9 digit phone pad on a phone.\n",
        "* We can't use a set because the elements are unordered. So it will be list vs tuple\n",
        "  * If we have the option, a tuple is faster than a list. A tuple is ordered and unchangeable so we should use it if we can"
      ],
      "metadata": {
        "id": "6l649PQiRgt8"
      }
    },
    {
      "cell_type": "code",
      "source": [
        "pad = ((1, 2, 3),\n",
        "       (4, 5, 6),\n",
        "       (7, 8, 9),\n",
        "       (\"*\", 0, \"#\"))\n",
        "\n",
        "for row in pad:\n",
        "  for number in row:\n",
        "    print(number, end = \" \")\n",
        "  print()"
      ],
      "metadata": {
        "colab": {
          "base_uri": "https://localhost:8080/"
        },
        "id": "0GUkKXjWSEwu",
        "outputId": "578f004c-263a-449a-877e-bb009bd4fa91"
      },
      "execution_count": null,
      "outputs": [
        {
          "output_type": "stream",
          "name": "stdout",
          "text": [
            "1 1 3 \n",
            "4 5 6 \n",
            "7 8 9 \n",
            "* 0 # \n"
          ]
        }
      ]
    },
    {
      "cell_type": "markdown",
      "source": [
        "# Python Quiz Game"
      ],
      "metadata": {
        "id": "ArBqsVudTSHF"
      }
    },
    {
      "cell_type": "code",
      "source": [
        "questions = (\"How many elements are in the periodic table?: \",\n",
        "             \"Which animal layes the largest eggs?: \",\n",
        "             \"What is the most abundant gas in the earth's atmosphere?: \",\n",
        "             \"How many bones are in the human body?: \",\n",
        "             \"What is J. Coles best album?: \")\n",
        "options = ((\"A. 116\", \"B. 117\", \"C. 118\", \"D. 119\"),\n",
        "           (\"A. Whale\", \"B. Crocodile\", \"C. Elephant\", \"D. Ostritch\"),\n",
        "           (\"A. Nitrogen\", \"B. Oxygen\", \"C. Carbon-Dioxide\", \"D. Hydrogen\"),\n",
        "           (\"A. 206\", \"B. 207\", \"C. 208\", \"D. 209\"),\n",
        "           (\"A. 4 Your Eyez Only\", \"B. 2014 Forest Hills Dr.\", \"C. Might Delete Later\", \"D. The Off Season\"))\n",
        "answers = (\"C\", \"D\", \"A\", \"A\", \"D\")\n",
        "guesses = []\n",
        "score = 0\n",
        "question_num = 0\n",
        "\n",
        "for question in questions:\n",
        "  print(\"-----------------\")\n",
        "  print(question)\n",
        "\n",
        "  for option in options[question_num]:    # [question_num] is an index operator. So at first we access options at the index of 0 (row 1), then rows 2,3,4,5\n",
        "    print(option)   # print every option in options at a given row number\n",
        "\n",
        "\n",
        "  guess = input(\"Enter (A, B, C, or D): \").upper()\n",
        "  guesses.append(guess)\n",
        "  if guess == answers[question_num]:\n",
        "    score += 1\n",
        "    print(\"CORRECT!\")\n",
        "  else:\n",
        "    print(\"INCORRECT!\")\n",
        "    print(f\"{answers[question_num]} is the correct answer\")\n",
        "  question_num += 1\n",
        "\n",
        "print(\"-----------------\")\n",
        "print(\"     Results     \")\n",
        "print(\"-----------------\")\n",
        "\n",
        "print(\"Answers: \", end=\" \")\n",
        "for answer in answers:\n",
        "  print(answer, end=\" \")\n",
        "print()\n",
        "\n",
        "print(\"Guesses: \", end=\" \")\n",
        "for guess in guesses:\n",
        "  print(guess, end=\" \")\n",
        "print()\n",
        "\n",
        "score = int(score / len(questions) * 100)\n",
        "print(f\"Your score is: {score}%\")"
      ],
      "metadata": {
        "id": "pv2kF8FITVjP",
        "colab": {
          "base_uri": "https://localhost:8080/"
        },
        "outputId": "08a0dc52-1699-482c-8837-938408210e7a"
      },
      "execution_count": null,
      "outputs": [
        {
          "output_type": "stream",
          "name": "stdout",
          "text": [
            "-----------------\n",
            "How many elements are in the periodic table?: \n",
            "A. 116\n",
            "B. 117\n",
            "C. 118\n",
            "D. 119\n",
            "Enter (A, B, C, or D): c\n",
            "CORRECT!\n",
            "-----------------\n",
            "Which animal layes the largest eggs?: \n",
            "A. Whale\n",
            "B. Crocodile\n",
            "C. Elephant\n",
            "D. Ostritch\n",
            "Enter (A, B, C, or D): d\n",
            "CORRECT!\n",
            "-----------------\n",
            "What is the most abundant gas in the earth's atmosphere?: \n",
            "A. Nitrogen\n",
            "B. Oxygen\n",
            "C. Carbon-Dioxide\n",
            "D. Hydrogen\n",
            "Enter (A, B, C, or D): a\n",
            "CORRECT!\n",
            "-----------------\n",
            "How many bones are in the human body?: \n",
            "A. 206\n",
            "B. 207\n",
            "C. 208\n",
            "D. 209\n",
            "Enter (A, B, C, or D): b\n",
            "INCORRECT!\n",
            "A is the correct answer\n",
            "-----------------\n",
            "What is J. Coles best album?: \n",
            "A. 4 Your Eyez Only\n",
            "B. 2014 Forest Hills Dr.\n",
            "C. Might Delete Later\n",
            "D. The Off Season\n",
            "Enter (A, B, C, or D): d\n",
            "CORRECT!\n",
            "-----------------\n",
            "     Results     \n",
            "-----------------\n",
            "Answers:  C D A A D \n",
            "Guesses:  C D A B D \n",
            "Your score is: 80%\n"
          ]
        }
      ]
    },
    {
      "cell_type": "markdown",
      "source": [
        "# Dictionaries"
      ],
      "metadata": {
        "id": "2mJO5q99dLhm"
      }
    },
    {
      "cell_type": "markdown",
      "source": [
        "* A dictionary is one of the 4 basic collection types\n",
        "* A dictionary consists of {key:value} pairs\n",
        "  * they are ordered and changeable\n",
        "  * No duplicates\n",
        "* A few examples of key:value pairs would be\n",
        "  * id:name\n",
        "  * item:price\n",
        "* dictionaries are enclosed in { }"
      ],
      "metadata": {
        "id": "TIYBhBMzexF9"
      }
    },
    {
      "cell_type": "markdown",
      "source": [
        "**Examples**"
      ],
      "metadata": {
        "id": "5iMFEc9lfUie"
      }
    },
    {
      "cell_type": "code",
      "source": [
        "capitals = {\"USA\": Washinton D.C,\n",
        "            \"India\": New Delhi,\n",
        "            \"China\":Beijing,\n",
        "            \"Russia\":Moscow}\n",
        "# print(dir(capitals)) will tell you all the methods available for the dictionary\n",
        "# print(help(apitals)) will give you an indepth desciption of each method"
      ],
      "metadata": {
        "id": "m6hAn8ghfdxu"
      },
      "execution_count": null,
      "outputs": []
    },
    {
      "cell_type": "markdown",
      "source": [
        "methods in a dictionary"
      ],
      "metadata": {
        "id": "KiqmROzFgVkN"
      }
    },
    {
      "cell_type": "code",
      "source": [
        "capitals = {\"USA\":\"Washinton D.C\",\n",
        "            \"India\":\"New Delhi\",\n",
        "            \"China\":\"Beijing\",\n",
        "            \"Russia\":\"Moscow\"}\n",
        "\n",
        "# .get() - alows you to get a value of a dictionary by getting the key\n",
        "print(\".get(): \", capitals.get(\"USA\"))\n",
        "print(\".get(): \", capitals.get(\"India\"))\n",
        "print(\".get(): \", capitals.get(\"Japan\"))\n",
        "\n",
        "if capitals.get(\"Japan\"):\n",
        "  print(\"That capital exists\")\n",
        "else:\n",
        "  print(\"That capital does not exist\")\n",
        "\n",
        "if capitals.get(\"Russia\"):\n",
        "  print(\"That capital exists\")\n",
        "else:\n",
        "  print(\"That capital does not exist\")\n",
        "\n",
        "print()\n",
        "\n",
        "# .update() - updates the dictionary\n",
        "capitals.update({\"Germany\":\"Berlin\"})\n",
        "print(\".update(): \", capitals)\n",
        "\n",
        "capitals.update({\"USA\":\"San Diego\"})\n",
        "print(\".update() \", capitals.get(\"USA\"))\n",
        "print()\n",
        "\n",
        "# .pop() - removes a key value pair\n",
        "capitals.pop(\"China\")\n",
        "print(\".pop(): \", capitals)\n",
        "print()\n",
        "\n",
        "# popitem() - will remove the latest key value pair\n",
        "capitals.popitem()\n",
        "print(\".popitem(): \",capitals)\n",
        "print()\n",
        "\n",
        "# .clear() - clears the dictionary\n",
        "capitals.clear()\n",
        "print(\".clear(): \", capitals)\n",
        "capitals = {\"USA\":\"Washinton D.C\",\n",
        "            \"India\":\"New Delhi\",\n",
        "            \"China\":\"Beijing\",\n",
        "            \"Russia\":\"Moscow\"}\n",
        "print()\n",
        "\n",
        "\n",
        "# .keys() - gets all the keys in the dictionary\n",
        "keys = capitals.keys()\n",
        "print(\".keys(): \", keys)\n",
        "\n",
        "# keys are iterable\n",
        "for key in capitals.keys():\n",
        "  print(key, end= \" \")\n",
        "print()\n",
        "print()\n",
        "\n",
        "# .values() - gets all the values in the dictionary\n",
        "values = capitals.values()\n",
        "print(\".values(): \", values)\n",
        "\n",
        "# values are iterable\n",
        "for value in capitals.values():\n",
        "  print(value, end= \" \")\n",
        "print()\n",
        "print()\n",
        "\n",
        "# .items() - returns a dictionary object that resembles a 2D list of tuples\n",
        "items = capitals.items()\n",
        "print(items)\n",
        "\n",
        "# items are complicated. But also iterable in their own way. This iterates over every key value pair\n",
        "for key, value in capitals.items():\n",
        "  print(f\"{key} : {value}\")\n"
      ],
      "metadata": {
        "colab": {
          "base_uri": "https://localhost:8080/"
        },
        "id": "jFmARu3BfWFn",
        "outputId": "d81a7fb2-f2b9-4cbf-8724-5c3451952996"
      },
      "execution_count": null,
      "outputs": [
        {
          "output_type": "stream",
          "name": "stdout",
          "text": [
            ".get():  Washinton D.C\n",
            ".get():  New Delhi\n",
            ".get():  None\n",
            "That capital does not exist\n",
            "That capital exists\n",
            "\n",
            ".update():  {'USA': 'Washinton D.C', 'India': 'New Delhi', 'China': 'Beijing', 'Russia': 'Moscow', 'Germany': 'Berlin'}\n",
            ".update()  San Diego\n",
            "\n",
            ".pop():  {'USA': 'San Diego', 'India': 'New Delhi', 'Russia': 'Moscow', 'Germany': 'Berlin'}\n",
            "\n",
            ".popitem():  {'USA': 'San Diego', 'India': 'New Delhi', 'Russia': 'Moscow'}\n",
            "\n",
            ".clear():  {}\n",
            "\n",
            ".keys():  dict_keys(['USA', 'India', 'China', 'Russia'])\n",
            "USA India China Russia \n",
            "\n",
            ".values():  dict_values(['Washinton D.C', 'New Delhi', 'Beijing', 'Moscow'])\n",
            "Washinton D.C New Delhi Beijing Moscow \n",
            "\n",
            "dict_items([('USA', 'Washinton D.C'), ('India', 'New Delhi'), ('China', 'Beijing'), ('Russia', 'Moscow')])\n",
            "USA : Washinton D.C\n",
            "India : New Delhi\n",
            "China : Beijing\n",
            "Russia : Moscow\n"
          ]
        }
      ]
    },
    {
      "cell_type": "markdown",
      "source": [
        "# Time Jump\n",
        "* Ran through a few examples but for the sake of time I just watched them and did not copy them down.\n",
        "  * From 3:11:34 - 3:52:15\n",
        "    * skipped examples that used a little of everthing gone over so far"
      ],
      "metadata": {
        "id": "_OtSL5y_k1Yo"
      }
    },
    {
      "cell_type": "markdown",
      "source": [
        "# Functions"
      ],
      "metadata": {
        "id": "8pWtdGtSw4JQ"
      }
    },
    {
      "cell_type": "markdown",
      "source": [
        "* A function is a block of reusable code\n",
        "  * use \"def\" to define the function\n",
        "  * To invoke a function you place a set of () after the function name\n",
        "  * Can include a return statement\n",
        "* VERY VERY important concept for structure of code"
      ],
      "metadata": {
        "id": "Zg5C035_w7ms"
      }
    },
    {
      "cell_type": "markdown",
      "source": [
        "**Examples**"
      ],
      "metadata": {
        "id": "3Wn0zgdAxSyz"
      }
    },
    {
      "cell_type": "code",
      "source": [],
      "metadata": {
        "id": "8wx0lbSsuRq1"
      },
      "execution_count": null,
      "outputs": []
    },
    {
      "cell_type": "code",
      "source": [
        "# I need to sing happy birthday 3 times. Using my own version.\n",
        "# 1 verse\n",
        "print(\"Happy Birthday to you!\")\n",
        "print(\"You are old!\")\n",
        "print(\"Happy Birthday to you!\")\n",
        "print()\n",
        "\n",
        "# If wanted to repeat the code I could either copy and paste or use a loop\n",
        "# what if I could write this code once and reuse it whenever I need to? That's where functions come in"
      ],
      "metadata": {
        "id": "7BC1qExJxRyk"
      },
      "execution_count": null,
      "outputs": []
    },
    {
      "cell_type": "code",
      "source": [
        "def happy_birthday():\n",
        "  print(\"Happy Birthday to you!\")\n",
        "  print(\"You are old!\")\n",
        "  print(\"Happy Birthday to you!\")\n",
        "  print()\n",
        "\n",
        "happy_birthday()    # invokes the function. It will execute the code once\n",
        "happy_birthday()\n",
        "happy_birthday()"
      ],
      "metadata": {
        "colab": {
          "base_uri": "https://localhost:8080/"
        },
        "id": "H0NR79MAyKe8",
        "outputId": "e14072c5-864c-4fb8-95e4-9f0792e15eeb"
      },
      "execution_count": null,
      "outputs": [
        {
          "output_type": "stream",
          "name": "stdout",
          "text": [
            "Happy Birthday to you!\n",
            "Happy Birthday to you!\n",
            "You are old!\n",
            "You are old!\n",
            "\n",
            "Happy Birthday to you!\n",
            "Happy Birthday to you!\n",
            "You are old!\n",
            "You are old!\n",
            "\n",
            "Happy Birthday to you!\n",
            "Happy Birthday to you!\n",
            "You are old!\n",
            "You are old!\n",
            "\n"
          ]
        }
      ]
    },
    {
      "cell_type": "markdown",
      "source": [
        "* You are able to send data directly to a function using arguments\n",
        "  * You can use values or variables to a function by placed any data into the set of paranthesis that invokes the function\n",
        "  * However, you need matching set of parameters, that are in order, when you define the function\n",
        "    * A parameter is kind of like a temporary variable that is used within a function"
      ],
      "metadata": {
        "id": "3r0w686wzCuQ"
      }
    },
    {
      "cell_type": "code",
      "source": [
        "def happy_birthday(name):   # name is a parameter\n",
        "  print(f\"Happy Birthday to {name}!\")\n",
        "  print(\"You are old!\")\n",
        "  print(\"Happy Birthday to you!\")\n",
        "  print()\n",
        "\n",
        "happy_birthday(\"Lebron\")    # \"Lebron\" is an argument\n",
        "happy_birthday(\"J. Cole\")\n",
        "happy_birthday(\"Joe\")"
      ],
      "metadata": {
        "colab": {
          "base_uri": "https://localhost:8080/"
        },
        "id": "yubFhreUzAq8",
        "outputId": "f7aad77e-4400-4103-f374-f8b17f14ff6a"
      },
      "execution_count": null,
      "outputs": [
        {
          "output_type": "stream",
          "name": "stdout",
          "text": [
            "Happy Birthday to Lebron!\n",
            "You are old!\n",
            "Happy Birthday to you!\n",
            "\n",
            "Happy Birthday to J. Cole!\n",
            "You are old!\n",
            "Happy Birthday to you!\n",
            "\n",
            "Happy Birthday to Joe!\n",
            "You are old!\n",
            "Happy Birthday to you!\n",
            "\n"
          ]
        }
      ]
    },
    {
      "cell_type": "markdown",
      "source": [
        "* When you invoke a function you can send more than 1 argument"
      ],
      "metadata": {
        "id": "Crn5-Tq50FLC"
      }
    },
    {
      "cell_type": "code",
      "source": [
        "def happy_birthday(name, age):   # name is a parameter\n",
        "  print(f\"Happy Birthday to {name}!\")\n",
        "  print(f\"You are {age} years old!\")\n",
        "  print(\"Happy Birthday to you!\")\n",
        "  print()\n",
        "\n",
        "happy_birthday(\"Lebron\", 40)    # \"Lebron\" is an argument\n",
        "happy_birthday(\"J. Cole\", 30)\n",
        "happy_birthday(\"Joe\", 12)"
      ],
      "metadata": {
        "colab": {
          "base_uri": "https://localhost:8080/"
        },
        "id": "i-d-smT91O-D",
        "outputId": "8ce63998-41ed-42d3-fd93-879f09964ace"
      },
      "execution_count": null,
      "outputs": [
        {
          "output_type": "stream",
          "name": "stdout",
          "text": [
            "Happy Birthday to Lebron!\n",
            "You are 40 years old!\n",
            "Happy Birthday to you!\n",
            "\n",
            "Happy Birthday to J. Cole!\n",
            "You are 30 years old!\n",
            "Happy Birthday to you!\n",
            "\n",
            "Happy Birthday to Joe!\n",
            "You are 12 years old!\n",
            "Happy Birthday to you!\n",
            "\n"
          ]
        }
      ]
    },
    {
      "cell_type": "code",
      "source": [
        "# position of the parameters does matter\n",
        "def happy_birthday(age, name):   # name is a parameter\n",
        "  print(f\"Happy Birthday to {name}!\")\n",
        "  print(f\"You are {age} years old!\")\n",
        "  print(\"Happy Birthday to you!\")\n",
        "  print()\n",
        "\n",
        "happy_birthday(\"Lebron\", 40)    # \"Lebron\" is an argument\n",
        "happy_birthday(\"J. Cole\", 30)\n",
        "happy_birthday(\"Joe\", 12)"
      ],
      "metadata": {
        "colab": {
          "base_uri": "https://localhost:8080/"
        },
        "id": "Tb1irc6A1jSH",
        "outputId": "416fc40d-63b0-419b-d8de-9ea67f7ecc2f"
      },
      "execution_count": null,
      "outputs": [
        {
          "output_type": "stream",
          "name": "stdout",
          "text": [
            "Happy Birthday to 40!\n",
            "You are Lebron years old!\n",
            "Happy Birthday to you!\n",
            "\n",
            "Happy Birthday to 30!\n",
            "You are J. Cole years old!\n",
            "Happy Birthday to you!\n",
            "\n",
            "Happy Birthday to 12!\n",
            "You are Joe years old!\n",
            "Happy Birthday to you!\n",
            "\n"
          ]
        }
      ]
    },
    {
      "cell_type": "code",
      "source": [
        "# Function to display invoice\n",
        "def display_invoice(username, amount, due_date):\n",
        "  print(f\"Hello {username}\")\n",
        "  print(f\"Your bill of amount ${amount:.2f} is due on {due_date}\")\n",
        "\n",
        "display_invoice(\"rburns19\", 28.78, \"12/25/25\")\n",
        "print()\n",
        "display_invoice(\"Joe Mama\", 4000, \"12/1/25\")"
      ],
      "metadata": {
        "colab": {
          "base_uri": "https://localhost:8080/"
        },
        "id": "Ewb4chgHqV2w",
        "outputId": "91c633c3-2349-4ebb-e088-2a968aa05b49"
      },
      "execution_count": null,
      "outputs": [
        {
          "output_type": "stream",
          "name": "stdout",
          "text": [
            "Hello rburns19\n",
            "Your bill of amount $28.78 is due on 12/25/25\n",
            "\n",
            "Hello Joe Mama\n",
            "Your bill of amount $4000.00 is due on 12/1/25\n"
          ]
        }
      ]
    },
    {
      "cell_type": "markdown",
      "source": [
        "**Return** statement\n",
        "* return is a statement that is used to end a function and send a result back to the caller\n"
      ],
      "metadata": {
        "id": "ovcI3M7ArW00"
      }
    },
    {
      "cell_type": "code",
      "source": [
        "# z = add(1, 2) # when we invoke a function we can send some data back after adding 1 and 2. The data would be the result. In this case 3\n",
        "\n",
        "# function to add 2 numbers\n",
        "def add(x, y):\n",
        "  z = x + y\n",
        "  return z\n",
        "\n",
        "def subtract(x, y):\n",
        "  z = x - y\n",
        "  return z\n",
        "\n",
        "def multiply(x, y):\n",
        "  z = x * y\n",
        "  return z\n",
        "\n",
        "def divide(x, y):\n",
        "  z = x / y\n",
        "  return z\n",
        "\n",
        "print(\"add: \", add(1, 2))   # the functions become whatever is returned in z\n",
        "print(\"subtract: \", subtract(1, 2))\n",
        "print(\"multiply: \", multiply(1, 2))\n",
        "print(\"divide: \", divide(1, 2))"
      ],
      "metadata": {
        "colab": {
          "base_uri": "https://localhost:8080/"
        },
        "id": "xO0WrjNZr4Ec",
        "outputId": "c7553467-319f-4be4-cad1-bf1e68f45d74"
      },
      "execution_count": null,
      "outputs": [
        {
          "output_type": "stream",
          "name": "stdout",
          "text": [
            "add:  3\n",
            "subtract:  -1\n",
            "multiply:  2\n",
            "divide:  0.5\n"
          ]
        }
      ]
    },
    {
      "cell_type": "code",
      "source": [
        "# full name function\n",
        "def full_name(first, last):\n",
        "  first = first.capitalize()\n",
        "  last = last.capitalize()\n",
        "  return first + \" \" + last\n",
        "\n",
        "name = full_name(\"lebron\", \"james\")\n",
        "print(name)"
      ],
      "metadata": {
        "colab": {
          "base_uri": "https://localhost:8080/"
        },
        "id": "Ta4T50h7tLff",
        "outputId": "a47d6bc0-61e1-4f3d-f719-61770f56e066"
      },
      "execution_count": null,
      "outputs": [
        {
          "output_type": "stream",
          "name": "stdout",
          "text": [
            "Lebron James\n"
          ]
        }
      ]
    },
    {
      "cell_type": "markdown",
      "source": [
        "# Default Arguments"
      ],
      "metadata": {
        "id": "n1PKJ5nXuU-w"
      }
    },
    {
      "cell_type": "markdown",
      "source": [
        "Default arguments are a default value for certain parameters\n",
        "  * The default is used when that argument is ommitted when you invoke a function\n",
        "  * These make your functions more flexible and reduces the # of arguments\n",
        "  * 4 types of arguments\n",
        "    1. positional (covered in last topic)\n",
        "    2. DEFAULT (will cover right now)\n",
        "    3. keyword (will cover in the future)\n",
        "    4. arbitrary (will cover in the future)\n"
      ],
      "metadata": {
        "id": "KTj4_UEzuYNn"
      }
    },
    {
      "cell_type": "markdown",
      "source": [
        "**Examples**"
      ],
      "metadata": {
        "id": "YkMTbhvzvX15"
      }
    },
    {
      "cell_type": "code",
      "source": [
        "def net_price(list_price, discount, tax):\n",
        "  return list_price * (1 - discount) * (1 + tax)\n",
        "\n",
        "print(net_price(500, 0, 0.05))\n",
        "\n",
        "# what if we know that discount will pretty much always be 0 and the tax will be the same normally (5%)\n",
        "# to make the function more flexable we could set the discount and tax to have a default value, so we just have to pass 1 argument when we call the function\n",
        "def net_price2(list_price, discount=0, tax=0.05):\n",
        "  return list_price * (1 - discount) * (1 + tax)\n",
        "\n",
        "print(net_price2(500))\n",
        "\n",
        "# can still change the default values. This is why it's flexable\n",
        "print(net_price2(500, 0.1)) # 10% discount"
      ],
      "metadata": {
        "colab": {
          "base_uri": "https://localhost:8080/"
        },
        "id": "Y4F_m5eavZAL",
        "outputId": "cd718c1d-f643-4c7c-9fec-3766fa7451be"
      },
      "execution_count": null,
      "outputs": [
        {
          "output_type": "stream",
          "name": "stdout",
          "text": [
            "525.0\n",
            "525.0\n",
            "472.5\n"
          ]
        }
      ]
    },
    {
      "cell_type": "code",
      "source": [
        "import time\n",
        "\n",
        "def count(start=0, end):\n",
        "  for x in range(start, end + 1):   # added +1 because second argument is exclusive\n",
        "    print(x, end=\" \")\n",
        "    time.sleep(0.3)\n",
        "  print(\"Done\")\n",
        "\n",
        "count(10)\n"
      ],
      "metadata": {
        "colab": {
          "base_uri": "https://localhost:8080/",
          "height": 108
        },
        "id": "shDNOvxYzfPN",
        "outputId": "1a92e641-ae85-43b1-ed65-86333c5c5adc"
      },
      "execution_count": null,
      "outputs": [
        {
          "output_type": "error",
          "ename": "SyntaxError",
          "evalue": "non-default argument follows default argument (<ipython-input-21-1121394705>, line 3)",
          "traceback": [
            "\u001b[0;36m  File \u001b[0;32m\"<ipython-input-21-1121394705>\"\u001b[0;36m, line \u001b[0;32m3\u001b[0m\n\u001b[0;31m    def count(start=0, end):\u001b[0m\n\u001b[0m                       ^\u001b[0m\n\u001b[0;31mSyntaxError\u001b[0m\u001b[0;31m:\u001b[0m non-default argument follows default argument\n"
          ]
        }
      ]
    },
    {
      "cell_type": "markdown",
      "source": [
        "non-default arguments need to follow default arguments. So if you are using a default argument then you need to put it after the positional arguments"
      ],
      "metadata": {
        "id": "oBGudpPW0M48"
      }
    },
    {
      "cell_type": "code",
      "source": [
        "import time\n",
        "\n",
        "def count(end, start=0):\n",
        "  for x in range(start, end + 1):   # added +1 because second argument is exclusive\n",
        "    print(x, end=\" \")\n",
        "    time.sleep(0.3)\n",
        "  print(\"Done\")\n",
        "\n",
        "count(30)\n",
        "count(30, 15)"
      ],
      "metadata": {
        "colab": {
          "base_uri": "https://localhost:8080/"
        },
        "id": "MeVesVQ70WJe",
        "outputId": "263385e6-c1d2-4139-d2f0-ea6295aa9aba"
      },
      "execution_count": null,
      "outputs": [
        {
          "output_type": "stream",
          "name": "stdout",
          "text": [
            "0 1 2 3 4 5 6 7 8 9 10 11 12 13 14 15 16 17 18 19 20 21 22 23 24 25 26 27 28 29 30 Done\n",
            "15 16 17 18 19 20 21 22 23 24 25 26 27 28 29 30 Done\n"
          ]
        }
      ]
    },
    {
      "cell_type": "markdown",
      "source": [
        "# Keyword Arguments"
      ],
      "metadata": {
        "id": "jAesWeuj1ARg"
      }
    },
    {
      "cell_type": "markdown",
      "source": [
        "Keyword arguments are an argument preceded by an identifier\n",
        "  * Helps with readability\n",
        "  * Order of arguments doesn't matter\n",
        "  * 4 types of arguments\n",
        "    1. positional (covered functions)\n",
        "    2. DEFAULT (covered in last topic)\n",
        "    3. keyword (will cover rn)\n",
        "    4. arbitrary (will cover in the future)"
      ],
      "metadata": {
        "id": "elqsMwy21EYt"
      }
    },
    {
      "cell_type": "code",
      "source": [
        "def hello(greeting, title, first_name, last_name):\n",
        "  print(f\"{greeting} {title} {first_name} {last_name}\")\n",
        "\n",
        "hello(\"Hello\", \"Mr\", \"Lebron\", \"James\")\n",
        "# OR\n",
        "hello(last_name=\"James\", greeting=\"Hello\", first_name=\"Lebron\", title=\"Mr\") # this way order does not matter. Still prints the same\n",
        "\n",
        "# if you are mixing positional arguments with keyword arguments, make sure positional arguments are first\n",
        "hello(\"Hello\", title=\"Mr\", first_name=\"Lebron\", last_name=\"James\")"
      ],
      "metadata": {
        "colab": {
          "base_uri": "https://localhost:8080/"
        },
        "id": "3cqxLa3C1jxJ",
        "outputId": "3b94b70f-1b01-47e9-e87a-8c9088b6fce4"
      },
      "execution_count": null,
      "outputs": [
        {
          "output_type": "stream",
          "name": "stdout",
          "text": [
            "Hello Mr Lebron James\n",
            "Hello Mr Lebron James\n",
            "Hello Mr Lebron James\n"
          ]
        }
      ]
    },
    {
      "cell_type": "code",
      "source": [
        "for x in range(1, 11):\n",
        "  print(x, end=\" \")   # end is actually a keyword argument\n",
        "\n",
        "print(\"1\", \"2\", \"3\", \"4\", \"5\", sep=\"-\") # sep = separate. This is also a keyword function"
      ],
      "metadata": {
        "id": "zD4ZqJg01no9"
      },
      "execution_count": null,
      "outputs": []
    },
    {
      "cell_type": "code",
      "source": [
        "# Phone Number Example\n",
        "def get_phone(country, area, first, last):\n",
        "  return f\"{country}-{area}-{first}-{last}\"\n",
        "\n",
        "phone_num = get_phone(country=1, area=555, first=123, last=4567)  # order can be random but try to stay consistent\n",
        "print(phone_num)"
      ],
      "metadata": {
        "colab": {
          "base_uri": "https://localhost:8080/"
        },
        "id": "s9sgHz3a3v86",
        "outputId": "7b562f52-1c6e-411b-8d3f-12cd5bd1b925"
      },
      "execution_count": null,
      "outputs": [
        {
          "output_type": "stream",
          "name": "stdout",
          "text": [
            "1-555-123-4567\n"
          ]
        }
      ]
    },
    {
      "cell_type": "markdown",
      "source": [
        "# Arbitrary Arguments"
      ],
      "metadata": {
        "id": "rjMxeAku5oJr"
      }
    },
    {
      "cell_type": "markdown",
      "source": [
        "Arbitrary meaning a varying amount of arguments. Devs use:\n",
        "  * *args\n",
        "    * args = arguments\n",
        "    * allows you to pass multiple non-key arguments\n",
        "  * **kwargs\n",
        "    * kwargs = key-word arguments\n",
        "    * allows you to pass multiple keyword arguments\n",
        "  * Would want to prefix each of the arguments with the unpacking operator, \"*\"\n",
        "  * When you invoke a function that has args or kwargs as parameters you will pack all of those arguments into a *tuple if its args* or a *dictionary if its kwargs*\n",
        "  * 4 types of arguments\n",
        "    1. positional (covered functions)\n",
        "    2. DEFAULT (covered in default arguments)\n",
        "    3. keyword (covered in last topic)\n",
        "    4. arbitrary (will cover rn)"
      ],
      "metadata": {
        "id": "H7t2yCtD5uEL"
      }
    },
    {
      "cell_type": "markdown",
      "source": [
        "**Example**"
      ],
      "metadata": {
        "id": "rSj-S6sK68o_"
      }
    },
    {
      "cell_type": "markdown",
      "source": [
        "*args"
      ],
      "metadata": {
        "id": "3FpfPAbu-gLZ"
      }
    },
    {
      "cell_type": "code",
      "source": [
        "def add(a, b):\n",
        "  return a + b\n",
        "\n",
        "print(\"add: \", add(1, 2))\n",
        "\n",
        "# what if you want to pass 3 arguments\n",
        "# print(add(1, 2, 3))     # would not work because there are only 2 parameters\n",
        "\n",
        "# I could modify the function so it can accept a varying amount of arguments\n",
        "def add2(*args):\n",
        "  print(type(args)) # can use the built in methods of the tuple OR iterate over it\n",
        "\n",
        "add2(1,2,3) # what's going to happen is that w/ the arguments we pass into the function will be packed into a tuple\n",
        "\n",
        "\n",
        "def add3(*args):\n",
        "  total = 0\n",
        "  for arg in args:\n",
        "    total += arg\n",
        "  return total\n",
        "\n",
        "print(\"add3: \", add3(1, 2, 3))\n",
        "print(\"add3: \", add3(1, 2, 3, 4))\n",
        "\n",
        "# can change parameter name to something else. Name of parameter isn't as important as the unpacking operator\n",
        "# By typical convention people tend to stick with *args\n",
        "def add4(*nums):\n",
        "  total = 0\n",
        "  for num in nums:\n",
        "    total += num\n",
        "  return total\n",
        "\n",
        "print(\"add4: \", add3(1, 2, 3, 4, 5))"
      ],
      "metadata": {
        "colab": {
          "base_uri": "https://localhost:8080/"
        },
        "id": "1GLWPk_96-I2",
        "outputId": "a84c82b8-2b60-4b6f-a051-ad09cebbe495"
      },
      "execution_count": null,
      "outputs": [
        {
          "output_type": "stream",
          "name": "stdout",
          "text": [
            "add:  3\n",
            "<class 'tuple'>\n",
            "add3:  6\n",
            "add3:  10\n",
            "add4:  15\n"
          ]
        }
      ]
    },
    {
      "cell_type": "code",
      "source": [
        "def display_name(*args):\n",
        "  for arg in args:\n",
        "    print(arg, end=\" \")\n",
        "  print()\n",
        "\n",
        "display_name(\"Lebron\", \"'My King'\", \"James\")\n",
        "display_name(\"Sir\", \"Jermaine\", \"'The GOAT'\", \"Cole\", \"III\")"
      ],
      "metadata": {
        "colab": {
          "base_uri": "https://localhost:8080/"
        },
        "id": "SQVsn2pD9mWj",
        "outputId": "aab0cb44-b465-4c82-a876-3b5c16e524dd"
      },
      "execution_count": null,
      "outputs": [
        {
          "output_type": "stream",
          "name": "stdout",
          "text": [
            "Lebron 'My King' James \n",
            "Sir Jermaine 'The GOAT' Cole III \n"
          ]
        }
      ]
    },
    {
      "cell_type": "markdown",
      "source": [
        "**kwargs"
      ],
      "metadata": {
        "id": "3a510-zp-htW"
      }
    },
    {
      "cell_type": "code",
      "source": [
        "# kwargs allows you to pass mulitple keyword arguments\n",
        "def print_address(**kwargs):\n",
        "  print(type(kwargs))   # can use built in methods or iterate over keys, values, or both\n",
        "\n",
        "print_address(street=\"123 Main St\", city=\"LA\", state=\"CA\", zip=\"54321\") # when you pass kwargs it packs them into a dictionary"
      ],
      "metadata": {
        "colab": {
          "base_uri": "https://localhost:8080/"
        },
        "id": "TGyVeTY6-jDa",
        "outputId": "3333726d-983b-489f-92bb-6be71f9661bf"
      },
      "execution_count": null,
      "outputs": [
        {
          "output_type": "stream",
          "name": "stdout",
          "text": [
            "<class 'dict'>\n",
            "None\n"
          ]
        }
      ]
    },
    {
      "cell_type": "code",
      "source": [
        "# iterate over values\n",
        "def print_address(**kwargs):\n",
        "  for value in kwargs.values():\n",
        "    print(value, end=\" \")\n",
        "\n",
        "print_address(street=\"123 Main St\", city=\"LA\", state=\"CA\", zip=\"54321\")\n",
        "\n",
        "# iterate over keys\n",
        "print()\n",
        "def print_address2(**kwargs):\n",
        "  for key in kwargs.keys():\n",
        "    print(key, end=\" \")\n",
        "\n",
        "print_address2(street=\"123 Main St\", city=\"LA\", state=\"CA\", zip=\"54321\")\n",
        "\n",
        "#iterate over key and value\n",
        "print()\n",
        "def print_address3(**kwargs):\n",
        "  for key, value in kwargs.items():\n",
        "    print(f\"{key}: {value},\", end=\" \")\n",
        "\n",
        "print_address3(street=\"123 Main St\", city=\"LA\", state=\"CA\", zip=\"54321\")\n",
        "\n",
        "# can vary arguments\n",
        "print()\n",
        "def print_address4(**kwargs):\n",
        "  for key, value in kwargs.items():\n",
        "    print(f\"{key}: {value},\", end=\" \")\n",
        "\n",
        "print_address3(street=\"123 Main St\", apt=\"Unit F\", city=\"LA\", state=\"CA\", zip=\"54321\")"
      ],
      "metadata": {
        "colab": {
          "base_uri": "https://localhost:8080/"
        },
        "id": "7VQmaRpeDnXY",
        "outputId": "37f1df5f-ddb6-465a-de84-8c45d5e16bd2"
      },
      "execution_count": null,
      "outputs": [
        {
          "output_type": "stream",
          "name": "stdout",
          "text": [
            "123 Main St LA CA 54321 \n",
            "street city state zip \n",
            "street: 123 Main St, city: LA, state: CA, zip: 54321, \n",
            "street: 123 Main St, apt: Unit F, city: LA, state: CA, zip: 54321, "
          ]
        }
      ]
    },
    {
      "cell_type": "markdown",
      "source": [
        "Using *args and **kwargs together"
      ],
      "metadata": {
        "id": "fHm0WXSlFTzm"
      }
    },
    {
      "cell_type": "code",
      "source": [
        "def shipping_label(*args, **kwargs):\n",
        "  for arg in args:\n",
        "    print(arg, end=\" \")\n",
        "  print()\n",
        "\n",
        "  if \"apt\" in kwargs:\n",
        "    print(f\"{kwargs.get('street')} {kwargs.get('apt')}\")    # using single quotes for street because with double python gets confused on where f string ends\n",
        "  elif \"pobox\" in kwargs:\n",
        "    print(f\"{kwargs.get('street')}\")\n",
        "    print(f\"{kwargs.get('pobox')}\")\n",
        "  else:\n",
        "    print(f\"{kwargs.get('street')}\")\n",
        "\n",
        "  print(f\"{kwargs.get('city')}, {kwargs.get('state')} {kwargs.get('zip')}\")\n",
        "\n",
        "shipping_label(\"Lebron\", \"James\",                                     # args. Need to put args first because of order in parameters\n",
        "               street=\"123 Main St\", pobox=\"PO box #100\", city=\"Los Angeles\", state=\"CA\", zip=\"54321\")  # kwargs"
      ],
      "metadata": {
        "colab": {
          "base_uri": "https://localhost:8080/"
        },
        "id": "zfPtemdfFW5J",
        "outputId": "48f54796-e002-4c5c-8d42-1d9924a8dc26"
      },
      "execution_count": null,
      "outputs": [
        {
          "output_type": "stream",
          "name": "stdout",
          "text": [
            "Lebron James \n",
            "123 Main St\n",
            "PO box #100\n",
            "Los Angeles, CA 54321\n"
          ]
        }
      ]
    },
    {
      "cell_type": "markdown",
      "source": [
        "# Iterables"
      ],
      "metadata": {
        "id": "P_WnI1XQIT0x"
      }
    },
    {
      "cell_type": "markdown",
      "source": [
        "* An iterable is a category\n",
        "  * Any object/collection that can return its elements one at a time, allowing it to be iterated over in a loop\n",
        "* Kind of a review section"
      ],
      "metadata": {
        "id": "n9hl7PU7IU6m"
      }
    },
    {
      "cell_type": "markdown",
      "source": [
        "**Examples**"
      ],
      "metadata": {
        "id": "LJNl17P8I1hz"
      }
    },
    {
      "cell_type": "code",
      "source": [
        "numbers = [1, 2, 3, 4, 5] # lists are considered iterable\n",
        "\n",
        "for number in numbers:  # \"numbers\" is the iterable. The name of the current element in the iterable should be descriptive of what we are iterating over\n",
        "  print(number, end=\" \")\n",
        "print()\n",
        "for item in reversed(numbers):  # current element is also commonly called item\n",
        "  print(item, end=\" \")\n",
        "print()\n",
        "numbers = (1, 2, 3, 4, 5) # tuples are considered iterable\n",
        "for number in numbers:\n",
        "  print(number, end=\" \")\n",
        "print()\n",
        "fruits={\"apple\", \"banana\", \"cherry\"}  # sets are also considered iterable\n",
        "for fruit in fruits:      # sets are not reversable\n",
        "  print(fruit, end=\" \")\n",
        "print()\n",
        "name=\"Lebron James\"\n",
        "for char in name:   # strings are also considered iterable\n",
        "  print(char, end=\" \")\n",
        "print()\n",
        "my_dictionary = {\"A\":1, \"B\":2, \"C\":3}   # dictionaries are also iterable.\n",
        "for key in my_dictionary:\n",
        "  print(key, end=\" \")\n",
        "print()\n",
        "for value in my_dictionary.values():\n",
        "  print(value, end=\" \")\n",
        "print()\n",
        "for key, value in my_dictionary.items():\n",
        "  print(f\"{key}: {value}\", end=\", \")"
      ],
      "metadata": {
        "colab": {
          "base_uri": "https://localhost:8080/"
        },
        "id": "Oi6Eqv8aI27x",
        "outputId": "ff15d666-32e4-43be-b11b-6dbad6fb87ec"
      },
      "execution_count": null,
      "outputs": [
        {
          "output_type": "stream",
          "name": "stdout",
          "text": [
            "1 2 3 4 5 \n",
            "5 4 3 2 1 \n",
            "1 2 3 4 5 \n",
            "cherry banana apple \n",
            "L e b r o n   J a m e s \n",
            "A B C \n",
            "1 2 3 \n",
            "A: 1, B: 2, C: 3, "
          ]
        }
      ]
    },
    {
      "cell_type": "markdown",
      "source": [
        "# Membership Operators"
      ],
      "metadata": {
        "id": "vmdXPMwZK_v5"
      }
    },
    {
      "cell_type": "markdown",
      "source": [
        "* Operators used to test whether a value or variable is found in a sequence (string, list, tuple, set, dict.)\n",
        "* Will return a boolean\n",
        "* 2 membership operators\n",
        "  1. in\n",
        "  2. not in"
      ],
      "metadata": {
        "id": "Qwol3PLULDGc"
      }
    },
    {
      "cell_type": "markdown",
      "source": [
        "**Examples**"
      ],
      "metadata": {
        "id": "CvQ1mYz2LZJZ"
      }
    },
    {
      "cell_type": "code",
      "source": [
        "word = \"APPLE\"\n",
        "\n",
        "letter = input(\"Guess a letter in the secret word: \")\n",
        "\n",
        "if letter in word:    # in will return a boolean\n",
        "  print(f\"The letter {letter} is in the word\")\n",
        "else:\n",
        "  print(f\"The letter {letter} is not in the word\")\n",
        "\n",
        "if letter not in word:    # not in will return a boolean\n",
        "  print(f\"The letter {letter} is not in the word\")\n",
        "else:\n",
        "  print(f\"The letter {letter} is in the word\")\n"
      ],
      "metadata": {
        "colab": {
          "base_uri": "https://localhost:8080/"
        },
        "id": "1wtRJ_IgLeCx",
        "outputId": "427ed363-9b22-48d6-fd41-aa1be1fe51cc"
      },
      "execution_count": null,
      "outputs": [
        {
          "output_type": "stream",
          "name": "stdout",
          "text": [
            "Guess a letter in the secret word: A\n",
            "The letter A is in the word\n",
            "The letter A is in the word\n"
          ]
        }
      ]
    },
    {
      "cell_type": "code",
      "source": [
        "students={\"Lebron\", \"J. Cole\", \"Joe\"}\n",
        "\n",
        "student = input(\"Enter a student name: \")\n",
        "\n",
        "if student in students:\n",
        "  print(f\"{student} is a student\")\n",
        "else:\n",
        "  print(f\"{student} is not a student\")\n",
        "\n",
        "# same with not in"
      ],
      "metadata": {
        "colab": {
          "base_uri": "https://localhost:8080/"
        },
        "id": "CrsRKNYOMNIq",
        "outputId": "85c839d9-4aff-4756-8769-65c5cca53543"
      },
      "execution_count": null,
      "outputs": [
        {
          "output_type": "stream",
          "name": "stdout",
          "text": [
            "Enter a student name: Donald\n",
            "Donald is not a student\n"
          ]
        }
      ]
    },
    {
      "cell_type": "code",
      "source": [
        "# works for dictionaries too\n",
        "grades = {\"Riley\":\"A\", \"Kyle\":\"B\", \"Mike\":\"C\"}\n",
        "\n",
        "student = input(\"Enter a student: \")\n",
        "\n",
        "if student in grades:\n",
        "  print(f\"{student} has a grade of {grades[student]}\")  # dictionary of \"grades\" at index of \"student\"\n",
        "else:\n",
        "  print(f\"{student} is not in grade list\")"
      ],
      "metadata": {
        "colab": {
          "base_uri": "https://localhost:8080/"
        },
        "id": "fr1k1eVzM2qU",
        "outputId": "396f89a1-d788-464d-a912-af254bd4d306"
      },
      "execution_count": null,
      "outputs": [
        {
          "output_type": "stream",
          "name": "stdout",
          "text": [
            "Enter a student: Riley\n",
            "Riley has a grade of A\n"
          ]
        }
      ]
    },
    {
      "cell_type": "markdown",
      "source": [
        "# List Comprehension"
      ],
      "metadata": {
        "id": "0njnVMK2Nv0r"
      }
    },
    {
      "cell_type": "markdown",
      "source": [
        "* A concise way to create lists in Python\n",
        "  * Compact and easier to read than traditional loops\n",
        "  * Formula:\n",
        "    * [expression for value in iterable if condition]\n",
        "      * For every value in something that is iterable check some condition then do this expression"
      ],
      "metadata": {
        "id": "fUbtHwRhNyOM"
      }
    },
    {
      "cell_type": "markdown",
      "source": [
        "**Examples**"
      ],
      "metadata": {
        "id": "OFUOc_NebaIF"
      }
    },
    {
      "cell_type": "code",
      "source": [
        "# traditional for loop that doubles numbers in a list\n",
        "doubles = []\n",
        "for x in range(1,11):\n",
        "  doubles.append(x * 2)\n",
        "\n",
        "print(doubles)\n",
        "\n",
        "# Using list comprehension\n",
        "doubles2 = [x * 2 for x in range(1,11)]        # doubles2 = [expression for value in iterable]\n",
        "                                               # for every value in this iterable, do this\n",
        "print(doubles2)\n",
        "\n",
        "triples = [y * 3 for y in range(1,11)]\n",
        "print(triples)\n",
        "\n",
        "square = [z ** 2 for z in range(1,11)]\n",
        "print(square)"
      ],
      "metadata": {
        "colab": {
          "base_uri": "https://localhost:8080/"
        },
        "id": "Bf7TDcQSbbtl",
        "outputId": "99e3d092-3ef5-41d4-de38-53c08af7499a"
      },
      "execution_count": null,
      "outputs": [
        {
          "output_type": "stream",
          "name": "stdout",
          "text": [
            "[2, 4, 6, 8, 10, 12, 14, 16, 18, 20]\n",
            "[2, 4, 6, 8, 10, 12, 14, 16, 18, 20]\n",
            "[3, 6, 9, 12, 15, 18, 21, 24, 27, 30]\n",
            "[1, 4, 9, 16, 25, 36, 49, 64, 81, 100]\n"
          ]
        }
      ]
    },
    {
      "cell_type": "code",
      "source": [
        "# What about when using string?\n",
        "fruits = [\"apple\", \"orange\", \"banana\", \"coconut\"]\n",
        "fruits = [fruit.capitalize() for fruit in fruits]\n",
        "print(fruits)\n",
        "# OR\n",
        "fruits = [fruit.capitalize() for fruit in [\"apple\", \"orange\", \"banana\", \"coconut\"]]   # saves a line of code\n",
        "print(fruits)\n",
        "\n",
        "# take first letter of each string then put it in a new list\n",
        "fruits = [\"apple\", \"orange\", \"banana\", \"coconut\"]\n",
        "fruit_chars = [fruit[0].upper() for fruit in fruits]\n",
        "print(fruit_chars)"
      ],
      "metadata": {
        "colab": {
          "base_uri": "https://localhost:8080/"
        },
        "id": "UZ9eLKqpdTK6",
        "outputId": "020dc606-b445-4faf-f7eb-f93cb182131e"
      },
      "execution_count": null,
      "outputs": [
        {
          "output_type": "stream",
          "name": "stdout",
          "text": [
            "['Apple', 'Orange', 'Banana', 'Coconut']\n",
            "['Apple', 'Orange', 'Banana', 'Coconut']\n",
            "['A', 'O', 'B', 'C']\n"
          ]
        }
      ]
    },
    {
      "cell_type": "code",
      "source": [
        "# working with \"if conditions\"\n",
        "\n",
        "# print a list of positive numbers\n",
        "numbers = [1, -2, 3, -4, 5, -6]\n",
        "positive_nums = [number for number in numbers if number >= 0]\n",
        "print(positive_nums)\n",
        "\n",
        "# negative nums\n",
        "numbers = [1, -2, 3, -4, 5, -6]\n",
        "negative_nums = [number for number in numbers if number <= 0]\n",
        "print(negative_nums)\n",
        "\n",
        "# even nums\n",
        "numbers = [1, -2, 3, -4, 5, -6, -7, 8]\n",
        "even_nums = [number for number in numbers if number % 2 == 0]\n",
        "print(even_nums)\n",
        "\n",
        "# odd nums\n",
        "numbers = [1, -2, 3, -4, 5, -6, -7, 8]\n",
        "odd_nums = [number for number in numbers if number % 2 == 1]\n",
        "print(odd_nums)"
      ],
      "metadata": {
        "colab": {
          "base_uri": "https://localhost:8080/"
        },
        "id": "7qEE_QiWeZ_0",
        "outputId": "6656e545-ae66-4f5a-ecb4-4b4f86d405f8"
      },
      "execution_count": null,
      "outputs": [
        {
          "output_type": "stream",
          "name": "stdout",
          "text": [
            "[1, 3, 5]\n",
            "[-2, -4, -6]\n",
            "[-2, -4, -6, 8]\n",
            "[1, 3, 5, -7]\n"
          ]
        }
      ]
    },
    {
      "cell_type": "code",
      "source": [
        "# show passing grades. Passing is a 60 or above\n",
        "grades = [85, 42, 79, 90, 56, 61, 30]\n",
        "passed_grades = [grade for grade in grades if grade >= 60]\n",
        "print(passed_grades)"
      ],
      "metadata": {
        "colab": {
          "base_uri": "https://localhost:8080/"
        },
        "id": "CzcQdL1Yfwg3",
        "outputId": "dd7b22a3-4d71-42d5-f7a4-75edb9754715"
      },
      "execution_count": null,
      "outputs": [
        {
          "output_type": "stream",
          "name": "stdout",
          "text": [
            "[85, 79, 90, 61]\n"
          ]
        }
      ]
    },
    {
      "cell_type": "markdown",
      "source": [
        "# Match Case Statements"
      ],
      "metadata": {
        "id": "-4RBJaWtgJS-"
      }
    },
    {
      "cell_type": "markdown",
      "source": [
        "This is called a switch in other programming langauages\n",
        "  * Match case statements are alternatives to using many elif statements\n",
        "    * Execute some code if a value matches a case\n",
        "    * Clearer and syntax is more readable"
      ],
      "metadata": {
        "id": "HD4oz9x7gRB6"
      }
    },
    {
      "cell_type": "markdown",
      "source": [
        "**Examples**"
      ],
      "metadata": {
        "id": "5ubMfaGQg4mv"
      }
    },
    {
      "cell_type": "code",
      "source": [
        "# old way\n",
        "def day_of_week(day):\n",
        "  if day == 1:\n",
        "    print(\"Monday\")\n",
        "  elif day == 2:\n",
        "    print(\"Tuesday\")\n",
        "  elif day == 3:\n",
        "    print(\"Wednesday\")\n",
        "  elif day == 4:\n",
        "    print(\"Thursday\")\n",
        "  elif day == 5:\n",
        "    print(\"Friday\")\n",
        "  elif day == 6:\n",
        "    print(\"Saturday\")\n",
        "  elif day == 7:\n",
        "    print(\"Sunday\")\n",
        "  else:\n",
        "    return \"Not a valid day of the week\"\n",
        "\n",
        "day_of_week(2)\n",
        "\n",
        "# new\n",
        "# going to enclose the elif statements inside a \"match case block\"\n",
        "def day_of_week(day):\n",
        "  match day:\n",
        "      case 1:\n",
        "        print(\"Monday\")\n",
        "      case 2:\n",
        "        print(\"Tuesday\")\n",
        "      case 3:\n",
        "        print(\"Wednesday\")\n",
        "      case 4:\n",
        "        print(\"Thursday\")\n",
        "      case 5:\n",
        "        print(\"Friday\")\n",
        "      case 6:\n",
        "        print(\"Saturday\")\n",
        "      case 7:\n",
        "        print(\"Sunday\")\n",
        "      case _:\n",
        "        return \"Not a valid day of the week\"\n",
        "\n",
        "day_of_week(6)"
      ],
      "metadata": {
        "colab": {
          "base_uri": "https://localhost:8080/"
        },
        "id": "wmj4p17Rg6SG",
        "outputId": "f7b755b7-5f13-4840-c835-786c24e90ee6"
      },
      "execution_count": null,
      "outputs": [
        {
          "output_type": "stream",
          "name": "stdout",
          "text": [
            "Tuesday\n",
            "Saturday\n"
          ]
        }
      ]
    },
    {
      "cell_type": "code",
      "source": [
        "def is_weekend(day):\n",
        "  match day:\n",
        "      case \"Monday\":\n",
        "        return False\n",
        "      case \"Tuesday\":\n",
        "        return False\n",
        "      case \"Wednesday\":\n",
        "        return False\n",
        "      case \"Thursday\":\n",
        "        return False\n",
        "      case \"Friday\":\n",
        "        return False\n",
        "      case \"Saturday\":\n",
        "        return True\n",
        "      case \"Sunday\":\n",
        "        return True\n",
        "      case _:\n",
        "        return \"Not a valid day of the week\"\n",
        "\n",
        "print(is_weekend(\"Monday\"))\n",
        "\n",
        "# can use logical or operator to clean this up\n",
        "def is_weekend(day):\n",
        "  match day:\n",
        "      case \"Saturday\" | \"Sunday\":\n",
        "        return True\n",
        "      case _:\n",
        "        return False\n",
        "print(is_weekend(\"Saturday\"))"
      ],
      "metadata": {
        "colab": {
          "base_uri": "https://localhost:8080/"
        },
        "id": "3O6vCupNhhqg",
        "outputId": "8fa4cc50-a148-4921-c0ca-5cebb9669631"
      },
      "execution_count": null,
      "outputs": [
        {
          "output_type": "stream",
          "name": "stdout",
          "text": [
            "False\n",
            "True\n"
          ]
        }
      ]
    },
    {
      "cell_type": "markdown",
      "source": [
        "# Modules"
      ],
      "metadata": {
        "id": "WP7jUDP8jyVq"
      }
    },
    {
      "cell_type": "markdown",
      "source": [
        "* A Python file containing code you want to include in your program\n",
        "  * Use \"import\" to include a module (built-in or your own)\n",
        "  * useful to break up a large program into reusable separate files"
      ],
      "metadata": {
        "id": "ZPTShrFnjzRq"
      }
    },
    {
      "cell_type": "code",
      "source": [
        "# print(help(\"modules\"))\n",
        "# will print all the modules in the standard python library\n",
        "  # math, string, time are all examples\n",
        "# print(help(\"math\")) will list all variables and functions in a module"
      ],
      "metadata": {
        "id": "Pkaiw2T3kPW2"
      },
      "execution_count": null,
      "outputs": []
    },
    {
      "cell_type": "markdown",
      "source": [
        "**Examples**"
      ],
      "metadata": {
        "id": "O7ZDQ4-_kygo"
      }
    },
    {
      "cell_type": "code",
      "source": [
        "import math # now have access to all functions in the math module\n",
        "print(math.pi)  # to import a function you type \"math.\" and then whatever function you want\n",
        "\n",
        "# OR\n",
        "import math as m  # gives the math module an alias of m\n",
        "print(m.pi)\n",
        "\n",
        "# OR\n",
        "from math import pi  # imports only the pi variable from the math module\n",
        "print(pi)"
      ],
      "metadata": {
        "id": "ihaSOReRk0Qq",
        "colab": {
          "base_uri": "https://localhost:8080/"
        },
        "outputId": "59c67512-19a3-4e4e-fdb2-5bd1aeda732a"
      },
      "execution_count": null,
      "outputs": [
        {
          "output_type": "stream",
          "name": "stdout",
          "text": [
            "3.141592653589793\n",
            "3.141592653589793\n",
            "3.141592653589793\n"
          ]
        }
      ]
    },
    {
      "cell_type": "markdown",
      "source": [
        "To create a module you make a new file in your folder. The name of the file will be the name of the module\n",
        "  * If you create a file called \"example.py\" and inside the file you write pi=3.14, and you have different functions you create. Ex: def square(x): return x ** 2.\n",
        "  * You can go back to your main file, call it main.py, and call the example module by saying \"import example\"\n",
        "    * You can do things like \"result = example.pi\", result = square(3), etc."
      ],
      "metadata": {
        "id": "dN_MAPamMZP2"
      }
    },
    {
      "cell_type": "markdown",
      "source": [
        "It can be useful at times to separate your program into individual files. Especially the larger program you have"
      ],
      "metadata": {
        "id": "6vkN7mcKNcLb"
      }
    },
    {
      "cell_type": "markdown",
      "source": [
        "#  Variable Scope & Scope Resolution"
      ],
      "metadata": {
        "id": "csecY_g-Nja3"
      }
    },
    {
      "cell_type": "markdown",
      "source": [
        "* Variable scope = where a variable is visible and accessible\n",
        "* Scope Resolution = (LEGB) Local -> Enclosed -> Global -> Built In"
      ],
      "metadata": {
        "id": "5AxXjrH9NqJG"
      }
    },
    {
      "cell_type": "markdown",
      "source": [
        "**Examples**"
      ],
      "metadata": {
        "id": "drzqbpMeOVCm"
      }
    },
    {
      "cell_type": "code",
      "source": [
        "# Local Scope\n",
        "def func1():\n",
        "  a = 1\n",
        "  print(a)\n",
        "\n",
        "def func2():\n",
        "  b = 2\n",
        "  print(b)\n",
        "\n",
        "func1()   # variable a is local to function 1\n",
        "func2()   # variable b is local to function 2"
      ],
      "metadata": {
        "colab": {
          "base_uri": "https://localhost:8080/"
        },
        "id": "h0NSzJA-OWXp",
        "outputId": "7bd566e5-2075-4895-ce5b-07747a799038"
      },
      "execution_count": null,
      "outputs": [
        {
          "output_type": "stream",
          "name": "stdout",
          "text": [
            "1\n",
            "2\n"
          ]
        }
      ]
    },
    {
      "cell_type": "code",
      "source": [
        "# Enclosed Scope: a function declared within another function\n",
        "def func1():\n",
        "  x = 1\n",
        "  def func2():\n",
        "    x = 2\n",
        "    print(x)  # prints the local version of x\n",
        "  func2()     # at the end of function 1 we are invoking function 2\n",
        "\n",
        "func1()\n",
        "\n",
        "def func1():\n",
        "  x = 1\n",
        "  def func2():\n",
        "              # if you delete the variable declaration in function 2, we would use the enclosed version instead\n",
        "    print(x)\n",
        "  func2()     # at the end of function 1 we are invoking function 2\n",
        "\n",
        "func1()\n",
        "\n",
        "# The order of operation is to use any local variables first, then enclosed variables"
      ],
      "metadata": {
        "colab": {
          "base_uri": "https://localhost:8080/"
        },
        "id": "TqJMdeTAPSew",
        "outputId": "34317819-d32b-43fd-c769-df12ce6438d0"
      },
      "execution_count": null,
      "outputs": [
        {
          "output_type": "stream",
          "name": "stdout",
          "text": [
            "2\n",
            "1\n"
          ]
        }
      ]
    },
    {
      "cell_type": "code",
      "source": [
        "# Global Scope: meaning outside of any functions\n",
        "x = 3\n",
        "def func1():\n",
        "  print(x)\n",
        "\n",
        "def func2():\n",
        "    print(x)\n",
        "\n",
        "func1()\n",
        "func2()\n",
        "\n",
        "# OR\n",
        "def func1():\n",
        "  print(x)\n",
        "\n",
        "def func2():\n",
        "    print(x)\n",
        "\n",
        "x = 4\n",
        "func1()\n",
        "func2()"
      ],
      "metadata": {
        "colab": {
          "base_uri": "https://localhost:8080/"
        },
        "id": "aHVy__i4RTZM",
        "outputId": "9607bf5a-6552-4ff6-bf5a-8364a989597a"
      },
      "execution_count": null,
      "outputs": [
        {
          "output_type": "stream",
          "name": "stdout",
          "text": [
            "3\n",
            "3\n",
            "4\n",
            "4\n"
          ]
        }
      ]
    },
    {
      "cell_type": "code",
      "source": [
        "# Built-in Scope\n",
        "from math import e\n",
        "\n",
        "print(e)    # e is built in\n",
        "\n",
        "def func1():\n",
        "  print(e)"
      ],
      "metadata": {
        "colab": {
          "base_uri": "https://localhost:8080/"
        },
        "id": "CHZ0DVJIRVYe",
        "outputId": "a4ae8377-873d-4334-c788-6cc4199a875c"
      },
      "execution_count": null,
      "outputs": [
        {
          "output_type": "stream",
          "name": "stdout",
          "text": [
            "2.718281828459045\n"
          ]
        }
      ]
    },
    {
      "cell_type": "code",
      "source": [
        "from math import e\n",
        "\n",
        "print(e)    # e is built in\n",
        "\n",
        "def func1():\n",
        "  print(e)\n",
        "\n",
        "e = 3   # following the LEGB order local comes first\n",
        "func1()"
      ],
      "metadata": {
        "colab": {
          "base_uri": "https://localhost:8080/"
        },
        "id": "AQuHqFxJRqzW",
        "outputId": "a3d70efc-23a1-4899-81fe-2cdec55f5a1b"
      },
      "execution_count": null,
      "outputs": [
        {
          "output_type": "stream",
          "name": "stdout",
          "text": [
            "2.718281828459045\n",
            "3\n"
          ]
        }
      ]
    },
    {
      "cell_type": "markdown",
      "source": [
        "# if __ name__ == '__ main__'"
      ],
      "metadata": {
        "id": "b10asIwXR8oM"
      }
    },
    {
      "cell_type": "markdown",
      "source": [
        "* if __ name__ == '__ main__'\n",
        "  * this script can be imported OR run standalone\n",
        "  * Functions and classes in this module can be reused without the main block of code executing\n",
        "    * sometimes you want the functionality of a program without executing the main body of code\n",
        "* A library is a good example of this\n",
        "  * library = Import library for functionality (such as math module)\n",
        "    * When running library directly, display a help page\n",
        "      * But when running for functionalty we don't want the help page"
      ],
      "metadata": {
        "id": "yQDamPd3SQfT"
      }
    },
    {
      "cell_type": "code",
      "source": [
        "def main():\n",
        "  # your program goes here\n",
        "\n",
        "if __name__ == '__main__':\n",
        "  main()"
      ],
      "metadata": {
        "id": "UK77T-NxS5r1"
      },
      "execution_count": null,
      "outputs": []
    },
    {
      "cell_type": "markdown",
      "source": [
        "**Examples**"
      ],
      "metadata": {
        "id": "licKzTSmTh3S"
      }
    },
    {
      "cell_type": "code",
      "source": [
        "# honestly I can't do this in jupyter notebook because it doesn't have files like that.\n",
        "# Watch the video from 5:14:24 - 5:23:34"
      ],
      "metadata": {
        "id": "CV22SFXCTi_S"
      },
      "execution_count": null,
      "outputs": []
    },
    {
      "cell_type": "code",
      "source": [
        "# basiclly you use this to see which file is being run directly\n",
        "    # define a function called \"main\" that has the logic for whatever file you are in. This ensures it runs the logic for the folder you are running while still calling on other files"
      ],
      "metadata": {
        "id": "j1art4O0WdYn"
      },
      "execution_count": null,
      "outputs": []
    },
    {
      "cell_type": "markdown",
      "source": [
        "This really is a crucial concept though. You have functions within a file and logic at the end that runs before any of the functions to make sure you are running the file you want.\n",
        "  * this is what allows you to import modules and libraries"
      ],
      "metadata": {
        "id": "o1OmZMJWXHGp"
      }
    },
    {
      "cell_type": "markdown",
      "source": [
        "# Time Jump pt. 2\n",
        "* Ran through a few examples but for the sake of time I just watched them and did not copy them down.\n",
        "  * From 5:23:38 - 6:32:31\n",
        "    * examples used a little of everthing gone over so far\n",
        "    * ended up copying hangman game in VS code folder nested inside \"learning Python\" folder in my desktop"
      ],
      "metadata": {
        "id": "8ZkY17XxYQsX"
      }
    },
    {
      "cell_type": "markdown",
      "source": [
        "# ⭐️⭐️⭐️Object Oriented Programming⭐️⭐️⭐️"
      ],
      "metadata": {
        "id": "2TkLwHLGt2xu"
      }
    },
    {
      "cell_type": "markdown",
      "source": [
        "**Very Important topic**, maybe the most important\n",
        "\n",
        "Object = a bundle of related attributes (variables) and methods (functions)\n",
        "  * Attributes are similar to varibles. The describe what the object has\n",
        "    * Ex. A cup, phone, or book has different attributes to represent it\n",
        "      * For a phone an attribute could be \"version_num = 13\" or \"is_on = True\". For a book it could be \"title = Discourses an Selected Writings\" or \"pages = 300\"\n",
        "  * Methods are functions that belong to an object. Technically functions and methods are different. A method is a function that belongs in an object.\n",
        "    * Ex. A phone can make a call, recieve a call, turn on, or turn off. A book you can open, close, or read.\n"
      ],
      "metadata": {
        "id": "xXPf3eRZt91n"
      }
    },
    {
      "cell_type": "markdown",
      "source": [
        "An object is a bundle of attributes and methods. They can be used to create real world items. But to do so you need to use a \"class\"\n",
        "  * class = (blueprint) used to design the structure and layout of an object\n",
        "    * We need to design what our objects have (attributes) and what they can do (methods)"
      ],
      "metadata": {
        "id": "WIgjegyRPo0v"
      }
    },
    {
      "cell_type": "markdown",
      "source": [
        "**Examples**"
      ],
      "metadata": {
        "id": "oFYflUKEP7hd"
      }
    },
    {
      "cell_type": "code",
      "source": [
        "class Car:\n",
        "  def __init__(self, model, year, color, for_sale):   # Constructor. You need this constructor method in order to construct objects. It behaves similar to a function. It is a \"dunder\" method, dunder = double underscore\n",
        "       self.model = model  # when we receive the name of the model we will assign it to this object. \"self\" is already provided, it means this object we are creating right now, this car.\n",
        "       self.year = year\n",
        "       self.color = color\n",
        "       self.for_sale = for_sale   # these are all examples of attributes a model might have\n",
        "\n",
        "# to construct a car object we need a unique name for this car\n",
        "car1 = Car(\"Bronco\", 2025, \"Blue\", False)\n",
        "print(car1) # outputs the memory address of this car object.\n",
        "print(car1.model) # \".\" is known as the attribute access operator. Outputs a specifc attribute of the car object\n",
        "print(car1.year)\n",
        "print(car1.color)\n",
        "print(car1.for_sale)\n",
        "\n",
        "print()\n",
        "# will reuse the Car class to create a second car\n",
        "car2 = Car(\"Corvette\", 2023, \"Red\", True)\n",
        "print(car2)\n",
        "print(car2.model)\n",
        "print(car2.year)\n",
        "print(car2.color)\n",
        "print(car2.for_sale)\n",
        "\n",
        "print()\n",
        "car3 = Car(\"Civic\", 2022, \"Black\", True)\n",
        "print(car3)\n",
        "print(car3.model)\n",
        "print(car3.year)\n",
        "print(car3.color)\n",
        "print(car3.for_sale)"
      ],
      "metadata": {
        "colab": {
          "base_uri": "https://localhost:8080/"
        },
        "id": "GIvj1t5XP9tB",
        "outputId": "34788c3a-482a-4ba6-f023-68d7554db0f4"
      },
      "execution_count": null,
      "outputs": [
        {
          "output_type": "stream",
          "name": "stdout",
          "text": [
            "<__main__.Car object at 0x7f5b0c2ab690>\n",
            "Bronco\n",
            "2025\n",
            "Blue\n",
            "False\n",
            "\n",
            "<__main__.Car object at 0x7f5b0c2ab010>\n",
            "Corvette\n",
            "2023\n",
            "Red\n",
            "True\n",
            "\n",
            "<__main__.Car object at 0x7f5b0c28fe10>\n",
            "Civic\n",
            "2022\n",
            "Black\n",
            "True\n"
          ]
        }
      ]
    },
    {
      "cell_type": "markdown",
      "source": [
        "Classes can take up a lot of space so normally you make a new file for your class and import it\n",
        "  * Ex. If you made a separate file called \"car\" and had the \"Car\" class in the file. You would put \"import Car from car\" to get the \"Car\" class\n",
        "\n",
        "In my case I can't make multiple files in Jupyter Notebook so I am going to leave the class at the top of the file"
      ],
      "metadata": {
        "id": "Vlx91jo2SrtF"
      }
    },
    {
      "cell_type": "code",
      "source": [
        "# going over methods\n",
        "class Car:\n",
        "  def __init__(self, model, year, color, for_sale):\n",
        "       self.model = model\n",
        "       self.year = year\n",
        "       self.color = color\n",
        "       self.for_sale = for_sale\n",
        "\n",
        "  def drive(self):    # drive method\n",
        "    print(f\"You are driving the {self.color} {self.model}\")  # self is referring to the object we are currently working with.\n",
        "\n",
        "  def stop(self):    # stop method\n",
        "    print(f\"You stopped the {self.color} {self.model}\")\n",
        "\n",
        "  def describe(self):\n",
        "    print(f\"{self.year} {self.color} {self.model}\")\n",
        "\n",
        "\n",
        "# main\n",
        "car1 = Car(\"Bronco\", 2025, \"Blue\", False)\n",
        "car2 = Car(\"Corvette\", 2023, \"Red\", True)\n",
        "car3 = Car(\"Civic\", 2022, \"Black\", True)\n",
        "\n",
        "\n",
        "car1.drive()\n",
        "car1.stop()\n",
        "car1.describe()"
      ],
      "metadata": {
        "colab": {
          "base_uri": "https://localhost:8080/"
        },
        "id": "oe7RQKr8TS2Z",
        "outputId": "6ffd156b-e178-4267-a254-6573ffc39fe9"
      },
      "execution_count": null,
      "outputs": [
        {
          "output_type": "stream",
          "name": "stdout",
          "text": [
            "You are driving the Blue Bronco\n",
            "You stopped the Blue Bronco\n",
            "2025 Blue Bronco\n"
          ]
        }
      ]
    },
    {
      "cell_type": "markdown",
      "source": [
        "# Class Variables"
      ],
      "metadata": {
        "id": "dbP284oMaccd"
      }
    },
    {
      "cell_type": "markdown",
      "source": [
        "Class variables = shared among all instances (objects) of a class\n",
        "  * instance variables are defined inside of the constructor\n",
        "    * Ex. self.model = model or self.year = year\n",
        "  * class variables are defined outside of the constructor\n",
        "    * wheels = 4\n",
        "  * allow you to share data among all objects created from a class"
      ],
      "metadata": {
        "id": "VfkGD_uDad0i"
      }
    },
    {
      "cell_type": "markdown",
      "source": [
        "**Examples**"
      ],
      "metadata": {
        "id": "3yWZqKe0bDi_"
      }
    },
    {
      "cell_type": "code",
      "source": [
        "class Student:\n",
        "\n",
        "  class_year = 2025 # class variable\n",
        "  num_students = 0\n",
        "\n",
        "  def __init__(self, name, age):  # This code will always be executed when we instantiate an object. \"name\" and \"age\" are attributes\n",
        "    self.name = name    # instance variables\n",
        "    self.age = age      # if we are constructing student1, imagine you are replacing \"self\" with \"student1\"\n",
        "    Student.num_students += 1 # since we are modifying a class variable we use the name of the class instead of self\n",
        "\n",
        "student1 = Student(\"Lebron\", 40)\n",
        "student2 = Student(\"Jermaine\", 38)\n",
        "student3 = Student(\"Shawn\", 30)\n",
        "\n",
        "print(student1.name, student1.age)\n",
        "print(student2.name, student2.age)\n",
        "print(student1.class_year)  # can access a class variable by each attribute, but it's good practice to access it by the name of the class\n",
        "print(Student.class_year)   # this way you can tell that it is a class variable because you are accessing it from the class and not any instance. It's more explicit\n",
        "\n",
        "print()\n",
        "print(Student.num_students)\n",
        "\n",
        "print()\n",
        "print(f\"My graduating class of {Student.class_year} has {Student.num_students} students\")\n",
        "print(student1.name)\n",
        "print(student2.name)\n",
        "print(student3.name)"
      ],
      "metadata": {
        "colab": {
          "base_uri": "https://localhost:8080/"
        },
        "id": "fFqWrHoLbFeu",
        "outputId": "9ee5f254-9a87-4e10-f1a4-8f0c42bbffe5"
      },
      "execution_count": null,
      "outputs": [
        {
          "output_type": "stream",
          "name": "stdout",
          "text": [
            "Lebron 40\n",
            "Jermaine 38\n",
            "2025\n",
            "2025\n",
            "\n",
            "3\n",
            "\n",
            "My graduating class of 2025 has 3 students\n",
            "Lebron\n",
            "Jermaine\n",
            "Shawn\n"
          ]
        }
      ]
    },
    {
      "cell_type": "markdown",
      "source": [
        "# Inheritance"
      ],
      "metadata": {
        "id": "lRKAM_r3eU3l"
      }
    },
    {
      "cell_type": "markdown",
      "source": [
        "Inheritance allows a class to inherit attributes and methods from another class\n",
        "  * Helps with reusability and extensibility\n",
        "  * class Child(parent)\n",
        "    * Ex. You can have a class called \"Animal\" and have classes that inhert it called \"dog\", \"cat\", and \"horse\"\n",
        "  * Also known as \"sub\" and \"super\" classes\n",
        "    * class sub(Super)\n"
      ],
      "metadata": {
        "id": "A9U8TP4WeWq5"
      }
    },
    {
      "cell_type": "markdown",
      "source": [
        "**Example**"
      ],
      "metadata": {
        "id": "SnlBtIHqyaX1"
      }
    },
    {
      "cell_type": "code",
      "source": [
        "class Animal:\n",
        "  def __init__(self, name):\n",
        "    self.name = name\n",
        "    self.is_alive = True\n",
        "\n",
        "  def eat(self):\n",
        "    print(f\"{self.name} is eating\")\n",
        "\n",
        "  def sleep(self):\n",
        "    print(f\"{self.name} is asleep\")\n",
        "\n",
        "class Dog(Animal):    # Need to add an inheritance list, which is why we add parenthesis. \"Animal\" is the class we are inheriting from\n",
        "  def speak(self):    # children class can still have their own attributes and methods\n",
        "    print(\"Woof!\")\n",
        "\n",
        "class Cat(Animal):    # has all the attributes and methods of Animal class\n",
        "  def speak(self):\n",
        "    print(\"Meow!\")\n",
        "\n",
        "class Mouse(Animal):\n",
        "  def speak(self):\n",
        "    print(\"Squeak!\")\n",
        "\n",
        "dog = Dog(\"Scooby\")\n",
        "cat = Cat(\"Garfield\")\n",
        "mouse = Mouse(\"Jerry\")\n",
        "\n",
        "print(dog.name)\n",
        "print(dog.is_alive)\n",
        "dog.eat()\n",
        "dog.sleep()\n",
        "dog.speak()"
      ],
      "metadata": {
        "colab": {
          "base_uri": "https://localhost:8080/"
        },
        "id": "Ocy0IiXuybnQ",
        "outputId": "fae7dedf-cb09-49f8-d532-4436d7ab5e02"
      },
      "execution_count": null,
      "outputs": [
        {
          "output_type": "stream",
          "name": "stdout",
          "text": [
            "Scooby\n",
            "True\n",
            "Scooby is eating\n",
            "Scooby is asleep\n",
            "Woof!\n"
          ]
        }
      ]
    },
    {
      "cell_type": "markdown",
      "source": [
        "# Multiple & Multilevel Inheritance"
      ],
      "metadata": {
        "id": "kp4jSQ9x0j52"
      }
    },
    {
      "cell_type": "markdown",
      "source": [
        "multiple inheritance: inherit from more than one parent class\n",
        "  * Ex. class C can inhert from class A and class B\n",
        "    * C(A, B)\n",
        "\n",
        "multilevel inheritance: a child class can inherit from a parent which inherits from another parent\n",
        "  * C(B) <- B(A) <- A"
      ],
      "metadata": {
        "id": "RzxUso5M0zfN"
      }
    },
    {
      "cell_type": "markdown",
      "source": [
        "**Examples**"
      ],
      "metadata": {
        "id": "YbzaUj5T1hz0"
      }
    },
    {
      "cell_type": "code",
      "source": [
        "# Multiple Inheritance\n",
        "\n",
        "# 2 parent class\n",
        "class Prey:\n",
        "  def flee(self):\n",
        "    print(\"This animal is fleeing\")\n",
        "\n",
        "class Preditor:\n",
        "  def hunt(self):\n",
        "    print(\"This animal is hunting\")\n",
        "\n",
        "# 3 children classes\n",
        "class Rabbit(Prey):\n",
        "  pass\n",
        "\n",
        "class Hawk(Preditor):\n",
        "  pass\n",
        "\n",
        "class Fish(Preditor, Prey):   # fish will hunt small fish and flee from bigger fish\n",
        "  pass\n",
        "\n",
        "# Create objects\n",
        "rabbit = Rabbit()\n",
        "hawk = Hawk()\n",
        "fish = Fish()\n",
        "\n",
        "rabbit.flee()\n",
        "hawk.hunt()\n",
        "fish.flee()\n",
        "fish.hunt()"
      ],
      "metadata": {
        "colab": {
          "base_uri": "https://localhost:8080/"
        },
        "id": "uR7Sl6z61i5S",
        "outputId": "679aac68-75ab-4e5e-c612-049ddd4e08be"
      },
      "execution_count": null,
      "outputs": [
        {
          "output_type": "stream",
          "name": "stdout",
          "text": [
            "This animal is fleeing\n",
            "This animal is hunting\n",
            "This animal is fleeing\n",
            "This animal is hunting\n"
          ]
        }
      ]
    },
    {
      "cell_type": "code",
      "source": [
        "# Multilevel Inheritance - a parent can inherit from another parent\n",
        "class Animal: # prey and preditor will both inherit from the animal class\n",
        "  def eat(self):\n",
        "    print(\"This animal is eating\")\n",
        "\n",
        "  def sleep(self):\n",
        "    print(\"This animal is sleeping\")\n",
        "\n",
        "class Prey(Animal):\n",
        "  def flee(self):\n",
        "    print(\"This animal is fleeing\")\n",
        "\n",
        "class Preditor(Animal):\n",
        "  def hunt(self):\n",
        "    print(\"This animal is hunting\")\n",
        "\n",
        "# 3 children classes\n",
        "class Rabbit(Prey):\n",
        "  pass\n",
        "\n",
        "class Hawk(Preditor):\n",
        "  pass\n",
        "\n",
        "class Fish(Preditor, Prey):\n",
        "  pass\n",
        "\n",
        "# Create objects\n",
        "rabbit = Rabbit()\n",
        "hawk = Hawk()\n",
        "fish = Fish()\n",
        "\n",
        "hawk.eat()\n",
        "hawk.sleep()"
      ],
      "metadata": {
        "colab": {
          "base_uri": "https://localhost:8080/"
        },
        "id": "kqG2PyJz20Hu",
        "outputId": "f955ba33-da45-40f6-8ecc-2746b8d90a8e"
      },
      "execution_count": null,
      "outputs": [
        {
          "output_type": "stream",
          "name": "stdout",
          "text": [
            "This animal is eating\n",
            "This animal is sleeping\n"
          ]
        }
      ]
    },
    {
      "cell_type": "code",
      "source": [
        "# Expanding example\n",
        "# Animal Class\n",
        "class Animal:\n",
        "  # constructor to define Animal class attributes\n",
        "  def __init__(self, name):\n",
        "    self.name = name\n",
        "\n",
        "  # Animal class methods\n",
        "  def eat(self):\n",
        "    print(f\"{self.name} is eating\")\n",
        "\n",
        "  def sleep(self):\n",
        "    print(f\"{self.name} is sleeping\")\n",
        "\n",
        "\n",
        "\n",
        "# Prey and Preditor classes\n",
        "class Prey(Animal):       # if you are not assigning any attributes or if you don't need any other initialization logic, you don't need a constructor\n",
        "  def flee(self):\n",
        "    print(f\"{self.name} is fleeing\")\n",
        "\n",
        "class Preditor(Animal):\n",
        "  def hunt(self):\n",
        "    print(f\"{self.name} is hunting\")\n",
        "\n",
        "\n",
        "\n",
        "# 3 children classes\n",
        "class Rabbit(Prey):\n",
        "  pass\n",
        "\n",
        "class Hawk(Preditor):\n",
        "  pass\n",
        "\n",
        "class Fish(Preditor, Prey):\n",
        "  pass\n",
        "\n",
        "\n",
        "\n",
        "\n",
        "# Create objects\n",
        "rabbit = Rabbit(\"Bugs\")\n",
        "hawk = Hawk(\"Tony\")\n",
        "fish = Fish(\"Nemo\")\n",
        "\n",
        "rabbit.eat()\n",
        "hawk.sleep()\n",
        "fish.flee()"
      ],
      "metadata": {
        "colab": {
          "base_uri": "https://localhost:8080/"
        },
        "id": "gc7fMcuz3vFi",
        "outputId": "a25ba872-376a-4283-8353-0ade27fbd52a"
      },
      "execution_count": null,
      "outputs": [
        {
          "output_type": "stream",
          "name": "stdout",
          "text": [
            "Bugs is eating\n",
            "Tony is sleeping\n",
            "Nemo is fleeing\n"
          ]
        }
      ]
    },
    {
      "cell_type": "markdown",
      "source": [
        "# super() function"
      ],
      "metadata": {
        "id": "o_iqyv8V5cD7"
      }
    },
    {
      "cell_type": "markdown",
      "source": [
        "Super () = Function used in a child class to call methods from a parent class (superclass)\n",
        "  * Allows you to extend the functionality of the inherited methods\n",
        "  * Can use it if all sub classes have similiar attributes\n",
        "  * When used within a sub-classes method it extends the functionality of that method"
      ],
      "metadata": {
        "id": "UYGI4AjN5lv7"
      }
    },
    {
      "cell_type": "markdown",
      "source": [
        "**Examples**"
      ],
      "metadata": {
        "id": "CogtDOLs6FIO"
      }
    },
    {
      "cell_type": "code",
      "source": [
        "class Circle:\n",
        "  def __init__(self, color, is_filled, radius):\n",
        "    self.color = color\n",
        "    self.is_filled = is_filled\n",
        "    self.radius = radius\n",
        "\n",
        "class Square:\n",
        "  def __init__(self, color, is_filled, width):\n",
        "    self.color = color\n",
        "    self.is_filled = is_filled\n",
        "    self.width = width\n",
        "\n",
        "class Triangle:\n",
        "  def __init__(self, color, is_filled, width, height):\n",
        "    self.color = color\n",
        "    self.is_filled = is_filled\n",
        "    self.width = width\n",
        "    self.height = height\n",
        "\n",
        "# all of these classes share the same attributes of color and is_filled. So we can make a parent class using inheritance"
      ],
      "metadata": {
        "id": "4Idx0n6Y6Gn-"
      },
      "execution_count": null,
      "outputs": []
    },
    {
      "cell_type": "code",
      "source": [
        "class Shape():\n",
        "  def __init__(self, color, is_filled):\n",
        "    self.color = color\n",
        "    self.is_filled = is_filled\n",
        "\n",
        "# for the constructor in each of these children class we have to call the constructor for the parent, aka, the superclass\n",
        "class Circle(Shape):\n",
        "  def __init__(self, color, is_filled, radius):\n",
        "    super().__init__(color, is_filled)    # super(). call constructor of super class, add attributes\n",
        "    self.radius = radius\n",
        "\n",
        "class Square(Shape):\n",
        "  def __init__(self, color, is_filled, width):\n",
        "    super().__init__(color, is_filled)    # superclass takes care of all the attributes that the sub-classes have in common\n",
        "    self.width = width\n",
        "\n",
        "class Triangle(Shape):\n",
        "  def __init__(self, color, is_filled, width, height):\n",
        "    super().__init__(color, is_filled)\n",
        "    self.width = width\n",
        "    self.height = height\n",
        "\n",
        "# construct objects\n",
        "circle = Circle(\"red\", True, 5)\n",
        "square = Square(color=\"blue\", is_filled=False, width=10)  # can use keyword arguments\n",
        "triangle = Triangle(\"Green\", True, 7, 8)\n",
        "\n",
        "print(circle.color)\n",
        "print(square.is_filled)\n",
        "print(triangle.height)\n",
        "\n",
        "# if the super() function is confusing imagine it as calling the Super class name. So in this example wherever you see super() imagine Shape"
      ],
      "metadata": {
        "colab": {
          "base_uri": "https://localhost:8080/"
        },
        "id": "jL54-LCN7EHl",
        "outputId": "c5a251dc-3093-4078-9a0c-de7497e887ee"
      },
      "execution_count": null,
      "outputs": [
        {
          "output_type": "stream",
          "name": "stdout",
          "text": [
            "red\n",
            "False\n",
            "8\n"
          ]
        }
      ]
    },
    {
      "cell_type": "code",
      "source": [
        "# can also extend the functionality of a method + method over riding\n",
        "class Shape():\n",
        "  def __init__(self, color, is_filled):\n",
        "    self.color = color\n",
        "    self.is_filled = is_filled\n",
        "\n",
        "  def describe(self):\n",
        "    print(f\"It is {self.color} and {'filled' if self.is_filled else 'Not filled'}\")\n",
        "\n",
        "class Circle(Shape):\n",
        "  def __init__(self, color, is_filled, radius):\n",
        "    super().__init__(color, is_filled)\n",
        "    self.radius = radius\n",
        "\n",
        "  def describe(self):   # method over riding. Method has the same name as a parent method. Child method runs first because\n",
        "    print(f\"It is a circle with an area of {3.14*self.radius*self.radius} cm^2\")\n",
        "    super().describe()    # extending the functionality of the describe method\n",
        "\n",
        "class Square(Shape):\n",
        "  def __init__(self, color, is_filled, width):\n",
        "    super().__init__(color, is_filled)\n",
        "    self.width = width\n",
        "\n",
        "  def describe(self):   # method over riding. Method has the same name as a parent method. Child method runs first because\n",
        "    print(f\"It is a square with an area of {self.width*self.width} cm^2\")\n",
        "    super().describe()\n",
        "\n",
        "class Triangle(Shape):\n",
        "  def __init__(self, color, is_filled, width, height):\n",
        "    super().__init__(color, is_filled)\n",
        "    self.width = width\n",
        "    self.height = height\n",
        "\n",
        "  def describe(self):   # method over riding. Method has the same name as a parent method. Child method runs first because\n",
        "    print(f\"It is a triangle with an area of {self.width*self.height / 2} cm^2\")\n",
        "    super().describe()\n",
        "\n",
        "# construct objects\n",
        "circle = Circle(\"red\", True, 5)\n",
        "square = Square(color=\"blue\", is_filled=False, width=10)\n",
        "triangle = Triangle(\"Green\", True, 7, 8)\n",
        "\n",
        "print(circle.color)\n",
        "print(square.is_filled)\n",
        "print(triangle.height)\n",
        "print()\n",
        "\n",
        "circle.describe()\n",
        "print()\n",
        "square.describe()\n",
        "print()\n",
        "triangle.describe()"
      ],
      "metadata": {
        "colab": {
          "base_uri": "https://localhost:8080/"
        },
        "id": "kw-P_XsC9gP5",
        "outputId": "8837a448-e2d9-48e3-fb94-2f7cc5bfe15d"
      },
      "execution_count": null,
      "outputs": [
        {
          "output_type": "stream",
          "name": "stdout",
          "text": [
            "red\n",
            "False\n",
            "8\n",
            "\n",
            "It is a circle with an area of 78.5 cm^2\n",
            "It is red and filled\n",
            "\n",
            "It is a square with an area of 100 cm^2\n",
            "It is blue and Not filled\n",
            "\n",
            "It is a triangle with an area of 28.0 cm^2\n",
            "It is Green and filled\n"
          ]
        }
      ]
    },
    {
      "cell_type": "markdown",
      "source": [
        "If a child shares a similar method with a parent, you will use the child's version and not the parent\n",
        "  * called method over riding\n",
        "\n",
        "If you would like to extend the functionality of a method from a parent you can use the super() method"
      ],
      "metadata": {
        "id": "yKRnHVlf_BW1"
      }
    },
    {
      "cell_type": "markdown",
      "source": [
        "# Polymorphism"
      ],
      "metadata": {
        "id": "tGO5IX_4_0E0"
      }
    },
    {
      "cell_type": "markdown",
      "source": [
        "Polymorphism = Greek word that means to \"have many forms or faces\"\n",
        "  * Poly = many\n",
        "  * morphe = Form\n",
        "\n",
        "2 ways to achieve polymorphism\n",
        "  1. Inheritance = An object could be treated as the same type as the parent class\n",
        "  2. \"Duck typing\" = Object must have necessary attributes/methods"
      ],
      "metadata": {
        "id": "KXZ5aDmUAIMR"
      }
    },
    {
      "cell_type": "markdown",
      "source": [
        "**Examples**"
      ],
      "metadata": {
        "id": "o8vrhCfPqZNc"
      }
    },
    {
      "cell_type": "markdown",
      "source": [
        "Using inheritance"
      ],
      "metadata": {
        "id": "_AJNEXkRtNF-"
      }
    },
    {
      "cell_type": "code",
      "source": [
        "from abc import ABC, abstractmethod\n",
        "\n",
        "class Shape:\n",
        "\n",
        "  @abstractmethod   # decorator\n",
        "  def area(self):\n",
        "    pass\n",
        "\n",
        "class Circle(Shape):\n",
        "  def __init__(self, radius):\n",
        "    self.radius = radius\n",
        "\n",
        "  def area(self):\n",
        "    return 3.14 * self.radius ** 2\n",
        "\n",
        "class Square(Shape):\n",
        "  def __init__(self, side):\n",
        "    self.side = side\n",
        "\n",
        "  def area(self):\n",
        "    return self.side ** 2\n",
        "\n",
        "class Triangle(Shape):\n",
        "  def __init__(self, base, height):\n",
        "    self.base = base\n",
        "    self.height = height\n",
        "\n",
        "  def area(self):\n",
        "    return self.base * self.height * 0.5\n",
        "\n",
        "class Pizza(Circle):\n",
        "  def __init__(self, topping, radius):\n",
        "    self.topping = topping\n",
        "    super().__init__(radius)\n",
        "\n",
        "# circle = Circle() # the circle variable has 2 forms, a Circle and a Shape.\n",
        "# say we want a list of shapes. What do they all have in common?\n",
        "\n",
        "shapes = [Circle(4), Square(5), Triangle(6, 7), Pizza(\"pepperoni\", 15)] # each of these objects has 2 forms or faces\n",
        "                                                                       # pizza does not inhert from the Shape class, but if you make Pizza inhert from Circle, then it could work\n",
        "# pizza has 3 forms: Pizza, Circle, and Shape.\n",
        "\n",
        "for shape in shapes:\n",
        "  print(f\"{shape.area()} cm^2\")"
      ],
      "metadata": {
        "colab": {
          "base_uri": "https://localhost:8080/"
        },
        "id": "SnQGY9x2qaq6",
        "outputId": "a09d57cf-618d-4be3-81c6-ef88f5b07b97"
      },
      "execution_count": null,
      "outputs": [
        {
          "output_type": "stream",
          "name": "stdout",
          "text": [
            "50.24 cm^2\n",
            "25 cm^2\n",
            "21.0 cm^2\n",
            "706.5 cm^2\n"
          ]
        }
      ]
    },
    {
      "cell_type": "markdown",
      "source": [
        "## Duck Typing\n",
        "  * Another way to achieve polymorphism besides inheritance\n",
        "    * Objects can be treated as if they're a different type as they meet the minimum necessary attributes/methods\n",
        "      * If it looks like a duck, and quacks like a duck, it must be a duck\n",
        "      * As long as an object resmebles another, it could be treated as that type"
      ],
      "metadata": {
        "id": "Yq42Mq4ItIwR"
      }
    },
    {
      "cell_type": "code",
      "source": [
        "class Animal:\n",
        "  alive = True  # class attribute\n",
        "\n",
        "class Dog(Animal):\n",
        "  def speak(self):\n",
        "    print(\"Woof!\")\n",
        "\n",
        "class Cat(Animal):\n",
        "  def speak(self):\n",
        "    print(\"Meow!\")\n",
        "\n",
        "class Car:\n",
        "  def horn(self):\n",
        "    print(\"Honk!\")\n",
        "\n",
        "# create a list of animals\n",
        "animals = [Dog(), Cat(), Car()]   # Car object doesn't have the minimum necessary attributes/methods\n",
        "\n",
        "for animal in animals:\n",
        "  animal.speak()"
      ],
      "metadata": {
        "colab": {
          "base_uri": "https://localhost:8080/",
          "height": 216
        },
        "id": "YNgvmNE4trGc",
        "outputId": "5d413e4e-81bb-421c-d8e1-12158c213d62"
      },
      "execution_count": null,
      "outputs": [
        {
          "output_type": "stream",
          "name": "stdout",
          "text": [
            "Woof!\n",
            "Meow!\n"
          ]
        },
        {
          "output_type": "error",
          "ename": "AttributeError",
          "evalue": "'Car' object has no attribute 'speak'",
          "traceback": [
            "\u001b[0;31m---------------------------------------------------------------------------\u001b[0m",
            "\u001b[0;31mAttributeError\u001b[0m                            Traceback (most recent call last)",
            "\u001b[0;32m<ipython-input-31-3857209521>\u001b[0m in \u001b[0;36m<cell line: 0>\u001b[0;34m()\u001b[0m\n\u001b[1;32m     18\u001b[0m \u001b[0;34m\u001b[0m\u001b[0m\n\u001b[1;32m     19\u001b[0m \u001b[0;32mfor\u001b[0m \u001b[0manimal\u001b[0m \u001b[0;32min\u001b[0m \u001b[0manimals\u001b[0m\u001b[0;34m:\u001b[0m\u001b[0;34m\u001b[0m\u001b[0;34m\u001b[0m\u001b[0m\n\u001b[0;32m---> 20\u001b[0;31m   \u001b[0manimal\u001b[0m\u001b[0;34m.\u001b[0m\u001b[0mspeak\u001b[0m\u001b[0;34m(\u001b[0m\u001b[0;34m)\u001b[0m\u001b[0;34m\u001b[0m\u001b[0;34m\u001b[0m\u001b[0m\n\u001b[0m",
            "\u001b[0;31mAttributeError\u001b[0m: 'Car' object has no attribute 'speak'"
          ]
        }
      ]
    },
    {
      "cell_type": "code",
      "source": [
        "class Animal:\n",
        "  alive = True  # class attribute\n",
        "\n",
        "class Dog(Animal):\n",
        "  def speak(self):\n",
        "    print(\"Woof!\")\n",
        "\n",
        "class Cat(Animal):\n",
        "  def speak(self):\n",
        "    print(\"Meow!\")\n",
        "\n",
        "class Car:\n",
        "  alive = False # this makes the car meet the minimum necessary requirements\n",
        "  def speak(self):  # changed from horn --> speak. # Now the Car object quacks like a duck...\n",
        "    print(\"Honk!\")\n",
        "\n",
        "# create a list of animals\n",
        "animals = [Dog(), Cat(), Car()]   # Car object doesn't have the minimum necessary attributes/methods\n",
        "\n",
        "\n",
        "for animal in animals:\n",
        "  animal.speak()\n",
        "  print(animal.alive)"
      ],
      "metadata": {
        "colab": {
          "base_uri": "https://localhost:8080/"
        },
        "id": "hk4iYUb5uXGG",
        "outputId": "e13443ed-81ec-40cf-bff9-72b578cda6a8"
      },
      "execution_count": null,
      "outputs": [
        {
          "output_type": "stream",
          "name": "stdout",
          "text": [
            "Woof!\n",
            "True\n",
            "Meow!\n",
            "True\n",
            "Honk!\n",
            "False\n"
          ]
        }
      ]
    },
    {
      "cell_type": "markdown",
      "source": [
        "# Static Methods"
      ],
      "metadata": {
        "id": "Og_rhuiTvETJ"
      }
    },
    {
      "cell_type": "markdown",
      "source": [
        "Static Method = a method that belong to a class rather than any object from that class (instance)\n",
        "  * Usually used for general utility functions\n",
        "\n",
        "Instance Methods = Best for operations on instances of the class (object)\n",
        "  * Instance methods are methods that belong to individual objects created from that class\n",
        "\n",
        "Static Methods = Best for utility functions that do not need access to class data"
      ],
      "metadata": {
        "id": "5DOrD9ysvKeG"
      }
    },
    {
      "cell_type": "markdown",
      "source": [
        "**Examples**"
      ],
      "metadata": {
        "id": "Mj6eU_BUwKKv"
      }
    },
    {
      "cell_type": "markdown",
      "source": [
        "Instance method"
      ],
      "metadata": {
        "id": "OtBt30bywMVw"
      }
    },
    {
      "cell_type": "code",
      "source": [
        "class Employee:\n",
        "  def __init__(self, name, position):\n",
        "    self.name = name\n",
        "    self.position = position\n",
        "\n",
        "  def get_info(self):   # instance method: each object that we create from this class will have their own get info method\n",
        "    return f\"{self.name} = {self.position}\"\n",
        "\n",
        "  @staticmethod     # don't need to rely on any objects to use this method\n",
        "  def is_valid_position(position):    # don't have self as the first arguement because we are not working with any objects created from this class\n",
        "    valid_positions = [\"Manager\", \"Cashier\", \"Cook\", \"Janitor\"]\n",
        "    return position in valid_positions\n",
        "\n",
        "# employee objects\n",
        "employee1 = Employee(\"Eugune\", \"Manager\")\n",
        "employee2 = Employee(\"Squidward\", \"Cashier\")\n",
        "emplyee3 = Employee(\"Spongebob\", \"Cook\")\n",
        "\n",
        "# for an instance method you access the object, then call the instance method\n",
        "print(employee1.get_info())\n",
        "print(employee2.get_info())\n",
        "print(emplyee3.get_info())\n",
        "# to use static method call the name of the class, don't need to create an object\n",
        "print(Employee.is_valid_position(\"Player\"))\n"
      ],
      "metadata": {
        "colab": {
          "base_uri": "https://localhost:8080/"
        },
        "id": "Erh2nQe0wOqk",
        "outputId": "3ad07b4c-638a-4b30-f679-d4e0a5ffe316"
      },
      "execution_count": null,
      "outputs": [
        {
          "output_type": "stream",
          "name": "stdout",
          "text": [
            "Eugune = Manager\n",
            "Squidward = Cashier\n",
            "Spongebob = Cook\n",
            "False\n"
          ]
        }
      ]
    },
    {
      "cell_type": "markdown",
      "source": [
        "# Class Methods"
      ],
      "metadata": {
        "id": "xO6FuD-bym6P"
      }
    },
    {
      "cell_type": "markdown",
      "source": [
        "Class Method = allows operations related to the class itself\n",
        "  * Take (cls) as the first parameter, which represents the class itself\n",
        "    * cls = class\n",
        "    * So the first parameter will be cls not self"
      ],
      "metadata": {
        "id": "WMfEfv5oypwo"
      }
    },
    {
      "cell_type": "markdown",
      "source": [
        "**Examples**"
      ],
      "metadata": {
        "id": "Q4Jizy4Ny59e"
      }
    },
    {
      "cell_type": "code",
      "source": [
        "class Student:\n",
        "\n",
        "  count = 0\n",
        "  total_gpa = 0\n",
        "\n",
        "  def __init__(self, name, gpa):\n",
        "    self.name = name\n",
        "    self.gpa = gpa\n",
        "    Student.count += 1    # whenever we constructe a student object we will access the class of student and incremet the count variable by 1\n",
        "    Student.total_gpa += gpa\n",
        "\n",
        "  # Instance method\n",
        "  def get_info(self):\n",
        "    return f\"{self.name} {self.gpa}\"\n",
        "\n",
        "  # Class method: to work with class data\n",
        "  @classmethod\n",
        "  def get_count(cls):\n",
        "    return f\"Total number of students: {cls.count}\"   # when we the class method we can access or modify class data, the class data in this example is count\n",
        "\n",
        "  @classmethod\n",
        "  def get_total_gpa(cls):\n",
        "    if cls.count == 0:\n",
        "      return 0\n",
        "    else:\n",
        "      return f\"Average GPA: {cls.total_gpa / cls.count: .2f}\"\n",
        "\n",
        "\n",
        "# student objects\n",
        "student1 = Student(\"Spongebob\", 3.2)\n",
        "student2 = Student(\"Phineas\", 4.0)\n",
        "student3 = Student(\"Ferb\", 8.7)\n",
        "\n",
        "print(Student.get_count())\n",
        "print(Student.get_total_gpa())"
      ],
      "metadata": {
        "colab": {
          "base_uri": "https://localhost:8080/"
        },
        "id": "kZUPtw-2y7Uy",
        "outputId": "ea4310bb-4dd4-4856-b391-422e9f092377"
      },
      "execution_count": null,
      "outputs": [
        {
          "output_type": "stream",
          "name": "stdout",
          "text": [
            "Total number of students: 3\n",
            "Average GPA:  5.30\n"
          ]
        }
      ]
    },
    {
      "cell_type": "markdown",
      "source": [
        "Instance Methods = Best for operations on instances of the class (object)\n",
        "\n",
        "Static Methods = Best for utility functions that do not need access to class data\n",
        "\n",
        "Class Methods = Best for class-level data or require access to the class itself"
      ],
      "metadata": {
        "id": "vu8qLKq01GxH"
      }
    },
    {
      "cell_type": "markdown",
      "source": [
        "# Magic Methods"
      ],
      "metadata": {
        "id": "yz7XinQk1bIv"
      }
    },
    {
      "cell_type": "markdown",
      "source": [
        "Magic Methods = dunder methods (double underscore) __init__, __str__, __eq__\n",
        "  * They are automatically called by many on Python's built in operations\n",
        "  * Within the magic methods it allows developers to define or customize the behavior of objects"
      ],
      "metadata": {
        "id": "JjsztAgf1b1h"
      }
    },
    {
      "cell_type": "markdown",
      "source": [
        "**Examples**"
      ],
      "metadata": {
        "id": "h3PEO5Lx9Cl9"
      }
    },
    {
      "cell_type": "code",
      "source": [
        "class Book:\n",
        "  def __init__(self, title, author, num_pages): # create magic method\n",
        "    self.title = title\n",
        "    self.author = author\n",
        "    self.num_pages = num_pages\n",
        "\n",
        "  def __str__(self):    # instead of returning a memory address, we can customize this behavior\n",
        "    return f\"'{self.title}' by {self.author}\"\n",
        "\n",
        "  def __eq__(self, other):    # self is the first book and other is the second book\n",
        "    return self.title == other.title and self.author == other.author  # returns boolean\n",
        "\n",
        "  def __lt__(self, other):    # lt = less than. Returns boolean\n",
        "    return self.num_pages < other.num_pages\n",
        "\n",
        "  def __gt__(self, other):    # lt = less than. Returns boolean\n",
        "    return self.num_pages > other.num_pages\n",
        "\n",
        "  def __add__(self, other):\n",
        "    return f\"{self.num_pages + other.num_pages} pages\"\n",
        "\n",
        "  def __contains__(self, keyword): # Returns a boolean. Let's us search for specific words\n",
        "    return keyword in self.title\n",
        "\n",
        "  def __getitem__(self, key):\n",
        "    if key == \"title\":\n",
        "      return self.title\n",
        "    elif key == \"author\":\n",
        "      return self.author\n",
        "    elif key == \"num_pages\":\n",
        "      return self.num_pages\n",
        "    else:\n",
        "      return f\"Key '{key}' was not found\"\n",
        "\n",
        "\n",
        "# define objects\n",
        "book1 = Book(\"Discourses and Selective Writings\", \"Epictitus\", 310)\n",
        "book2 = Book(\"The Republic\", \"Plato\", 650)\n",
        "book3 = Book(\"Meditations on First Philosophy\", \"Descartes\", 300)\n",
        "book4 = Book(\"Discourses and Selective Writings\", \"Epictitus\", 350)\n",
        "\n",
        "print(book1)    # we're able to call book one with no direct call to an attribute because of the __str__ magic method\n",
        "print(book1 == book2) # we're able to do this because of the __eq__ magic method\n",
        "print(book1 == book4)\n",
        "print(book1 < book4)  # can use < on 2 objects without the __lt__ method\n",
        "print(book1 > book4)\n",
        "print(book1 + book4)\n",
        "print(\"Republic\" in book2)  # __contains__\n",
        "print(book1['title']) # __getitem__\n",
        "print(book2['author'])\n"
      ],
      "metadata": {
        "colab": {
          "base_uri": "https://localhost:8080/"
        },
        "id": "vCfO1J8D9D2a",
        "outputId": "5dcb7cde-38b4-4f4b-df4b-f2cc246cd076"
      },
      "execution_count": null,
      "outputs": [
        {
          "output_type": "stream",
          "name": "stdout",
          "text": [
            "'Discourses and Selective Writings' by Epictitus\n",
            "False\n",
            "True\n",
            "True\n",
            "False\n",
            "660 pages\n",
            "True\n",
            "Discourses and Selective Writings\n",
            "Plato\n"
          ]
        }
      ]
    },
    {
      "cell_type": "markdown",
      "source": [
        "# '@property' Decorator"
      ],
      "metadata": {
        "id": "wKr9Nf8TB3mN"
      }
    },
    {
      "cell_type": "markdown",
      "source": [
        "Property Decorator = Decorator used to define a method as a property (it can access like an attribute)\n",
        "  * Benefit: Add additional logic when read, write, or delete attributes\n",
        "  * Gives you getter, setter, and deleter method\n",
        "    * getter for read\n",
        "    * setter to write\n",
        "    * deleter to delete"
      ],
      "metadata": {
        "id": "rz7-hkRhB5yB"
      }
    },
    {
      "cell_type": "markdown",
      "source": [
        "**Examples**"
      ],
      "metadata": {
        "id": "8zEqx6-xCbHd"
      }
    },
    {
      "cell_type": "code",
      "source": [
        "# getter methods\n",
        "class Rectangle:\n",
        "  def __init__(self, width, height):  # constructor\n",
        "    self._width = width\n",
        "    self._height = height\n",
        "\n",
        "  # using the property decorator, when reading this attributes I can add additional logic. The only change you need to do is to make your attributes private, thus why the \"_\" is there.\n",
        "  # By adding \"_\" it lets devs know that you shoudln't access the width or height directly outside of this class. To get width and height you use the getter methods\n",
        "  @property\n",
        "  def width(self):\n",
        "    return f\"{self._width:.1f}cm\"\n",
        "\n",
        "  @property\n",
        "  def height(self):\n",
        "    return f\"{self._height:.1f}cm\"\n",
        "\n",
        "# construct a rectangle object\n",
        "rectangle = Rectangle(3, 4)\n",
        "\n",
        "print(rectangle._width) # you can access a protected member is possible but should not be done\n",
        "print(rectangle.height) #calls getter methods"
      ],
      "metadata": {
        "colab": {
          "base_uri": "https://localhost:8080/"
        },
        "id": "nBtKp0xYCc0m",
        "outputId": "08a7f428-dbca-483a-f69a-9a2fd42f437b"
      },
      "execution_count": null,
      "outputs": [
        {
          "output_type": "stream",
          "name": "stdout",
          "text": [
            "3\n",
            "4.0cm\n"
          ]
        }
      ]
    },
    {
      "cell_type": "code",
      "source": [
        "# setter method\n",
        "class Rectangle:\n",
        "  def __init__(self, width, height):  # constructor\n",
        "    self._width = width\n",
        "    self._height = height\n",
        "\n",
        "  @property\n",
        "  def width(self):\n",
        "    return f\"{self._width:.1f}cm\"\n",
        "\n",
        "  @property\n",
        "  def height(self):\n",
        "    return f\"{self._height:.1f}cm\"\n",
        "\n",
        "  @width.setter # adds additional logic when writing or changing one of the attributes\n",
        "  def width(self, new_width):\n",
        "    if new_width > 0:\n",
        "      self._width = new_width\n",
        "    else:\n",
        "      print(\"Width must be greater than 0\")\n",
        "\n",
        "  @height.setter\n",
        "  def height(self, new_height):\n",
        "    if new_height > 0:\n",
        "      self._height = new_height\n",
        "    else:\n",
        "      print(\"Height must be greater than 0\")\n",
        "\n",
        "\n",
        "# construct a rectangle object\n",
        "rectangle = Rectangle(3, 4)\n",
        "\n",
        "rectangle.width = 0   # outputs: \"Width must be greater than 0\"\n",
        "rectangle.width = 7\n",
        "rectangle.height = 6\n",
        "\n",
        "print(rectangle._width)\n",
        "print(rectangle.width)\n",
        "print(rectangle.height)"
      ],
      "metadata": {
        "colab": {
          "base_uri": "https://localhost:8080/"
        },
        "id": "mBPadLJmEYCA",
        "outputId": "6802aae2-b971-4699-e891-978fc87cb771"
      },
      "execution_count": null,
      "outputs": [
        {
          "output_type": "stream",
          "name": "stdout",
          "text": [
            "Width must be greater than 0\n",
            "7\n",
            "7.0cm\n",
            "6.0cm\n"
          ]
        }
      ]
    },
    {
      "cell_type": "code",
      "source": [
        "# deleter method\n",
        "class Rectangle:\n",
        "  def __init__(self, width, height):  # constructor\n",
        "    self._width = width\n",
        "    self._height = height\n",
        "\n",
        "  @property\n",
        "  def width(self):\n",
        "    return f\"{self._width:.1f}cm\"\n",
        "\n",
        "  @property\n",
        "  def height(self):\n",
        "    return f\"{self._height:.1f}cm\"\n",
        "\n",
        "  @width.setter   # attribute . method\n",
        "  def width(self, new_width):\n",
        "    if new_width > 0:\n",
        "      self._width = new_width\n",
        "    else:\n",
        "      print(\"Width must be greater than 0\")\n",
        "\n",
        "  @height.setter  # attribute . method\n",
        "  def height(self, new_height):\n",
        "    if new_height > 0:\n",
        "      self._height = new_height\n",
        "    else:\n",
        "      print(\"Height must be greater than 0\")\n",
        "\n",
        "  @width.deleter  # attribute . method\n",
        "  def width(self):\n",
        "    del self._width\n",
        "    print(\"Width has been deleted\")\n",
        "\n",
        "  @height.deleter\n",
        "  def height(self):\n",
        "    del self._height\n",
        "    print(\"Height has been deleted\")\n",
        "\n",
        "\n",
        "# construct a rectangle object\n",
        "rectangle = Rectangle(3, 4)\n",
        "\n",
        "rectangle.width = 0   # outputs: \"Width must be greater than 0\"\n",
        "rectangle.width = 7\n",
        "rectangle.height = 6\n",
        "\n",
        "print()\n",
        "del rectangle.width\n",
        "del rectangle.height"
      ],
      "metadata": {
        "colab": {
          "base_uri": "https://localhost:8080/"
        },
        "id": "RkGLNLOyFxgE",
        "outputId": "48da475e-3fcf-471e-f82d-26ad75b0bf79"
      },
      "execution_count": null,
      "outputs": [
        {
          "output_type": "stream",
          "name": "stdout",
          "text": [
            "Width must be greater than 0\n",
            "\n",
            "Width has been deleted\n",
            "Height has been deleted\n"
          ]
        }
      ]
    },
    {
      "cell_type": "markdown",
      "source": [
        "# Decorators"
      ],
      "metadata": {
        "id": "6qgq7beHGWQe"
      }
    },
    {
      "cell_type": "markdown",
      "source": [
        "Decorator = A function that extends the behavior of another function w/o modifying that base function\n",
        "  * Pass the base function as an argument to the decorator function\n",
        "\n",
        "Example\n",
        "  * add_sprinkles   <-- Everyone might not want sprinkles so you add a decorator as an option. Now it doesn't change the base\n",
        "  * get_ice_cream(\"vanilla\")   <-- this is the base function where you can pass in a flavor of ice cream"
      ],
      "metadata": {
        "id": "M_TFnvXKGlQE"
      }
    },
    {
      "cell_type": "markdown",
      "source": [
        "**Examples**"
      ],
      "metadata": {
        "id": "lfjTVyPeHglB"
      }
    },
    {
      "cell_type": "code",
      "source": [
        "# basic formular to create a decorator\n",
        "def add_sprinkles(func):  # func = function. We are going to pass a function to our decorator function\n",
        "  def wrapper():\n",
        "    func()\n",
        "  return wrapper\n",
        "\n",
        "# to apply a decorator to a function, preceeding the function put \" @'decorator function name' \"\n",
        "@add_sprinkles\n",
        "def get_ice_cream():\n",
        "  print(\"Here is your ice cream 😎\")\n",
        "\n",
        "get_ice_cream()"
      ],
      "metadata": {
        "colab": {
          "base_uri": "https://localhost:8080/"
        },
        "id": "Kku36YgyHiFJ",
        "outputId": "e7a72f47-7307-475d-bd98-b13a4b6e9aab"
      },
      "execution_count": null,
      "outputs": [
        {
          "output_type": "stream",
          "name": "stdout",
          "text": [
            "Here is your ice cream 😎\n"
          ]
        }
      ]
    },
    {
      "cell_type": "code",
      "source": [
        "# now to make the decorator do something\n",
        "\n",
        "def add_sprinkles(func):\n",
        "  def wrapper(*args, **kwargs):  # wrapper makes sure the code is only executed when we get_ice_cream, not when we get the decorator\n",
        "    print(\"*You add sprinkles*\")\n",
        "    func(*args, **kwargs)\n",
        "  return wrapper\n",
        "\n",
        "def add_fudge(func):\n",
        "  def wrapper(*args, **kwargs):\n",
        "    print(\"*You add fudge*\")\n",
        "    func(*args, **kwargs)\n",
        "  return wrapper\n",
        "\n",
        "@add_sprinkles\n",
        "@add_fudge\n",
        "def get_ice_cream(flavor):\n",
        "  print(f\"Here is your {flavor} ice cream 😎\")\n",
        "\n",
        "\n",
        "get_ice_cream(\"vanilla\")"
      ],
      "metadata": {
        "colab": {
          "base_uri": "https://localhost:8080/"
        },
        "id": "Njv4kS3kLQAU",
        "outputId": "8fc09899-ecc5-4e61-cb13-32c41cce251c"
      },
      "execution_count": null,
      "outputs": [
        {
          "output_type": "stream",
          "name": "stdout",
          "text": [
            "*You add sprinkles*\n",
            "*You add fudge*\n",
            "Here is your vanilla ice cream 😎\n"
          ]
        }
      ]
    },
    {
      "cell_type": "markdown",
      "source": [
        "# Exception Handling"
      ],
      "metadata": {
        "id": "k_qwUOojM9dS"
      }
    },
    {
      "cell_type": "markdown",
      "source": [
        "Exception = An event that interupts the normal flow of a program\n",
        "  * Ex. (ZeroDivisionError, TypeError, ValueError)\n",
        "    * divide by 0, preform operation with wrong value type, attempt to typecase value of wrong datatype\n",
        "  * Exceptions interupt program when they are not written correctly\n",
        "  * 3 steps\n",
        "    1. try - try some code\n",
        "    2. except - handle an Exception\n",
        "    3. finally - do some clean up\n",
        "  "
      ],
      "metadata": {
        "id": "w1pO5bmRNFZ7"
      }
    },
    {
      "cell_type": "markdown",
      "source": [
        "**Examples**"
      ],
      "metadata": {
        "id": "AG9UfkwIOOPT"
      }
    },
    {
      "cell_type": "code",
      "source": [
        "# anytime a user inputs something is considered dangerous code, because the user can input anything\n",
        "number = int(input(\"Enter a number: \"))\n",
        "print(1/number) # if number = 0 then it is a zero division error. if number = pizza then it is value error\n",
        "print()\n",
        "\n",
        "# because this code is dangerous we will surround it within a try block\n",
        "try:\n",
        "  number2 = int(input(\"Enter a number2: \"))\n",
        "  print(1/number2)\n",
        "except ZeroDivisionError:\n",
        "  print(\"You can't divide by zero IDIOT!\") # gracefully handled this exception\n",
        "except ValueError:\n",
        "  print(\"Enter only numbers please\")\n",
        "except Exception:   # catches all exceptions. Good practice to tell the user what went wrong so specifc exact error's first\n",
        "  print(\"Something went wrong!\")\n",
        "finally:  # runs regardless if there is an exception. Always runs. Ex. With files you always want to close them when you leave so you would use a finally block\n",
        "  print(\"Do some clean up\")"
      ],
      "metadata": {
        "colab": {
          "base_uri": "https://localhost:8080/"
        },
        "id": "sQkjNZznOPlH",
        "outputId": "51417f8f-1fcf-4fb3-cac3-9f4a98f157c8"
      },
      "execution_count": null,
      "outputs": [
        {
          "output_type": "stream",
          "name": "stdout",
          "text": [
            "Enter a number: 1\n",
            "1.0\n",
            "\n",
            "Enter a number2: 0\n",
            "You can't divide by zero IDIOT!\n",
            "Do some clean up\n"
          ]
        }
      ]
    },
    {
      "cell_type": "markdown",
      "source": [
        "# File Detection"
      ],
      "metadata": {
        "id": "GGnHvJimQIW7"
      }
    },
    {
      "cell_type": "markdown",
      "source": [
        "Because this involves files I will be swithing to VS code. If I had to guess most of my work starting now will be in VS code. I am going to try copy the final code in a section but note that I did it all in VS code"
      ],
      "metadata": {
        "id": "hIABAbRqQKVA"
      }
    },
    {
      "cell_type": "code",
      "source": [
        "# file name \"test.txt\"\n",
        "I like pizza"
      ],
      "metadata": {
        "id": "bT-mLFvzUjvU"
      },
      "execution_count": null,
      "outputs": []
    },
    {
      "cell_type": "code",
      "source": [
        "# file name \"practice.py\"\n",
        "# Python file detection\n",
        "\n",
        "import os\n",
        "\n",
        "# relative file path\n",
        "file_path = \"file_detection/test.txt\"\n",
        "\n",
        "if os.path.exists(file_path): # returns boolean of T/F if file exist\n",
        "    print(f\"The location '{file_path}' exists\")\n",
        "\n",
        "    if os.path.isfile(file_path):\n",
        "        print(\"That is a file\")\n",
        "    elif os.path.isdir(file_path):\n",
        "        print(\"That is a directory (folder)\")\n",
        "else:\n",
        "    print(\"That location doesn't exist\")\n",
        "\n",
        "# absolute file path\n",
        "# get exact location on your computer of file.\n",
        "    #  Ex. C:/Users/HP/Desktop/test.txt"
      ],
      "metadata": {
        "id": "B5a5xHGhUnwN"
      },
      "execution_count": null,
      "outputs": []
    },
    {
      "cell_type": "markdown",
      "source": [
        "# Writing Files"
      ],
      "metadata": {
        "id": "ENjrHVLNUsy5"
      }
    },
    {
      "cell_type": "markdown",
      "source": [
        "Pything writing files (.txt, .json, .csv)"
      ],
      "metadata": {
        "id": "SITrvLiTUy-S"
      }
    },
    {
      "cell_type": "code",
      "source": [
        "# txt = plain text\n",
        "\n",
        "txt_data = \"I like pizza!\"\n",
        "\n",
        "file_path = \"writing_files/output.txt\"    # relative file path\n",
        "\n",
        "# \"with\" statement automatically closes files\n",
        "# \"open\" function returns the file object.\n",
        "    #  first param = file path.\n",
        "    # second param = mode.\n",
        "        # \"w\" write\n",
        "        # \"x\" also writes if file doesn't exist. If it does it will be an error\n",
        "        # \"a\" appends a file\n",
        "        # \"r\" reads a file\n",
        "\n",
        "\n",
        "with open(file=file_path, mode=\"w\") as file:  # creates file.\n",
        "    file.write(txt_data)\n",
        "    print(f\"txt file '{file_path}' was created\")\n",
        "\n",
        "try:\n",
        "    with open(file=file_path, mode=\"x\") as file:\n",
        "        file.write(txt_data)\n",
        "        print(f\"txt file '{file_path}' was created\")\n",
        "except FileExistsError:\n",
        "    print(\"That file already exists\")\n",
        "\n",
        "\n",
        "try:\n",
        "    with open(file=file_path, mode=\"a\") as file:\n",
        "        file.write(\"\\n\" + txt_data)\n",
        "        print(f\"txt file '{file_path}' was created\")\n",
        "except FileExistsError:\n",
        "    print(\"That file already exists\")\n",
        "\n",
        "# Step II.\n",
        "\n",
        "# with a collection\n",
        "employees = [\"Plato\", \"Socrates\", \"Mill\"]\n",
        "\n",
        "file_path = \"writing_files/output2.txt\"\n",
        "\n",
        "try:\n",
        "    with open(file_path, \"w\") as file:\n",
        "        for employee in employees:\n",
        "            file.write(employee + \" \")\n",
        "        print(f\"txt file '{file_path}' was created\")\n",
        "except FileExistsError:\n",
        "    print(\"That file already exists\")"
      ],
      "metadata": {
        "id": "LRADJigRVANk"
      },
      "execution_count": null,
      "outputs": []
    },
    {
      "cell_type": "code",
      "source": [
        "# outputting json file\n",
        "    # json files are made of key:value pairs\n",
        "import json\n",
        "\n",
        "employee = {\n",
        "    \"name\": \"Socrates\",\n",
        "    \"age\": 70,\n",
        "    \"job\": \"teacher\"\n",
        "}\n",
        "\n",
        "file_path = \"writing_files/output3.json\"\n",
        "\n",
        "try:\n",
        "    with open(file_path, \"w\") as file:\n",
        "        json.dump(employee, file, indent=4) # dump will convert dictionary to json string. indent is just formatting\n",
        "        print(f\"json file '{file_path}' was created\")\n",
        "except FileExistsError:\n",
        "    print(\"That file already exists\")"
      ],
      "metadata": {
        "id": "Iov4-nLygFpL"
      },
      "execution_count": null,
      "outputs": []
    },
    {
      "cell_type": "code",
      "source": [
        "# going to use .csv files\n",
        "# csv = comma separated values. Common with spreadsheet of data\n",
        "import csv\n",
        "employees = [[\"Name\", \"Age\", \"Job\"],\n",
        "              [\"Socrates\", 70, \"Teacher\"],\n",
        "              [\"Plato\", 80, \"Student\"],\n",
        "              [\"Mills\", 67, \"Economist\"]]\n",
        "\n",
        "file_path = \"writing_files/output4.csv\"\n",
        "\n",
        "try:\n",
        "    with open(file_path, \"w\") as file:\n",
        "        writer = csv.writer(file)   # writer is an object, it provides methods for writing data to a csv file\n",
        "        for row in employees:\n",
        "            writer.writerow(row)\n",
        "        print(f\"csv file '{file_path}' was created\")\n",
        "except FileExistsError:\n",
        "    print(\"That file already exists\")"
      ],
      "metadata": {
        "id": "0oDj6wSHgI5D"
      },
      "execution_count": null,
      "outputs": []
    },
    {
      "cell_type": "markdown",
      "source": [
        "# Reading files (.txt, .json, .csv)"
      ],
      "metadata": {
        "id": "uAD_SLSegLPD"
      }
    },
    {
      "cell_type": "markdown",
      "source": [
        "In the previous topic I created 4 output files in side the \"writing files\" folder"
      ],
      "metadata": {
        "id": "Y8rPDakkgbk5"
      }
    },
    {
      "cell_type": "code",
      "source": [
        "# .txt\n",
        "file_path = \"writing_files/output.txt\"\n",
        "\n",
        "try:\n",
        "    with open(file_path, \"r\") as file:\n",
        "        content = file.read()\n",
        "        print(content)\n",
        "except FileNotFoundError:\n",
        "    print(\"That file was not found\")\n",
        "except PermissionError:\n",
        "    print(\"You do not have permission to read that file\")"
      ],
      "metadata": {
        "id": "OWFLSE_xgV5I"
      },
      "execution_count": null,
      "outputs": []
    },
    {
      "cell_type": "code",
      "source": [
        "# .json\n",
        "\n",
        "import json\n",
        "\n",
        "file_path = \"writing_files/output3.json\"\n",
        "\n",
        "try:\n",
        "    with open(file_path, \"r\") as file:\n",
        "        content = json.load(file)\n",
        "        print(content)\n",
        "        print(content[\"name\"])\n",
        "except FileNotFoundError:\n",
        "    print(\"That file was not found\")\n",
        "except PermissionError:\n",
        "    print(\"You do not have permission to read that file\")"
      ],
      "metadata": {
        "id": "xX2ViFTEhrUE"
      },
      "execution_count": null,
      "outputs": []
    },
    {
      "cell_type": "code",
      "source": [
        "# .csv\n",
        "\n",
        "import csv\n",
        "\n",
        "file_path = \"writing_files/output4.csv\"\n",
        "\n",
        "try:\n",
        "    with open(file_path, \"r\") as file:\n",
        "        content = csv.reader(file)\n",
        "        for line in content:\n",
        "            print(line)\n",
        "            print(line[0])\n",
        "except FileNotFoundError:\n",
        "    print(\"That file was not found\")\n",
        "except PermissionError:\n",
        "    print(\"You do not have permission to read that file\")"
      ],
      "metadata": {
        "id": "HJnOUCw4iHCy"
      },
      "execution_count": null,
      "outputs": []
    },
    {
      "cell_type": "markdown",
      "source": [
        "# Dates and Times"
      ],
      "metadata": {
        "id": "sTx0AUs3ixrd"
      }
    },
    {
      "cell_type": "markdown",
      "source": [
        "How to work with dates and times"
      ],
      "metadata": {
        "id": "AqqkyjFdizdI"
      }
    },
    {
      "cell_type": "code",
      "source": [
        "import datetime # uses computers clock\n",
        "\n",
        "date = datetime.date(2000, 12, 25)  # Christmas 2000\n",
        "today = datetime.date.today() # day you ran this\n",
        "\n",
        "time = datetime.time(12, 35, 0) # hour, minutes, seconds\n",
        "now = datetime.datetime.now() # returns date and time\n",
        "\n",
        "now2 = now.strftime(\"%H:%M:%S - %m/%d/%Y\")   # strftime() = string format time method\n",
        "\n",
        "print(date)\n",
        "print(today)\n",
        "print(time)\n",
        "print(now)\n",
        "print(now2)"
      ],
      "metadata": {
        "colab": {
          "base_uri": "https://localhost:8080/"
        },
        "id": "nwMiuBrui4iD",
        "outputId": "78c12174-2cc2-4c2c-d52b-43251aaeb562"
      },
      "execution_count": null,
      "outputs": [
        {
          "output_type": "stream",
          "name": "stdout",
          "text": [
            "2000-12-25\n",
            "2025-06-17\n",
            "12:35:00\n",
            "2025-06-17 20:24:27.475995\n",
            "20:24:27 - 06/17/2025\n"
          ]
        }
      ]
    },
    {
      "cell_type": "code",
      "source": [
        "# see if the current date and time has passed a target date and time\n",
        "target_datetime = datetime.datetime(2030, 12, 25, 8, 30, 1) # 12/25/2030 8:30:01am\n",
        "current_datetime = datetime.datetime.now()\n",
        "\n",
        "if current_datetime > target_datetime:\n",
        "    print(\"The target date has passed\")\n",
        "else:\n",
        "    print(\"The target date has not passed\")"
      ],
      "metadata": {
        "colab": {
          "base_uri": "https://localhost:8080/"
        },
        "id": "OTMTB5cXjlGr",
        "outputId": "18271c63-8d98-410d-ae6f-e70669f411bd"
      },
      "execution_count": null,
      "outputs": [
        {
          "output_type": "stream",
          "name": "stdout",
          "text": [
            "The target date and time has not yet passed\n"
          ]
        }
      ]
    },
    {
      "cell_type": "markdown",
      "source": [
        "# Alarm Clock"
      ],
      "metadata": {
        "id": "9kEcL8Fdk6DI"
      }
    },
    {
      "cell_type": "markdown",
      "source": [
        "Skipped this example for time. Time 8:54:48-9:05:05"
      ],
      "metadata": {
        "id": "NazvI9EGk7q6"
      }
    },
    {
      "cell_type": "markdown",
      "source": [
        "# Multithreading"
      ],
      "metadata": {
        "id": "TGk0knEgqm4K"
      }
    },
    {
      "cell_type": "markdown",
      "source": [
        "multithreading = used to preform mulitple tasks concurrently (mulittasking)\n",
        "  * Good for I/O bound taskslike reading files and fetching data from APIs\n",
        "  * threading.Thread(target=my_function)"
      ],
      "metadata": {
        "id": "1yNUmiIoqqSz"
      }
    },
    {
      "cell_type": "markdown",
      "source": [
        "**Examples**"
      ],
      "metadata": {
        "id": "ga_rrdQYrHQi"
      }
    },
    {
      "cell_type": "code",
      "source": [
        "import threading\n",
        "import time\n",
        "\n",
        "def walk_dog():\n",
        "  time.sleep(8) # walking the dog takes 8 seconds\n",
        "  print(\"You finish walking the dog\")\n",
        "\n",
        "def take_out_trash():\n",
        "  time.sleep(2)\n",
        "  print(\"You take out the trash\")\n",
        "\n",
        "def get_mail():\n",
        "  time.sleep(4)\n",
        "  print(\"You get the mail\")\n",
        "\n",
        "walk_dog()\n",
        "take_out_trash()\n",
        "get_mail()\n",
        "\n",
        "# these functions are running on the same thread, the main thread (main Python program)\n",
        "\n"
      ],
      "metadata": {
        "colab": {
          "base_uri": "https://localhost:8080/"
        },
        "id": "A691CKpMrK6c",
        "outputId": "de61c285-6ab0-41ce-9277-57f98eb21a2c"
      },
      "execution_count": null,
      "outputs": [
        {
          "output_type": "stream",
          "name": "stdout",
          "text": [
            "You finish walking the dog\n",
            "You take out th trash\n",
            "You get the mail\n"
          ]
        }
      ]
    },
    {
      "cell_type": "code",
      "source": [
        "import threading\n",
        "import time\n",
        "\n",
        "def walk_dog(first):\n",
        "  time.sleep(8) # walking the dog takes 8 seconds\n",
        "  print(f\"You finish walking {first}\")\n",
        "\n",
        "def take_out_trash(room, type):\n",
        "  time.sleep(2)\n",
        "  print(f\"You took the {room} trash to the {type} bin\")\n",
        "\n",
        "def get_mail():\n",
        "  time.sleep(4)\n",
        "  print(\"You get the mail\")\n",
        "\n",
        "# could do all the same tasks at the same time\n",
        "# Create threads\n",
        "chore1 = threading.Thread(target=walk_dog, args=(\"Hobbes\",))  # have to end in a comma even though there is 1 arguement because it is a tuple\n",
        "chore2 = threading.Thread(target=take_out_trash, args=(\"Kitchen\", \"Recycle\"))\n",
        "chore3 = threading.Thread(target=get_mail)\n",
        "\n",
        "# Start threads\n",
        "chore1.start()\n",
        "chore2.start()\n",
        "chore3.start()\n",
        "\n",
        "# Wait for all threads to finish\n",
        "chore1.join()\n",
        "chore2.join()\n",
        "chore3.join()\n",
        "\n",
        "print(\"\\nAll chores have been done\")"
      ],
      "metadata": {
        "colab": {
          "base_uri": "https://localhost:8080/"
        },
        "id": "EVoig8Sysx8F",
        "outputId": "1da6fd96-852d-4724-b5dd-dca5d8d485a9"
      },
      "execution_count": null,
      "outputs": [
        {
          "output_type": "stream",
          "name": "stdout",
          "text": [
            "You took the Kitchen trash to the Recycle bin\n",
            "You get the mail\n",
            "You finish walking Hobbes\n",
            "\n",
            "All chores have been done\n"
          ]
        }
      ]
    },
    {
      "cell_type": "markdown",
      "source": [
        "# ⭐️Request API data⭐️"
      ],
      "metadata": {
        "id": "QUkgCSe6vRrj"
      }
    },
    {
      "cell_type": "markdown",
      "source": [
        "Went to VS code for this"
      ],
      "metadata": {
        "id": "V498YME0viFY"
      }
    },
    {
      "cell_type": "code",
      "source": [
        "# how to connect to an API using Python\n",
        "# https://pokeapi.co/ -- API I used\n",
        "\n",
        "import requests # allows you to request an API\n",
        "\n",
        "base_url = \"https://pokeapi.co/api/v2/\"\n",
        "\n",
        "def get_pokemon_info(name):\n",
        "    url = f\"{base_url}/pokemon/{name}\"\n",
        "    response = requests.get(url)   # returns a response object\n",
        "\n",
        "    if response.status_code == 200:\n",
        "        pokemon_data = response.json()\n",
        "        return pokemon_data\n",
        "    else:\n",
        "        print(f\"Failed to retrieve data {response.status_code}\")\n",
        "\n",
        "pokemon_name = \"linoone\"\n",
        "pokemon_info = get_pokemon_info(pokemon_name)\n",
        "\n",
        "if pokemon_info:\n",
        "    print(f\"Name: {pokemon_info['name'].capitalize()}\")\n",
        "    print(f\"ID: {pokemon_info['id']}\")\n",
        "    print(f\"Height: {pokemon_info['height']}\")\n",
        "    print(f\"Weight: {pokemon_info['weight']}\")"
      ],
      "metadata": {
        "id": "ZWA0E5LazYvP"
      },
      "execution_count": null,
      "outputs": []
    },
    {
      "cell_type": "markdown",
      "source": [
        "# GUI's!"
      ],
      "metadata": {
        "id": "lTruwWE0zZmU"
      }
    },
    {
      "cell_type": "markdown",
      "source": [
        "Went to VS code for this. Going to have multiple sub headings for this because GUI have a lot about them"
      ],
      "metadata": {
        "id": "LNVKQX5PzgMc"
      }
    },
    {
      "cell_type": "markdown",
      "source": [
        "## Intro"
      ],
      "metadata": {
        "id": "ptwIhAe6zuHk"
      }
    },
    {
      "cell_type": "code",
      "source": [
        "# PyQt5 intro\n",
        "import sys     # \"this module provides access to some variables used or maintained by the interpreter and to functions that interact strongly with the interpreter\"\n",
        "from PyQt5.QtWidgets import QApplication, QMainWindow\n",
        "from PyQt5.QtGui import QIcon\n",
        "\n",
        "class MainWindow(QMainWindow):\n",
        "    def __init__(self):\n",
        "        super().__init__()\n",
        "        self.setWindowTitle(\"GUI intro\")\n",
        "        self.setGeometry(0, 0, 500, 500)   # x, y, width, height\n",
        "        self.setWindowIcon(QIcon(\"paddington.png\"))\n",
        "\n",
        "def main():\n",
        "    app = QApplication(sys.argv)    # \"sys.argv\" allows PyQt to process any command line argumens intended for it\n",
        "    window = MainWindow()\n",
        "    window.show()\n",
        "    sys.exit(app.exec_()) # \".exec_()\" waits for user input and handles events. Makes sure window stays showing\n",
        "\n",
        "if __name__ == \"__main__\":\n",
        "    main()"
      ],
      "metadata": {
        "id": "YXvy4XmUzvOI"
      },
      "execution_count": null,
      "outputs": []
    },
    {
      "cell_type": "markdown",
      "source": [
        "## Labels"
      ],
      "metadata": {
        "id": "iBq8XmXt6dWe"
      }
    },
    {
      "cell_type": "code",
      "source": [
        "# PyQt5 QLabels\n",
        "import sys     # \"this module provides access to some variables used or maintained by the interpreter and to functions that interact strongly with the interpreter\"\n",
        "from PyQt5.QtWidgets import QApplication, QMainWindow, QLabel\n",
        "from PyQt5.QtGui import QFont\n",
        "from PyQt5.QtCore import Qt # Qt is used for alignments\n",
        "\n",
        "\n",
        "class MainWindow(QMainWindow):\n",
        "    def __init__(self):\n",
        "        super().__init__()\n",
        "        self.setGeometry(0, 0, 500, 500)   # x, y, width, height\n",
        "\n",
        "        label = QLabel(\"Hello\", self)\n",
        "        label.setFont(QFont(\"Arial\", 30))\n",
        "        label.setGeometry(0, 0, 500, 100)\n",
        "        label.setStyleSheet(\"color: blue;\"\n",
        "                            \"background-color: green;\"\n",
        "                            \"font-weight: bold;\"\n",
        "                            \"text-decoration: underline;\")\n",
        "        # vertical alignment\n",
        "        # label.setAlignment(Qt.AlignTop) # vertically aligned to the top\n",
        "        # label.setAlignment(Qt.AlignBottom)\n",
        "        # label.setAlignment(Qt.AlignVCenter)\n",
        "\n",
        "        # horizontal aligment\n",
        "        # label.setAlignment(Qt.AlignRight)   # horizaontally aligned right\n",
        "        # label.setAlignment(Qt.AlignHCenter)\n",
        "        # label.setAlignment(Qt.AlignLeft)\n",
        "\n",
        "        # combining horizontal and vertical positioning\n",
        "        # label.setAlignment(Qt.AlignHCenter | Qt.AlignVCenter)   # center and center\n",
        "        label.setAlignment(Qt.AlignCenter)   # center and center\n",
        "\n",
        "def main():\n",
        "    app = QApplication(sys.argv)    # \"sys.argv\" allows PyQt to process any command line argumens intended for it\n",
        "    window = MainWindow()\n",
        "    window.show()\n",
        "    sys.exit(app.exec_()) # \".exec_()\" waits for user input and handles events. Makes sure window stays showing\n",
        "\n",
        "if __name__ == \"__main__\":\n",
        "    main()"
      ],
      "metadata": {
        "id": "F2iY1i-G6ewC"
      },
      "execution_count": null,
      "outputs": []
    },
    {
      "cell_type": "markdown",
      "source": [
        "## Images"
      ],
      "metadata": {
        "id": "XVC9yfErBrac"
      }
    },
    {
      "cell_type": "code",
      "source": [
        "# PyQt5 QLabels\n",
        "import sys     # \"this module provides access to some variables used or maintained by the interpreter and to functions that interact strongly with the interpreter\"\n",
        "from PyQt5.QtWidgets import QApplication, QMainWindow, QLabel\n",
        "from PyQt5.QtGui import QPixmap\n",
        "\n",
        "\n",
        "class MainWindow(QMainWindow):\n",
        "    def __init__(self):\n",
        "        super().__init__()\n",
        "        self.setGeometry(0, 0, 500, 500)   # x, y, width, height\n",
        "\n",
        "        label = QLabel(self)    # self refers to the window object\n",
        "        label.setGeometry(0,0, 250, 250)    # size of image\n",
        "\n",
        "        pixmap = QPixmap(\"GUIs/paddington.png\")\n",
        "        label.setPixmap(pixmap)\n",
        "\n",
        "        label.setScaledContents(True)\n",
        "\n",
        "        label.setGeometry((self.width() - label.width()) // 2,  # integer division to round to the nearest whole pixel\n",
        "                          (self.height()- label.height()) // 2,\n",
        "                          label.width(),\n",
        "                          label.height())\n",
        "\n",
        "\n",
        "def main():\n",
        "    app = QApplication(sys.argv)    # \"sys.argv\" allows PyQt to process any command line argumens intended for it\n",
        "    window = MainWindow()\n",
        "    window.show()\n",
        "    sys.exit(app.exec_()) # \".exec_()\" waits for user input and handles events. Makes sure window stays showing\n",
        "\n",
        "if __name__ == \"__main__\":\n",
        "    main()"
      ],
      "metadata": {
        "id": "b9YkINVIBv9y"
      },
      "execution_count": null,
      "outputs": []
    },
    {
      "cell_type": "markdown",
      "source": [
        "## Layouts"
      ],
      "metadata": {
        "id": "pgsHlGwwE0o4"
      }
    },
    {
      "cell_type": "code",
      "source": [
        "# PyQt5 QLabels\n",
        "import sys     # \"this module provides access to some variables used or maintained by the interpreter and to functions that interact strongly with the interpreter\"\n",
        "from PyQt5.QtWidgets import QApplication, QMainWindow, QLabel, QWidget, QVBoxLayout, QHBoxLayout, QGridLayout\n",
        "\n",
        "\n",
        "class MainWindow(QMainWindow):  # MaiinWindow widgets have a specific design and layout structure that is normally incompatable with layout managers\n",
        "    def __init__(self):\n",
        "        super().__init__()\n",
        "        self.setGeometry(0, 0, 500, 500)   # x, y, width, height\n",
        "        self.initUI()\n",
        "\n",
        "    def initUI(self):\n",
        "        central_widget = QWidget()  # will add layout managers to the central_widget\n",
        "        self.setCentralWidget(central_widget)   # central widget is then added to the MainWindow\n",
        "\n",
        "        # need widgets to organize\n",
        "        label1 = QLabel(\"#1\")\n",
        "        label2 = QLabel(\"#2\")\n",
        "        label3 = QLabel(\"#3\")\n",
        "        label4 = QLabel(\"#4\")\n",
        "        label5 = QLabel(\"#5\")\n",
        "\n",
        "        label1.setStyleSheet(\"background-color: red;\")\n",
        "        label2.setStyleSheet(\"background-color: yellow;\")\n",
        "        label3.setStyleSheet(\"background-color: green;\")\n",
        "        label4.setStyleSheet(\"background-color: blue;\")\n",
        "        label5.setStyleSheet(\"background-color: purple;\")\n",
        "        '''\n",
        "        # vertical layout manager\n",
        "        vbox = QVBoxLayout()\n",
        "        vbox.addWidget(label1)\n",
        "        vbox.addWidget(label2)\n",
        "        vbox.addWidget(label3)\n",
        "        vbox.addWidget(label4)\n",
        "        vbox.addWidget(label5)\n",
        "\n",
        "        central_widget.setLayout(vbox)\n",
        "\n",
        "        # horizontal layout manager\n",
        "        hbox = QHBoxLayout()\n",
        "        hbox.addWidget(label1)\n",
        "        hbox.addWidget(label2)\n",
        "        hbox.addWidget(label3)\n",
        "        hbox.addWidget(label4)\n",
        "        hbox.addWidget(label5)\n",
        "\n",
        "        central_widget.setLayout(hbox)\n",
        "        '''\n",
        "        # grid layout manager\n",
        "        grid = QGridLayout()\n",
        "        grid.addWidget(label1, 0, 0)  # have to specify row and column for grid\n",
        "        grid.addWidget(label2, 0, 1)\n",
        "        grid.addWidget(label3, 1, 0)\n",
        "        grid.addWidget(label4, 1, 1)\n",
        "        grid.addWidget(label5, 2, 2)\n",
        "\n",
        "        central_widget.setLayout(grid)\n",
        "\n",
        "\n",
        "def main():\n",
        "    app = QApplication(sys.argv)    # \"sys.argv\" allows PyQt to process any command line argumens intended for it\n",
        "    window = MainWindow()\n",
        "    window.show()\n",
        "    sys.exit(app.exec_()) # \".exec_()\" waits for user input and handles events. Makes sure window stays showing\n",
        "\n",
        "if __name__ == \"__main__\":\n",
        "    main()"
      ],
      "metadata": {
        "id": "1D51tR5eE4br"
      },
      "execution_count": null,
      "outputs": []
    },
    {
      "cell_type": "markdown",
      "source": [
        "## Buttons"
      ],
      "metadata": {
        "id": "gyDDDCopLcXM"
      }
    },
    {
      "cell_type": "code",
      "source": [
        "# Buttons\n",
        "import sys     # \"this module provides access to some variables used or maintained by the interpreter and to functions that interact strongly with the interpreter\"\n",
        "from PyQt5.QtWidgets import QApplication, QMainWindow, QPushButton, QLabel\n",
        "\n",
        "class MainWindow(QMainWindow):\n",
        "    def __init__(self):\n",
        "        super().__init__()\n",
        "        self.setGeometry(0, 0, 500, 500)   # x, y, width, height\n",
        "        self.button = QPushButton(\"Click me!\", self) # local variable. Did not put self.button there. Changed to self.button later\n",
        "        self.label = QLabel(\"Hello\", self)\n",
        "        self.initUI()\n",
        "\n",
        "    def initUI(self):\n",
        "        self.button.setGeometry(150, 200, 200, 100)\n",
        "        self.button.setStyleSheet(\"font-size: 30px;\")\n",
        "        self.button.clicked.connect(self.on_click)  # signal connected to a slot. clicked = signal, slot = self.on_click. Signal is an event and the slot is the action the widget will take\n",
        "\n",
        "        self.label.setGeometry(150, 300, 200, 100)\n",
        "        self.label.setStyleSheet(\"font-size: 50px;\")\n",
        "\n",
        "    ''' # before we added self.label\n",
        "    def on_click(self):\n",
        "        print(\"Button clicked!\")\n",
        "        self.button.setText(\"Clicked!\")\n",
        "        self.button.setDisabled(True)\n",
        "    '''\n",
        "\n",
        "    def on_click(self):\n",
        "        self.label.setText(\"Goodbye\")\n",
        "\n",
        "\n",
        "def main():\n",
        "    app = QApplication(sys.argv)    # \"sys.argv\" allows PyQt to process any command line argumens intended for it\n",
        "    window = MainWindow()\n",
        "    window.show()\n",
        "    sys.exit(app.exec_()) # \".exec_()\" waits for user input and handles events. Makes sure window stays showing\n",
        "\n",
        "if __name__ == \"__main__\":\n",
        "    main()"
      ],
      "metadata": {
        "id": "rs3vMf5KLiDa"
      },
      "execution_count": null,
      "outputs": []
    },
    {
      "cell_type": "markdown",
      "source": [
        "## Check boxes"
      ],
      "metadata": {
        "id": "Kqq6u5wEPI4D"
      }
    },
    {
      "cell_type": "code",
      "source": [
        "# Checkboxes\n",
        "import sys     # \"this module provides access to some variables used or maintained by the interpreter and to functions that interact strongly with the interpreter\"\n",
        "from PyQt5.QtWidgets import QApplication, QMainWindow, QCheckBox\n",
        "from PyQt5.QtCore import Qt\n",
        "\n",
        "class MainWindow(QMainWindow):\n",
        "    def __init__(self):\n",
        "        super().__init__()\n",
        "        self.setGeometry(0, 0, 500, 500)   # x, y, width, height\n",
        "        self.checkbox = QCheckBox(\"Do you like philosophy?\", self)\n",
        "        self.initUI()\n",
        "\n",
        "    def initUI(self):\n",
        "        self.checkbox.setGeometry(10, 0, 500, 100)\n",
        "        self.checkbox.setStyleSheet(\"font-size: 20px;\"\n",
        "                                    \"font-family: Arial;\")\n",
        "        self.checkbox.setChecked(False)\n",
        "        self.checkbox.stateChanged.connect(self.checkbox_changed)   # checkbox.*signal*.connect(*slot*)\n",
        "\n",
        "    def checkbox_changed(self, state):\n",
        "        if state == Qt.Checked:\n",
        "            print(\"You like philosophy\")\n",
        "        else:\n",
        "            print(\"You don't like philosophy :(\")\n",
        "\n",
        "def main():\n",
        "    app = QApplication(sys.argv)    # \"sys.argv\" allows PyQt to process any command line argumens intended for it\n",
        "    window = MainWindow()\n",
        "    window.show()\n",
        "    sys.exit(app.exec_()) # \".exec_()\" waits for user input and handles events. Makes sure window stays showing\n",
        "\n",
        "if __name__ == \"__main__\":\n",
        "    main()"
      ],
      "metadata": {
        "id": "hsXB85KwPPpu"
      },
      "execution_count": null,
      "outputs": []
    },
    {
      "cell_type": "markdown",
      "source": [
        "## Radio Buttons"
      ],
      "metadata": {
        "id": "2YPMmbrMRRfO"
      }
    },
    {
      "cell_type": "code",
      "source": [
        "# Radio buttons - limited to only 1 option\n",
        "import sys     # \"this module provides access to some variables used or maintained by the interpreter and to functions that interact strongly with the interpreter\"\n",
        "from PyQt5.QtWidgets import QApplication, QMainWindow, QRadioButton, QButtonGroup\n",
        "from PyQt5.QtCore import Qt\n",
        "\n",
        "class MainWindow(QMainWindow):\n",
        "    def __init__(self):\n",
        "        super().__init__()\n",
        "        self.setGeometry(0, 0, 500, 500)   # x, y, width, height\n",
        "        self.radio1 = QRadioButton(\"Visa\", self)\n",
        "        self.radio2 = QRadioButton(\"Mastercard\", self)\n",
        "        self.radio3 = QRadioButton(\"Gift Card\", self)\n",
        "        self.radio4 = QRadioButton(\"In-Store\", self)\n",
        "        self.radio5 = QRadioButton(\"Online\", self)\n",
        "        self.button_group1 = QButtonGroup(self)\n",
        "        self.button_group2 = QButtonGroup(self)\n",
        "        self.initUI()\n",
        "\n",
        "    def initUI(self):\n",
        "        self.radio1.setGeometry(0, 0, 300, 50)\n",
        "        self.radio2.setGeometry(0, 50, 300, 50)\n",
        "        self.radio3.setGeometry(0, 100, 300, 50)\n",
        "        self.radio4.setGeometry(0, 150, 300, 50)\n",
        "        self.radio5.setGeometry(0, 200, 300, 50)\n",
        "\n",
        "        # apply CSS properties to a group of widgets\n",
        "        self.setStyleSheet(\"QRadioButton{\"\n",
        "                            \"font-size: 40px;\"\n",
        "                            \"font-family: Arial;\"\n",
        "                            \"padding: 10px;\"\n",
        "                            \"}\")\n",
        "\n",
        "        # can only select 1 radio button in a group, this is why we needed separate groups\n",
        "        self.button_group1.addButton(self.radio1)\n",
        "        self.button_group1.addButton(self.radio2)\n",
        "        self.button_group1.addButton(self.radio3)\n",
        "\n",
        "        self.button_group2.addButton(self.radio4)\n",
        "        self.button_group2.addButton(self.radio5)\n",
        "\n",
        "        # to make the buttons do something we need to connect a signal to a slot\n",
        "        self.radio1.toggled.connect(self.radio_button_channged)\n",
        "        self.radio2.toggled.connect(self.radio_button_channged)\n",
        "        self.radio3.toggled.connect(self.radio_button_channged)\n",
        "        self.radio4.toggled.connect(self.radio_button_channged)\n",
        "        self.radio5.toggled.connect(self.radio_button_channged)\n",
        "\n",
        "    def radio_button_channged(self):\n",
        "        # finds which which radio button sent the signal and stores it in a local variable\n",
        "        radio_button = self.sender()    # sender returns the widget that sent the signal\n",
        "        if radio_button.isChecked():\n",
        "            print(f\"{radio_button.text()} is selected\")\n",
        "\n",
        "\n",
        "def main():\n",
        "    app = QApplication(sys.argv)    # \"sys.argv\" allows PyQt to process any command line argumens intended for it\n",
        "    window = MainWindow()\n",
        "    window.show()\n",
        "    sys.exit(app.exec_()) # \".exec_()\" waits for user input and handles events. Makes sure window stays showing\n",
        "\n",
        "if __name__ == \"__main__\":\n",
        "    main()"
      ],
      "metadata": {
        "id": "MtZEbyPMRW0Q"
      },
      "execution_count": null,
      "outputs": []
    },
    {
      "cell_type": "markdown",
      "source": [
        "## Line edits/ Text Boxes"
      ],
      "metadata": {
        "id": "YL8xFiKiVrR0"
      }
    },
    {
      "cell_type": "code",
      "source": [
        "# line edits a.k.a text boxes\n",
        "import sys     # \"this module provides access to some variables used or maintained by the interpreter and to functions that interact strongly with the interpreter\"\n",
        "from PyQt5.QtWidgets import QApplication, QMainWindow, QLineEdit, QPushButton\n",
        "\n",
        "class MainWindow(QMainWindow):\n",
        "    def __init__(self):\n",
        "        super().__init__()\n",
        "        self.setGeometry(0, 0, 500, 500)   # x, y, width, height\n",
        "        self.line_edit = QLineEdit(self)\n",
        "        self.button = QPushButton(\"Submit\", self)\n",
        "        self.initUI()\n",
        "\n",
        "    def initUI(self):\n",
        "        self.line_edit.setGeometry(10, 10, 200, 40)\n",
        "        self.button.setGeometry(210, 10, 100, 40)\n",
        "        self.line_edit.setStyleSheet(\"font-size: 25px;\"\n",
        "                                    \"font-family: Arial;\")\n",
        "        self.button.setStyleSheet(\"font-size: 25px;\"\n",
        "                                    \"font-family: Arial;\")\n",
        "        self.line_edit.setPlaceholderText(\"Enter your name\")\n",
        "        self.button.clicked.connect(self.submit)\n",
        "\n",
        "    def submit(self):\n",
        "        text = self.line_edit.text()    # returns text\n",
        "        print(f\"Hello {text}\")\n",
        "\n",
        "\n",
        "def main():\n",
        "    app = QApplication(sys.argv)    # \"sys.argv\" allows PyQt to process any command line argumens intended for it\n",
        "    window = MainWindow()\n",
        "    window.show()\n",
        "    sys.exit(app.exec_()) # \".exec_()\" waits for user input and handles events. Makes sure window stays showing\n",
        "\n",
        "if __name__ == \"__main__\":\n",
        "    main()"
      ],
      "metadata": {
        "id": "GPPpkUNBV261"
      },
      "execution_count": null,
      "outputs": []
    },
    {
      "cell_type": "markdown",
      "source": [
        "## CSS Styles"
      ],
      "metadata": {
        "id": "7ySVPS_m724c"
      }
    },
    {
      "cell_type": "code",
      "source": [
        "# CSS means cascading style sheets\n",
        "# CSS styles using setStyleSheet()\n",
        "import sys     # \"this module provides access to some variables used or maintained by the interpreter and to functions that interact strongly with the interpreter\"\n",
        "from PyQt5.QtWidgets import QApplication, QMainWindow, QPushButton, QWidget, QHBoxLayout\n",
        "\n",
        "class MainWindow(QMainWindow):\n",
        "    def __init__(self):\n",
        "        super().__init__()\n",
        "        self.button1 = QPushButton(\"#1\")    # since I'm using a layout manager I don't need to add the button to self\n",
        "        self.button2 = QPushButton(\"#2\")\n",
        "        self.button3 = QPushButton(\"#3\")\n",
        "        self.initUI()\n",
        "\n",
        "    def initUI(self):\n",
        "        # to create layout manager in the MainWindow we need to add a layout manager (QHboxLayout) to a central widget (QWidget), and this central widget will be added to the main window\n",
        "        # this is because main window widgets already have a specified layout and format\n",
        "        central_widget = QWidget()\n",
        "        self.setCentralWidget(central_widget)\n",
        "\n",
        "        hbox = QHBoxLayout()\n",
        "\n",
        "        hbox.addWidget(self.button1)\n",
        "        hbox.addWidget(self.button2)\n",
        "        hbox.addWidget(self.button3)\n",
        "\n",
        "        central_widget.setLayout(hbox)\n",
        "\n",
        "        self.button1.setObjectName(\"button1\")\n",
        "        self.button2.setObjectName(\"button2\")\n",
        "        self.button3.setObjectName(\"button3\")\n",
        "\n",
        "        # triple quotes create a mulit-line strings\n",
        "        self.setStyleSheet(\"\"\"\n",
        "                QPushButton{\n",
        "                    font-size: 40px;\n",
        "                    font-family: Arial;\n",
        "                    padding: 15px 75px;\n",
        "                    margin: 25px;\n",
        "                    border: 3px solid;\n",
        "                    border-radius: 15px;\n",
        "                }\n",
        "\n",
        "                QPushButton#button1{\n",
        "                    background-color: red;\n",
        "                }\n",
        "\n",
        "                QPushButton#button2{\n",
        "                    background-color: hsl(122, 100, 64);\n",
        "                }\n",
        "\n",
        "                #button3{\n",
        "                    background-color: hsl(204, 100, 64);\n",
        "                }\n",
        "\n",
        "                QPushButton#button1:hover{\n",
        "                    background-color: red;\n",
        "                }\n",
        "\n",
        "                QPushButton#button2:hover{\n",
        "                    background-color: hsl(122, 100, 84);\n",
        "                }\n",
        "\n",
        "                #button3:hover{\n",
        "                    background-color: hsl(204, 100, 84);\n",
        "                }\n",
        "        \"\"\")\n",
        "\n",
        "\n",
        "def main():\n",
        "    app = QApplication(sys.argv)    # \"sys.argv\" allows PyQt to process any command line argumens intended for it\n",
        "    window = MainWindow()\n",
        "    window.show()\n",
        "    sys.exit(app.exec_()) # \".exec_()\" waits for user input and handles events. Makes sure window stays showing\n",
        "\n",
        "if __name__ == \"__main__\":\n",
        "    main()"
      ],
      "metadata": {
        "id": "ARR_Y5dY75gt"
      },
      "execution_count": null,
      "outputs": []
    },
    {
      "cell_type": "markdown",
      "source": [
        "# Time Jump"
      ],
      "metadata": {
        "id": "2NGIc9RNBLCN"
      }
    },
    {
      "cell_type": "markdown",
      "source": [
        "Started the jump at 10:32:48 -  11:06:03\n",
        "  * Just did a few mini projects"
      ],
      "metadata": {
        "id": "u7Lt_luFBMV4"
      }
    },
    {
      "cell_type": "markdown",
      "source": [
        "# Weather API App"
      ],
      "metadata": {
        "id": "Oq3lUw91BYvv"
      }
    },
    {
      "cell_type": "markdown",
      "source": [
        "Final project"
      ],
      "metadata": {
        "id": "yKyd2yj1Bdd3"
      }
    },
    {
      "cell_type": "code",
      "source": [
        "# Weather App Project\n",
        "import sys      # handles sytems variables\n",
        "import requests     # module to make API requests\n",
        "from PyQt5.QtWidgets import QApplication, QWidget, QLabel, QLineEdit, QPushButton, QVBoxLayout\n",
        "from PyQt5.QtCore import Qt\n",
        "\n",
        "class WeatherApp(QWidget):\n",
        "    def __init__(self):\n",
        "        super().__init__()\n",
        "        self.city_label = QLabel(\"Enter city name: \", self)\n",
        "        self.city_input = QLineEdit(self)\n",
        "        self.get_weather_button = QPushButton(\"Get Weather\", self)  # calls API\n",
        "        self.temp_label = QLabel( self)\n",
        "        self.emoji_label = QLabel(self)\n",
        "        self.description_label = QLabel(self)\n",
        "        self.initUI()   # format design\n",
        "\n",
        "    def initUI(self):\n",
        "        self.setWindowTitle(\"Weather App\")\n",
        "\n",
        "        vbox = QVBoxLayout()\n",
        "\n",
        "        vbox.addWidget(self.city_label)\n",
        "        vbox.addWidget(self.city_input)\n",
        "        vbox.addWidget(self.get_weather_button)\n",
        "        vbox.addWidget(self.temp_label)\n",
        "        vbox.addWidget(self.emoji_label)\n",
        "        vbox.addWidget(self.description_label)\n",
        "\n",
        "        self.setLayout(vbox)\n",
        "\n",
        "        self.city_label.setAlignment(Qt.AlignCenter)\n",
        "        self.city_input.setAlignment(Qt.AlignCenter)\n",
        "        self.temp_label.setAlignment(Qt.AlignCenter)\n",
        "        self.emoji_label.setAlignment(Qt.AlignCenter)\n",
        "        self.description_label.setAlignment(Qt.AlignCenter)\n",
        "\n",
        "        self.city_label.setObjectName(\"city_label\")\n",
        "        self.city_input.setObjectName(\"city_input\")\n",
        "        self.get_weather_button.setObjectName(\"get_weather_button\")\n",
        "        self.temp_label.setObjectName(\"temp_label\")\n",
        "        self.emoji_label.setObjectName(\"emoji_label\")\n",
        "        self.description_label.setObjectName(\"description_label\")\n",
        "\n",
        "\n",
        "        self.setStyleSheet(\"\"\"\n",
        "                QLabel, QPushButton{\n",
        "                    font-family: Calibri\n",
        "                }\n",
        "                QLabel#city_label{\n",
        "                    font-size: 40px;\n",
        "                    font-style: italic;\n",
        "                }\n",
        "                QLineEdit#city_input{\n",
        "                    font-size: 40px;\n",
        "                    padding: 10px;\n",
        "                }\n",
        "                QPushButton#get_weather_button{\n",
        "                    font-size: 30px;\n",
        "                    font-weight: bold;\n",
        "                }\n",
        "                QLabel#temp_label{\n",
        "                    font-size: 75px;\n",
        "                }\n",
        "                QLabel#emoji_label{\n",
        "                    font-size: 100px;\n",
        "                    font-family: Segoe UI Emoji, \"Apple Color Emoji\", \"Noto Color Emoji\", sans-serif;\n",
        "                }\n",
        "                QLabel#description_label{\n",
        "                    font-size: 50px;\n",
        "                }\n",
        "\n",
        "        \"\"\")\n",
        "\n",
        "        # connect get_weather method\n",
        "        self.get_weather_button.clicked.connect(self.get_weather)\n",
        "\n",
        "\n",
        "    def get_weather(self):\n",
        "        api_key = \"bcaae7439da65b79c5510b454590ee1e\"\n",
        "        city = self.city_input.text()\n",
        "        url = f\"https://api.openweathermap.org/data/2.5/weather?q={city}&appid={api_key}\"\n",
        "\n",
        "        try:\n",
        "            response = requests.get(url)\n",
        "            response.raise_for_status()     # will raise an excpetion\n",
        "            data = response.json()\n",
        "\n",
        "            if data[\"cod\"] == 200:\n",
        "                self.display_weather(data)\n",
        "\n",
        "        except requests.exceptions.HTTPError as http_error:\n",
        "            match response.status_code:\n",
        "                case 400:\n",
        "                    self.display_error(\"Bad request:\\nPlease check your input\")\n",
        "                case 401:\n",
        "                    self.display_error(\"Unautorized:\\nInvalid API key\")\n",
        "                case 403:\n",
        "                    self.display_error(\"Forbidden:\\nAccess is denied\")\n",
        "                case 404:\n",
        "                    self.display_error(\"Not Found:\\nCity not found\")\n",
        "                case 500:\n",
        "                    self.display_error(\"Internal Server Error:\\nPlease try again later\")\n",
        "                case 502:\n",
        "                    self.display_error(\"Bad Gateway:\\nInvalid response from the server\")\n",
        "                case 403:\n",
        "                    self.display_error(\"Service Unavailable:\\nServer is down\")\n",
        "                case 504:\n",
        "                    self.display_error(\"Gateway Timeout:\\nNo response from the server\")\n",
        "                case _:\n",
        "                    self.display_error(f\"HTTP error occured\\n{http_error}\")\n",
        "        except requests.exceptions.ConnectionError:\n",
        "            self.display_error(\"Connection Error:\\nCheck your internet connection\")\n",
        "        except requests.exceptions.Timeout:\n",
        "            self.display_error(\"Timeout Error:\\nThe requests timed out\")\n",
        "        except requests.exceptions.TooManyRedirects:\n",
        "            self.display_error(\"Too many Redirects:\\nCheck the URL\")\n",
        "        except requests.exceptions.RequestException as req_error:\n",
        "            self.display_error(f\"Request Error:\\n{req_error}\")\n",
        "\n",
        "\n",
        "    def display_error(self, message):\n",
        "        self.temp_label.setStyleSheet(\"font-size: 30px;\")\n",
        "        self.temp_label.setText(message)\n",
        "        self.emoji_label.clear()\n",
        "        self.description_label.clear()\n",
        "\n",
        "    def display_weather(self, data):\n",
        "        self.temp_label.setStyleSheet(\"font-size: 75px;\")\n",
        "        temperature_k = data[\"main\"][\"temp\"]    # temp is a key in a main dict.\n",
        "        temperature_c =  temperature_k - 273.15\n",
        "        temperature_f = (temperature_k * 9/5) - 459.67\n",
        "        weather_id = data[\"weather\"][0][\"id\"]\n",
        "        weather_description = data[\"weather\"][0][\"description\"]\n",
        "\n",
        "        self.temp_label.setText(f\"{temperature_f:.0f}°F\")   # displays temp.\n",
        "        self.emoji_label.setText(self.get_weather_emoji(weather_id))\n",
        "        self.description_label.setText(weather_description) # displays desciption\n",
        "\n",
        "    @staticmethod\n",
        "    def get_weather_emoji(weather_id):\n",
        "        if 200 <= weather_id <= 232:\n",
        "            return \"⛈️\"\n",
        "        elif 300 <= weather_id <= 321:\n",
        "            return \"⛅️\"\n",
        "        elif 500 <= weather_id <= 531:\n",
        "            return \"🌧️\"\n",
        "        elif 600 <= weather_id <= 622:\n",
        "            return \"❄️\"\n",
        "        elif 701 <= weather_id <= 741:\n",
        "            return \"🌫️\"\n",
        "        elif weather_id == 762:\n",
        "            return \"🌋\"\n",
        "        elif weather_id == 771:\n",
        "            return \"💨\"\n",
        "        elif weather_id == 781:\n",
        "            return \"🌪️\"\n",
        "        elif weather_id == 800:\n",
        "            return \"☀️\"\n",
        "        elif 801 <= weather_id <= 804:\n",
        "            return \"☁️\"\n",
        "        else:\n",
        "            return \"\"\n",
        "\n",
        "if __name__ == \"__main__\":\n",
        "    app = QApplication(sys.argv)\n",
        "    weather_app = WeatherApp()\n",
        "    weather_app.show()\n",
        "    sys.exit(app.exec_())   # exec_ handles events"
      ],
      "metadata": {
        "id": "FUY1XK-5g3WJ"
      },
      "execution_count": null,
      "outputs": []
    }
  ]
}